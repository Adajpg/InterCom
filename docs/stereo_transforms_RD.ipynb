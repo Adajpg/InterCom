{
 "cells": [
  {
   "cell_type": "markdown",
   "metadata": {},
   "source": [
    "# RD-comparison of \"Stereo\" Transforms"
   ]
  },
  {
   "cell_type": "code",
   "execution_count": 342,
   "metadata": {},
   "outputs": [],
   "source": [
    "import numpy as np\n",
    "%matplotlib inline\n",
    "import matplotlib\n",
    "import matplotlib.pyplot as plt\n",
    "import sounddevice as sd\n",
    "import math"
   ]
  },
  {
   "cell_type": "code",
   "execution_count": 343,
   "metadata": {},
   "outputs": [],
   "source": [
    "def plot(x, y, xlabel='', ylabel='', title=''):\n",
    "    fig = plt.figure()\n",
    "    ax = fig.add_subplot(111)\n",
    "    ax.set_title(title)\n",
    "    ax.grid()\n",
    "    ax.xaxis.set_label_text(xlabel)\n",
    "    ax.yaxis.set_label_text(ylabel)\n",
    "    ax.plot(x, y)\n",
    "    plt.show(block=False)"
   ]
  },
  {
   "cell_type": "markdown",
   "metadata": {},
   "source": [
    "## Produce some sound ... for example, say something during 5 s\n",
    "This sound will be used to compare the RD performance of the transforms."
   ]
  },
  {
   "cell_type": "code",
   "execution_count": 344,
   "metadata": {},
   "outputs": [
    {
     "name": "stdout",
     "output_type": "stream",
     "text": [
      "Say something!\n",
      "done\n"
     ]
    }
   ],
   "source": [
    "fs = 44100\n",
    "duration = 5.0  # seconds\n",
    "x = sd.rec(int(duration * fs), samplerate=fs, channels=2, dtype=np.int16)\n",
    "print(\"Say something!\")\n",
    "while sd.wait():\n",
    "    pass\n",
    "print(\"done\")"
   ]
  },
  {
   "cell_type": "code",
   "execution_count": 345,
   "metadata": {
    "scrolled": true
   },
   "outputs": [
    {
     "data": {
      "image/png": "[encoded data removed]",
      "text/plain": [
       "<Figure size 432x288 with 1 Axes>"
      ]
     },
     "metadata": {
      "needs_background": "light"
     },
     "output_type": "display_data"
    }
   ],
   "source": [
    "sd.play(x)\n",
    "plot(np.linspace(0, len(x)-1, len(x)), x, \"Time\", \"Amplitude\", \"Audio Signal\")"
   ]
  },
  {
   "cell_type": "markdown",
   "metadata": {},
   "source": [
    "## RD stuff"
   ]
  },
  {
   "cell_type": "code",
   "execution_count": 392,
   "metadata": {},
   "outputs": [],
   "source": [
    "def average_energy(x):\n",
    "    return np.sum(x[:, 0].astype(np.double)*x[:, 0].astype(np.double))/len(x[:, 0]) + \\\n",
    "           np.sum(x[:, 1].astype(np.double)*x[:, 1].astype(np.double))/len(x[:, 1])\n",
    "    #return np.sum(x.astype(np.double)*x.astype(np.double))/len(x)\n",
    "    \n",
    "def RMSE(x, y):\n",
    "    error_signal = x - y\n",
    "    return math.sqrt(average_energy(error_signal))\n",
    "\n",
    "# Based on https://stackoverflow.com/questions/15450192/fastest-way-to-compute-entropy-in-python\n",
    "def entropy_in_bits_per_symbol(sequence_of_symbols):\n",
    "    value, counts = np.unique(sequence_of_symbols, return_counts = True)\n",
    "    probs = counts / len(sequence_of_symbols)\n",
    "    n_classes = np.count_nonzero(probs)\n",
    "\n",
    "    if n_classes <= 1:\n",
    "        return 0\n",
    "\n",
    "    entropy = 0.\n",
    "    for i in probs:\n",
    "        entropy -= i * math.log(i, 2)\n",
    "\n",
    "    return entropy\n",
    "\n",
    "def deadzone_quantizer(x, quantization_step):\n",
    "    k = (x / quantization_step).astype(np.int)\n",
    "    return k\n",
    "\n",
    "def deadzone_dequantizer(k, quantization_step):\n",
    "    y = quantization_step * k\n",
    "    return y\n",
    "\n",
    "def deadzone_quantization(x, quantization_step):\n",
    "    k = deadzone_quantizer(x, quantization_step)\n",
    "    y = deadzone_dequantizer(k, quantization_step)\n",
    "    return k, y\n",
    "\n",
    "def RD_curve(chunk, analyze, synthesize):\n",
    "    RD_points = []\n",
    "    for q_step in range(16, 1024, 32):\n",
    "        analyzed_chunk = analyze(chunk)\n",
    "        k, y = deadzone_quantization(analyzed_chunk, q_step)\n",
    "        rate = entropy_in_bits_per_symbol(k[:, 0]) + entropy_in_bits_per_symbol(k[:, 1])\n",
    "        reconstructed_chunk = synthesize(y)\n",
    "        distortion = RMSE(chunk, reconstructed_chunk)\n",
    "        RD_points.append((rate, distortion))\n",
    "    return RD_points"
   ]
  },
  {
   "cell_type": "markdown",
   "metadata": {},
   "source": [
    "## [Karhunen-Loéve Transform (KLT)](https://en.wikipedia.org/wiki/Karhunen%E2%80%93Lo%C3%A8ve_theorem), [Hadamard](https://en.wikipedia.org/wiki/Hadamard_transform) and [Haar](https://en.wikipedia.org/wiki/Haar_wavelet#Haar_matrix)\n",
    "\n",
    "The rows (i.e., the [basis](https://en.wikipedia.org/wiki/Basis_(linear_algebra)) vectors) of the of the [discrete](https://en.wikipedia.org/wiki/Discrete_transform) (all transforms discussed in this document are discrete) KLT consist of the [eigenvectors](https://en.wikipedia.org/wiki/Eigenvalues_and_eigenvectors#:~:text=In%20linear%20algebra%2C%20an%20eigenvector,which%20the%20eigenvector%20is%20scaled.) of the [autorrelation matrix](https://en.wikipedia.org/wiki/Autocorrelation#Auto-correlation_of_random_vectors) (also known as the [covariance](https://en.wikipedia.org/wiki/Covariance) matrix) of the transformed signal. It can be assumed that, on average, the amount of information provided by a subband (the set of coefficients that correspond to a given frequency in block-based transform coding) is proportional to the variance in this subband.\n",
    "\n",
    "The KLT minize the [geometric mean](https://en.wikipedia.org/wiki/Geometric_mean) of the variance of the transform coefficients. Hence, the KLT provides optimum energy concentration and therefore, the largest [transformation coding gain (TG)](/http://ws2.binghamton.edu/fowler/fowler%20personal%20page/EE523_files/Ch_13_3%20Transform%20Coding%20-%20Coding%20Gain%20&%20Classic%20Transforms%20(PPT).pdf) of any linear transform coding method. Unfortunately, the autocorrelation matrix depends on the transformed signal and therefore, the [change of basis](https://en.wikipedia.org/wiki/Change_of_basis) (the transform) provided by the KLT is signal dependent (each signal needs to be transformed by a different transform matrix), except in the case of 2-samples [block coding](https://web.stanford.edu/class/ee368b/Handouts/11-TransformCoding.pdf).\n",
    "\n",
    "The TG is defined as the ratio of the arithmetic mean of the variances of the coefficients to their geometric means:\n",
    "\n",
    "\\begin{equation}\n",
    "G_{TC} = \\frac{\\frac{1}{N}\\sum_{i=1}^N{\\sigma_i^2}}{(\\prod_{i=1}^N\\sigma_i^2)^{\\frac{1}{N}}}\n",
    "\\end{equation}"
   ]
  },
  {
   "cell_type": "code",
   "execution_count": 651,
   "metadata": {},
   "outputs": [],
   "source": [
    "def TCG(variances):\n",
    "    N = len(variances)\n",
    "    arithmetic_mean = np.sum(variances)/N\n",
    "    geometric_mean = np.prod(variances)**(1/N)\n",
    "    if geometric_mean == 0:\n",
    "        geometric_mean = 1\n",
    "    transform_coding_gain = arithmetic_mean/geometric_mean\n",
    "    return transform_coding_gain"
   ]
  },
  {
   "cell_type": "code",
   "execution_count": 634,
   "metadata": {},
   "outputs": [],
   "source": [
    "# Forward transform:\n",
    "#\n",
    "#  [w[0]] = 1/sqrt(2) [1  1] [x[0]]\n",
    "#  [w[1]]             [1 -1] [x[1]]\n",
    "def KLT_analyze(x):\n",
    "    w = np.empty_like(x, dtype=np.int32)\n",
    "    w[:, 0] = np.rint((x[:, 0].astype(np.int32) + x[:, 1]) / math.sqrt(2)) # L\n",
    "    w[:, 1] = np.rint((x[:, 0].astype(np.int32) - x[:, 1]) / math.sqrt(2)) # H\n",
    "    return w\n",
    "\n",
    "# Inverse transform:\n",
    "#\n",
    "#  [x[0]] = 1/sqrt(2) [1  1] [w[0]]\n",
    "#  [x[1]]             [1 -1] [w[1]]\n",
    "def KLT_synthesize(w):\n",
    "    x = np.empty_like(w, dtype=np.int16)\n",
    "    #x[:, 0] = np.rint((w[:, 0] + w[:, 1]) / math.sqrt(2)) # L(ow frequency subband)\n",
    "    #x[:, 1] = np.rint((w[:, 0] - w[:, 1]) / math.sqrt(2)) # H(igh frequency subband)\n",
    "    x[:, :] = KLT_analyze(w)\n",
    "    return x"
   ]
  },
  {
   "cell_type": "markdown",
   "metadata": {},
   "source": [
    "## [Mid/Side stereo Coding (MSC)](https://en.wikipedia.org/wiki/Joint_encoding#M/S_stereo_coding)\n",
    "\n",
    "MSC transforms the left and right channels into a mid channel and a side channel. The mid channel is the sum of the left and right channels, or $M=L+R$. The side channel is the difference of the left and right channels, or $S=L-R$. See also Section 2.2.1. *Sum-Difference coding* at this [PhD thesis](https://research.tue.nl/en/studentTheses/stereo-coding-by-two-channel-linear-prediction-and-rotation).\n",
    "\n",
    "The main advantage of MSC over KLT is the use only of integer arithmetic in MSC, which allows faster implementations."
   ]
  },
  {
   "cell_type": "code",
   "execution_count": 633,
   "metadata": {},
   "outputs": [],
   "source": [
    "# Forward transform:\n",
    "#\n",
    "#  [w[0]] = [1  1] [x[0]]\n",
    "#  [w[1]]   [1 -1] [x[1]]\n",
    "\n",
    "def MSC_analyze(x):\n",
    "    w = np.empty_like(x, dtype=np.int32)\n",
    "    w[:, 0] = x[:, 0].astype(np.int32) + x[:, 1] # L(ow frequency subband)\n",
    "    w[:, 1] = x[:, 0].astype(np.int32) - x[:, 1] # H(igh frequency subband)\n",
    "    return w\n",
    "\n",
    "# Inverse transform:\n",
    "#\n",
    "#  [x[0]] = 1/2 [1  1] [w[0]]\n",
    "#  [x[1]]       [1 -1] [w[1]]\n",
    "\n",
    "def MSC_synthesize(w):\n",
    "    x = np.empty_like(w, dtype=np.int16)\n",
    "    x[:, 0] = (w[:, 0] + w[:, 1])/2 # L(ow frequency subband)\n",
    "    x[:, 1] = (w[:, 0] - w[:, 1])/2 # H(igh frequency subband)\n",
    "    return x\n",
    "\n",
    "# This solution is slower than the previous because: (1) an array of int32 is allocated,\n",
    "# and (2) the memory locality is smaller (the division by 2 is not performed just when\n",
    "# the samples are accesed).\n",
    "def _MSC_synthesize(w):\n",
    "    x = np.empty_like(w, dtype=np.int16)\n",
    "    x[:, :] = MSC_analyze(w)\n",
    "    x = x / 2\n",
    "    return x"
   ]
  },
  {
   "cell_type": "markdown",
   "metadata": {},
   "source": [
    "## MSC vs KLT"
   ]
  },
  {
   "cell_type": "code",
   "execution_count": 635,
   "metadata": {},
   "outputs": [],
   "source": [
    "MSC_RD_points = RD_curve(x, MSC_analyze, MSC_synthesize)"
   ]
  },
  {
   "cell_type": "code",
   "execution_count": 636,
   "metadata": {},
   "outputs": [],
   "source": [
    "KLT_RD_points = RD_curve(x, KLT_analyze, KLT_synthesize)"
   ]
  },
  {
   "cell_type": "code",
   "execution_count": 637,
   "metadata": {},
   "outputs": [
    {
     "data": {
      "image/png": "[encoded data removed]",
      "text/plain": [
       "<Figure size 432x288 with 1 Axes>"
      ]
     },
     "metadata": {
      "needs_background": "light"
     },
     "output_type": "display_data"
    }
   ],
   "source": [
    "plt.title(\"R/D comparative\")\n",
    "plt.xlabel(\"Bits per sample\")\n",
    "plt.ylabel(\"RMSE\")\n",
    "#plt.xscale(\"log\")\n",
    "#plt.yscale(\"log\")\n",
    "plt.scatter(*zip(*MSC_RD_points), c='b', marker=\"+\", label='MSC')\n",
    "plt.scatter(*zip(*KLT_RD_points), c='r', marker=\"x\", label='KLT')\n",
    "plt.legend(loc='upper right')\n",
    "plt.show()"
   ]
  },
  {
   "cell_type": "code",
   "execution_count": 638,
   "metadata": {},
   "outputs": [
    {
     "name": "stdout",
     "output_type": "stream",
     "text": [
      "1.64 ms ± 22 µs per loop (mean ± std. dev. of 7 runs, 1000 loops each)\n"
     ]
    }
   ],
   "source": [
    "%timeit MSC_synthesize(MSC_analyze(x))"
   ]
  },
  {
   "cell_type": "code",
   "execution_count": 654,
   "metadata": {},
   "outputs": [
    {
     "name": "stdout",
     "output_type": "stream",
     "text": [
      "4.86 ms ± 64 µs per loop (mean ± std. dev. of 7 runs, 100 loops each)\n"
     ]
    }
   ],
   "source": [
    "%timeit KLT_synthesize(KLT_analyze(x))"
   ]
  },
  {
   "cell_type": "markdown",
   "metadata": {},
   "source": [
    "As it can be seen, MSC and KLT are equivalent from a R/D perspective. However,  MSC is faster."
   ]
  },
  {
   "cell_type": "code",
   "execution_count": 666,
   "metadata": {},
   "outputs": [
    {
     "name": "stdout",
     "output_type": "stream",
     "text": [
      "6.4569222979834064\n"
     ]
    }
   ],
   "source": [
    "LH = MSC_analyze(x)\n",
    "L = LH[:, 0]\n",
    "H = LH[:, 1]\n",
    "variances = [None]*2\n",
    "variances[0] = np.var(L)\n",
    "variances[1] = np.var(H)\n",
    "print(TCG(variances))"
   ]
  },
  {
   "cell_type": "code",
   "execution_count": 667,
   "metadata": {},
   "outputs": [
    {
     "name": "stdout",
     "output_type": "stream",
     "text": [
      "6.456930619606892\n"
     ]
    }
   ],
   "source": [
    "LH = KLT_analyze(x)\n",
    "L = LH[:, 0]\n",
    "H = LH[:, 1]\n",
    "variances = [None]*2\n",
    "variances[0] = np.var(L)\n",
    "variances[1] = np.var(H)\n",
    "print(TCG(variances))"
   ]
  },
  {
   "cell_type": "markdown",
   "metadata": {},
   "source": [
    "The TCG of the KLT is sliiiightly better than the TCG of the MSC."
   ]
  },
  {
   "cell_type": "markdown",
   "metadata": {},
   "source": [
    "## S Transform (ST)"
   ]
  },
  {
   "cell_type": "code",
   "execution_count": 616,
   "metadata": {},
   "outputs": [],
   "source": [
    "# https://www.researchgate.net/profile/Amir_Said2/publication/2598141_Reversible_Image_Compression_Via_Multiresolution_Representation_and_Predictive_Coding/links/56952cf008ae820ff074a536/Reversible-Image-Compression-Via-Multiresolution-Representation-and-Predictive-Coding.pdf\n",
    "#\n",
    "# Forward transform:\n",
    "#\n",
    "#  w[0] = ceil((x[0] + x[1])/2)\n",
    "#  w[1] = x[0] - x[1] \n",
    "#\n",
    "# Inverse transform:\n",
    "#\n",
    "#  x[0] = w[0] + ceil((w[1]+1)/2)\n",
    "#  x[1] = x[0] - w[1]\n",
    "\n",
    "def ST_analyze(x):\n",
    "    w = np.empty_like(x, dtype=np.int32)\n",
    "    w[:, 0] = np.ceil((x[:, 0].astype(np.int32) + x[:, 1])/2)\n",
    "    w[:, 1] = x[:, 0].astype(np.int32) - x[:, 1]\n",
    "    return w\n",
    "\n",
    "def ST_synthesize(w):\n",
    "    x = np.empty_like(w, dtype=np.int16)\n",
    "    x[:, 0] = w[:, 0] + np.ceil((w[:, 1] + 1)/2)\n",
    "    x[:, 1] = x[:, 0] - w[:, 1]\n",
    "    return x"
   ]
  },
  {
   "cell_type": "markdown",
   "metadata": {},
   "source": [
    "## ST vs MSC"
   ]
  },
  {
   "cell_type": "code",
   "execution_count": 617,
   "metadata": {},
   "outputs": [],
   "source": [
    "ST_RD_points = RD_curve(x, ST_analyze, ST_synthesize)"
   ]
  },
  {
   "cell_type": "code",
   "execution_count": 618,
   "metadata": {},
   "outputs": [
    {
     "data": {
      "image/png": "[encoded data removed]",
      "text/plain": [
       "<Figure size 432x288 with 1 Axes>"
      ]
     },
     "metadata": {
      "needs_background": "light"
     },
     "output_type": "display_data"
    }
   ],
   "source": [
    "plt.title(\"R/D comparative\")\n",
    "plt.xlabel(\"Bits per sample\")\n",
    "plt.ylabel(\"RMSE\")\n",
    "#plt.xscale(\"log\")\n",
    "#plt.yscale(\"log\")\n",
    "plt.scatter(*zip(*MSC_RD_points), c='b', marker=\"+\", label='MSC')\n",
    "plt.scatter(*zip(*ST_RD_points), c='r', marker=\"x\", label='ST')\n",
    "plt.legend(loc='upper right')\n",
    "plt.show()"
   ]
  },
  {
   "cell_type": "markdown",
   "metadata": {},
   "source": [
    "MSC performs slighly better than ST."
   ]
  },
  {
   "cell_type": "markdown",
   "metadata": {},
   "source": [
    "## MSC/2"
   ]
  },
  {
   "cell_type": "code",
   "execution_count": 619,
   "metadata": {},
   "outputs": [],
   "source": [
    "# Forward transform:\n",
    "#\n",
    "#  [w[0]] = 1/2 [1  1] [x[0]]\n",
    "#  [w[1]]       [1 -1] [x[1]]\n",
    "#\n",
    "# Inverse transform:\n",
    "#\n",
    "#  [x[0]] = [1  1] [w[0]]\n",
    "#  [x[1]]   [1 -1] [w[1]]\n",
    "\n",
    "def _MSC2_analyze(x):\n",
    "    w = np.empty_like(x, dtype=np.int32)\n",
    "    w[:, 0] = (x[:, 0].astype(np.int32) + x[:, 1])/2 # L(ow frequency subband)\n",
    "    w[:, 1] = (x[:, 0].astype(np.int32) - x[:, 1])/2 # H(igh frequency subband)\n",
    "    #w[:, 0] = w[:, 0] / 2\n",
    "    return w\n",
    "\n",
    "def MSC2_analyze(x):\n",
    "    w = np.empty_like(x, dtype=np.int32)\n",
    "    w[:, 0] = (x[:, 0].astype(np.int32) + x[:, 1])/2 # L(ow frequency subband)\n",
    "    w[:, 1] = (x[:, 0].astype(np.int32) - x[:, 1])/2 # H(igh frequency subband)\n",
    "    #w[:, 0] = w[:, 0] / 2\n",
    "    return w\n",
    "\n",
    "def _MSC2_synthesize(w):\n",
    "    x = np.empty_like(w, dtype=np.int16)\n",
    "    #w[:, 0] = w[:, 0] * 2\n",
    "    x[:, :] = MSC2_analyze(w)\n",
    "    return x\n",
    "\n",
    "def MSC2_synthesize(w):\n",
    "    x = np.empty_like(w, dtype=np.int16)\n",
    "    x[:, 0] = w[:, 1] + x[:, 1]\n",
    "    x[:, 1] = w[:, 0] - x[:, 0]\n",
    "    #w[:, 0] = w[:, 0] * 2\n",
    "    #x[:, :] = MSC2_analyze(w)\n",
    "    return x"
   ]
  },
  {
   "cell_type": "markdown",
   "metadata": {},
   "source": [
    "## MSC vs MSC2"
   ]
  },
  {
   "cell_type": "code",
   "execution_count": 620,
   "metadata": {},
   "outputs": [],
   "source": [
    "MSC2_RD_points = RD_curve(x, MSC2_analyze, MSC2_synthesize)"
   ]
  },
  {
   "cell_type": "code",
   "execution_count": 621,
   "metadata": {},
   "outputs": [
    {
     "data": {
      "image/png": "[encoded data removed]",
      "text/plain": [
       "<Figure size 432x288 with 1 Axes>"
      ]
     },
     "metadata": {
      "needs_background": "light"
     },
     "output_type": "display_data"
    }
   ],
   "source": [
    "plt.title(\"R/D comparative\")\n",
    "plt.xlabel(\"Bits per sample\")\n",
    "plt.ylabel(\"RMSE\")\n",
    "#plt.xscale(\"log\")\n",
    "#plt.yscale(\"log\")\n",
    "plt.scatter(*zip(*MSC_RD_points), c='b', marker=\"+\", label='MSC')\n",
    "plt.scatter(*zip(*MSC2_RD_points), c='r', marker=\"x\", label='MSC2')\n",
    "plt.legend(loc='upper right')\n",
    "plt.show()"
   ]
  },
  {
   "cell_type": "code",
   "execution_count": 608,
   "metadata": {},
   "outputs": [
    {
     "name": "stdout",
     "output_type": "stream",
     "text": [
      "3.34 ms ± 437 µs per loop (mean ± std. dev. of 7 runs, 100 loops each)\n"
     ]
    }
   ],
   "source": [
    "%timeit MSC2_synthesize(MSC2_analyze(x))"
   ]
  },
  {
   "cell_type": "markdown",
   "metadata": {},
   "source": [
    "## ?? transform"
   ]
  },
  {
   "cell_type": "code",
   "execution_count": 561,
   "metadata": {},
   "outputs": [],
   "source": [
    "# Forward transform:\n",
    "#\n",
    "#  [w[0]] = 1/2 [1  1] [x[0]]\n",
    "#  [w[1]]       [1 -1] [x[1]]\n",
    "#\n",
    "# Inverse transform:\n",
    "#\n",
    "#  [x[0]] = [1  1] [w[0]]\n",
    "#  [x[1]]   [1 -1] [w[1]]\n",
    "#\n",
    "# Forward transform:\n",
    "#\n",
    "#  w[1] = x[0] - x[1] \n",
    "#  w[0] = x[0] - w[1]/2\n",
    "#  w[1] /= 2\n",
    "#\n",
    "# Inverse transform:\n",
    "#\n",
    "#  w[1] *= 2\n",
    "#  x[0] = w[0] + w[1]/2\n",
    "#  x[1] = x[0] - w[1]\n",
    "\n",
    "def orig2_analyze(x):\n",
    "    w = np.empty_like(x, dtype=np.int32)\n",
    "    w[:, 1] = x[:, 0].astype(np.int32) - x[:, 1]\n",
    "    w[:, 0] = x[:, 0] - w[:, 1] / 2\n",
    "    w[:, 1] = w[:, 1] / 2\n",
    "    return w\n",
    "\n",
    "def orig2_synthesize(w):\n",
    "    x = np.empty_like(w, dtype=np.int16)\n",
    "    w[:, 1] = w[:, 1] * 2\n",
    "    x[:, 0] = w[:, 0] + w[:, 1]/2\n",
    "    x[:, 1] = x[:, 0] - w[:, 1]\n",
    "    return x"
   ]
  },
  {
   "cell_type": "code",
   "execution_count": 562,
   "metadata": {},
   "outputs": [],
   "source": [
    "orig2_RD_points = RD_curve(x, orig2_analyze, orig2_synthesize)"
   ]
  },
  {
   "cell_type": "code",
   "execution_count": 563,
   "metadata": {},
   "outputs": [
    {
     "data": {
      "image/png": "[encoded data removed]",
      "text/plain": [
       "<Figure size 432x288 with 1 Axes>"
      ]
     },
     "metadata": {
      "needs_background": "light"
     },
     "output_type": "display_data"
    }
   ],
   "source": [
    "plt.title(\"R/D comparative\")\n",
    "plt.xlabel(\"Bits per sample\")\n",
    "plt.ylabel(\"RMSE\")\n",
    "#plt.xscale(\"log\")\n",
    "#plt.yscale(\"log\")\n",
    "plt.scatter(*zip(*MSC_RD_points), c='b', marker=\"+\", label='MSC')\n",
    "plt.scatter(*zip(*orig2_RD_points), c='r', marker=\"x\", label='?')\n",
    "plt.legend(loc='upper right')\n",
    "plt.show()"
   ]
  },
  {
   "cell_type": "code",
   "execution_count": 564,
   "metadata": {},
   "outputs": [
    {
     "name": "stdout",
     "output_type": "stream",
     "text": [
      "5.42 ms ± 71.7 µs per loop (mean ± std. dev. of 7 runs, 100 loops each)\n"
     ]
    }
   ],
   "source": [
    "%timeit orig2_synthesize(orig2_analyze(x))"
   ]
  },
  {
   "cell_type": "markdown",
   "metadata": {},
   "source": [
    "## ? transform"
   ]
  },
  {
   "cell_type": "code",
   "execution_count": 412,
   "metadata": {},
   "outputs": [],
   "source": [
    "# Forward transform:\n",
    "#\n",
    "#  w[1] = x[1] - x[0] \n",
    "#  w[0] = x[0] + w[1]/2\n",
    "#  w[1] /= 2\n",
    "#\n",
    "# Inverse transform:\n",
    "#\n",
    "#  w[1] *= 2\n",
    "#  x[0] = w[0] - w[1]/2\n",
    "#  x[1] = x[0] + w[1]\n",
    "\n",
    "def orig_analyze(x):\n",
    "    w = np.empty_like(x, dtype=np.int32)\n",
    "    w[:, 1] = x[:, 1].astype(np.int32) - x[:, 0]\n",
    "    w[:, 0] = x[:, 0] + np.rint(w[:, 1] / 2)\n",
    "    w[:, 1] = np.rint(w[:, 1] / 2)\n",
    "    return w\n",
    "\n",
    "def orig_synthesize(w):\n",
    "    x = np.empty_like(w, dtype=np.int16)\n",
    "    w[:, 1] = w[:, 1] * 2\n",
    "    x[:, 0] = w[:, 0] - np.rint(w[:, 1]/2)\n",
    "    x[:, 1] = w[:, 1] + x[:, 0]\n",
    "    return x"
   ]
  },
  {
   "cell_type": "code",
   "execution_count": 413,
   "metadata": {},
   "outputs": [],
   "source": [
    "orig_RD_points = RD_curve(x, orig_analyze, orig_synthesize)"
   ]
  },
  {
   "cell_type": "code",
   "execution_count": 414,
   "metadata": {},
   "outputs": [
    {
     "data": {
      "image/png": "[encoded data removed]",
      "text/plain": [
       "<Figure size 432x288 with 1 Axes>"
      ]
     },
     "metadata": {
      "needs_background": "light"
     },
     "output_type": "display_data"
    }
   ],
   "source": [
    "plt.title(\"R/D comparative\")\n",
    "plt.xlabel(\"Bits per sample\")\n",
    "plt.ylabel(\"RMSE\")\n",
    "#plt.xscale(\"log\")\n",
    "#plt.yscale(\"log\")\n",
    "plt.scatter(*zip(*MSC_RD_points), c='b', marker=\"+\", label='MSC')\n",
    "plt.scatter(*zip(*orig_RD_points), c='r', marker=\"x\", label='?')\n",
    "plt.legend(loc='upper right')\n",
    "plt.show()"
   ]
  },
  {
   "cell_type": "code",
   "execution_count": null,
   "metadata": {},
   "outputs": [],
   "source": [
    "# Introduction to Data Compression (Sayood), pag. 402\n",
    "\n",
    "def pordeterminar_analyze(chunk):\n",
    "    analyzed_chunk = np.empty_like(chunk, dtype=np.int16)\n",
    "    analyzed_chunk[:, 1] = chunk[:, 1] - chunk[:, 0]\n",
    "    analyzed_chunk[:, 0] = chunk[:, 0] + np.rint(analyzed_chunk[:, 1]/2)\n",
    "    return analyzed_chunk\n",
    "\n",
    "def pordeterminar_synthesize(analyzed_chunk):\n",
    "    chunk = np.empty_like(analyzed_chunk, dtype=np.int16)\n",
    "    chunk[:, 0] = analyzed_chunk[:, 0] - np.rint(analyzed_chunk[:, 1]/2)\n",
    "    chunk[:, 1] = analyzed_chunk[:, 1] + chunk[:, 0]\n",
    "    return chunk"
   ]
  },
  {
   "cell_type": "code",
   "execution_count": 137,
   "metadata": {},
   "outputs": [],
   "source": [
    "def orig2_analyze(chunk):\n",
    "    analyzed_chunk = np.empty_like(chunk, dtype=np.int16)\n",
    "    analyzed_chunk[:, 1] = chunk[:, 1] - chunk[:, 0]\n",
    "    analyzed_chunk[:, 0] = (chunk[:, 0] + chunk[:, 1]) // 2\n",
    "    return analyzed_chunk\n",
    "\n",
    "def orig2_synthesize(analyzed_chunk):\n",
    "    chunk = np.empty_like(analyzed_chunk, dtype=np.int16)\n",
    "    chunk[:, 1] = analyzed_chunk[:, 0] + analyzed_chunk[:, 1] // 2\n",
    "    chunk[:, 0] = chunk[:, 1] - analyzed_chunk[:, 1]\n",
    "    return chunk"
   ]
  },
  {
   "cell_type": "code",
   "execution_count": 142,
   "metadata": {},
   "outputs": [],
   "source": [
    "def orig3_analyze(chunk):\n",
    "    analyzed_chunk = np.empty_like(chunk, dtype=np.int16)\n",
    "    analyzed_chunk[:, 1] = chunk[:, 1] - chunk[:, 0]\n",
    "    analyzed_chunk[:, 0] = chunk[:, 0] + np.rint(analyzed_chunk[:, 1]/2)\n",
    "    analyzed_chunk[:, 1] = analyzed_chunk[:, 1] // 2\n",
    "    return analyzed_chunk\n",
    "\n",
    "def orig3_synthesize(analyzed_chunk):\n",
    "    chunk = np.empty_like(analyzed_chunk, dtype=np.int16)\n",
    "    analyzed_chunk[:, 1] = analyzed_chunk[:, 1] * 2\n",
    "    chunk[:, 0] = analyzed_chunk[:, 0] - np.rint(analyzed_chunk[:, 1]/2)\n",
    "    chunk[:, 1] = analyzed_chunk[:, 1] + chunk[:, 0]\n",
    "    return chunk"
   ]
  },
  {
   "cell_type": "code",
   "execution_count": 225,
   "metadata": {},
   "outputs": [],
   "source": [
    "orig_RD_points = RD_curve(x, orig_analyze, orig_synthesize)"
   ]
  },
  {
   "cell_type": "code",
   "execution_count": 226,
   "metadata": {},
   "outputs": [],
   "source": [
    "orig2_RD_points = RD_curve(x, orig2_analyze, orig2_synthesize)"
   ]
  },
  {
   "cell_type": "code",
   "execution_count": 227,
   "metadata": {},
   "outputs": [],
   "source": [
    "orig3_RD_points = RD_curve(x, orig3_analyze, orig3_synthesize)"
   ]
  },
  {
   "cell_type": "code",
   "execution_count": 231,
   "metadata": {},
   "outputs": [],
   "source": [
    "pd_RD_points = RD_curve(x, pordeterminar_analyze, pordeterminar_synthesize)"
   ]
  },
  {
   "cell_type": "code",
   "execution_count": 235,
   "metadata": {},
   "outputs": [
    {
     "data": {
      "image/png": "[encoded data removed]",
      "text/plain": [
       "<Figure size 432x288 with 1 Axes>"
      ]
     },
     "metadata": {
      "needs_background": "light"
     },
     "output_type": "display_data"
    }
   ],
   "source": [
    "plt.title(\"R/D comparative\")\n",
    "plt.xlabel(\"Bits per sample\")\n",
    "plt.ylabel(\"RMSE\")\n",
    "#plt.xscale(\"log\")\n",
    "#plt.yscale(\"log\")\n",
    "plt.scatter(*zip(*MS_RD_points), c='b', marker=\"o\", label='MS')\n",
    "plt.scatter(*zip(*KLT_RD_points), c='g', marker=\"^\", label='KLT')\n",
    "plt.scatter(*zip(*orig_RD_points), c='r', marker=\"v\", label='orig')\n",
    "plt.scatter(*zip(*orig2_RD_points), c='m', marker=\"x\", label='orig2')\n",
    "plt.scatter(*zip(*orig3_RD_points), c='c', marker=\"h\", label='orig3')\n",
    "plt.scatter(*zip(*pd_RD_points), c='y', marker=\"+\", label='pd')\n",
    "plt.legend(loc='upper right')\n",
    "plt.show()"
   ]
  },
  {
   "cell_type": "code",
   "execution_count": null,
   "metadata": {},
   "outputs": [],
   "source": []
  },
  {
   "cell_type": "code",
   "execution_count": null,
   "metadata": {},
   "outputs": [],
   "source": []
  },
  {
   "cell_type": "code",
   "execution_count": null,
   "metadata": {},
   "outputs": [],
   "source": []
  }
 ],
 "metadata": {
  "kernelspec": {
   "display_name": "Python 3",
   "language": "python",
   "name": "python3"
  },
  "language_info": {
   "codemirror_mode": {
    "name": "ipython",
    "version": 3
   },
   "file_extension": ".py",
   "mimetype": "text/x-python",
   "name": "python",
   "nbconvert_exporter": "python",
   "pygments_lexer": "ipython3",
   "version": "3.8.6"
  }
 },
 "nbformat": 4,
 "nbformat_minor": 2
}

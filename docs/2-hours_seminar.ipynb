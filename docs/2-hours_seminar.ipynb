{
 "cells": [
  {
   "cell_type": "markdown",
   "metadata": {},
   "source": [
    "# A 2-Hours Seminar about [InterCom](https://github.com/Tecnologias-multimedia/intercom)"
   ]
  },
  {
   "cell_type": "markdown",
   "metadata": {},
   "source": [
    "## Contents\n",
    "\n",
    "1. What is InterCom?\n",
    "2. De-jittering through buffering.\n",
    "3. Decreasing the bit-rate through compression.\n",
    "4. A simple bit-rate control through quantization.\n",
    "5. Removing intra-frame redundancy.\n",
    "6. Removing intra-channel redundancy.\n",
    "7. Future developments."
   ]
  },
  {
   "cell_type": "markdown",
   "metadata": {},
   "source": [
    "## 1. What is InterCom?\n",
    "InterCom is a real-time intercommunicator (currently, only transmitting audio). The sequence of [frames](https://python-sounddevice.readthedocs.io/en/0.3.12/api.html) (two stereo samples) is splitted into chunks and each one is transmitted in an [UDP](https://en.wikipedia.org/wiki/User_Datagram_Protocol) packet."
   ]
  },
  {
   "cell_type": "markdown",
   "metadata": {},
   "source": [
    "### A [minimal](https://tecnologias-multimedia.github.io/study_guide/minimal/) implementation"
   ]
  },
  {
   "cell_type": "code",
   "execution_count": null,
   "metadata": {},
   "outputs": [],
   "source": [
    "# Interrupt with: Kernel -> Interrupt\n",
    "!python ~/intercom/minimal.py --show_stats"
   ]
  },
  {
   "cell_type": "markdown",
   "metadata": {},
   "source": [
    "## 2. De-[jitter](https://en.wikipedia.org/wiki/Jitter)ing through [buffering](https://tecnologias-multimedia.github.io/study_guide/buffering/)"
   ]
  },
  {
   "cell_type": "markdown",
   "metadata": {},
   "source": [
    "### Which is the expected Internet latency?"
   ]
  },
  {
   "cell_type": "code",
   "execution_count": null,
   "metadata": {},
   "outputs": [],
   "source": [
    "!ping -c 10 8.8.8.8 # Google DNS"
   ]
  },
  {
   "cell_type": "markdown",
   "metadata": {},
   "source": [
    "### Which is the latency and jitter in my host?"
   ]
  },
  {
   "cell_type": "code",
   "execution_count": null,
   "metadata": {},
   "outputs": [],
   "source": [
    "!ping -c 10 localhost"
   ]
  },
  {
   "cell_type": "markdown",
   "metadata": {},
   "source": [
    "Too good to do simulations using `localhost` :-/"
   ]
  },
  {
   "cell_type": "markdown",
   "metadata": {},
   "source": [
    "### Which is the expected Internet latency?"
   ]
  },
  {
   "cell_type": "code",
   "execution_count": null,
   "metadata": {},
   "outputs": [],
   "source": [
    "!ping -c 10 8.8.8.8 # Google DNS"
   ]
  },
  {
   "cell_type": "markdown",
   "metadata": {},
   "source": [
    "### Let's increases latency and jitter for the `localhost` link\n",
    "* Latency = 20 ms.\n",
    "* Jitter = 5 ms.\n",
    "* Correlation between RTTs = 0.25 (<1.0).\n",
    "* Statistical distribution of the RTTs = normal."
   ]
  },
  {
   "cell_type": "code",
   "execution_count": null,
   "metadata": {},
   "outputs": [],
   "source": [
    "# Remember to add \"your_username_here ALL=(ALL) NOPASSWD: ALL\" to the end of /etc/sudoers.\n",
    "# Notice that these times express RTTs, not simple one-way lantencies.\n",
    "!tc qdisc show dev lo\n",
    "!sudo tc qdisc add dev lo root handle 1: netem delay 20ms 5ms 25% distribution normal\n",
    "!tc qdisc show dev lo"
   ]
  },
  {
   "cell_type": "markdown",
   "metadata": {},
   "source": [
    "### (Optional) Remove `tc` rule"
   ]
  },
  {
   "cell_type": "code",
   "execution_count": null,
   "metadata": {},
   "outputs": [],
   "source": [
    "!sudo tc qdisc del dev lo root\n",
    "!tc qdisc show dev lo"
   ]
  },
  {
   "cell_type": "markdown",
   "metadata": {},
   "source": [
    "### Let's see ... now"
   ]
  },
  {
   "cell_type": "code",
   "execution_count": null,
   "metadata": {},
   "outputs": [],
   "source": [
    "!ping -c 10 localhost"
   ]
  },
  {
   "cell_type": "markdown",
   "metadata": {},
   "source": [
    "Better for our simulations."
   ]
  },
  {
   "cell_type": "markdown",
   "metadata": {},
   "source": [
    "### Let's listen again to minimal"
   ]
  },
  {
   "cell_type": "code",
   "execution_count": null,
   "metadata": {},
   "outputs": [],
   "source": [
    "!python ~/intercom/minimal.py --show_stats"
   ]
  },
  {
   "cell_type": "markdown",
   "metadata": {},
   "source": [
    "Quite bad :-/ The chunks don't arrive with a constant cadence to the receiver :\n",
    "\n",
    "![Buffering](https://tecnologias-multimedia.github.io/study_guide/buffering/graphics/timelines.svg)"
   ]
  },
  {
   "cell_type": "markdown",
   "metadata": {},
   "source": [
    "### And finallyl, let's hidden the jitter"
   ]
  },
  {
   "cell_type": "code",
   "execution_count": null,
   "metadata": {},
   "outputs": [],
   "source": [
    "!python ~/intercom/buffer.py --show_stats # 100 ms is the default buffering time"
   ]
  },
  {
   "cell_type": "markdown",
   "metadata": {},
   "source": [
    "Much better!"
   ]
  },
  {
   "cell_type": "markdown",
   "metadata": {},
   "source": [
    "## 3. Decreasing the transmission bit-rate through compression"
   ]
  },
  {
   "cell_type": "markdown",
   "metadata": {},
   "source": [
    "### Estimation of the [throughput](https://en.wikipedia.org/wiki/Throughput) of the `localhost` link\n",
    "Notice that the following technique depends heavely on the packet size, that using ping is limited to 64 KB (including the IP header). For this reason, the results can be only approximated :-/"
   ]
  },
  {
   "cell_type": "code",
   "execution_count": null,
   "metadata": {},
   "outputs": [],
   "source": [
    "!sudo tc qdisc del dev lo root\n",
    "!tc qdisc show dev lo\n",
    "!ping -c 1 -s 65527 localhost"
   ]
  },
  {
   "cell_type": "code",
   "execution_count": null,
   "metadata": {},
   "outputs": [],
   "source": [
    "!printf \"Gbps = \"\n",
    "!echo 65527*8/0.147/2/1000/1000 | bc -l"
   ]
  },
  {
   "cell_type": "markdown",
   "metadata": {},
   "source": [
    "Too high! We need harder conditions for testing InterCom that without compression requires\n",
    "\n",
    "\\begin{equation}\n",
    "\\frac{44100\\frac{\\text{frames}}{\\text{second}}\\times 2\\frac{\\text{samples}}{\\text{frame}}\\times 2\\frac{\\text{bytes}}{\\text{sample}}\\times 8\\frac{\\text{bits}}{\\text{byte}}}{1000} = 1411.2 ~\\text{kbps}\n",
    "\\end{equation}"
   ]
  },
  {
   "cell_type": "markdown",
   "metadata": {},
   "source": [
    "### Let's simulate (also) a throughput of 200 kbps"
   ]
  },
  {
   "cell_type": "code",
   "execution_count": null,
   "metadata": {},
   "outputs": [],
   "source": [
    "# Definitive rules for the rest of experiments\n",
    "!sudo tc qdisc add dev lo root handle 1: netem delay 20ms 5ms 25% distribution normal\n",
    "!sudo tc qdisc add dev lo parent 1:1 handle 10: tbf rate 200kbit burst 1024kbit limit 1024kbit"
   ]
  },
  {
   "cell_type": "markdown",
   "metadata": {},
   "source": [
    "### (Optional) Remove the previous `tc` rules"
   ]
  },
  {
   "cell_type": "code",
   "execution_count": null,
   "metadata": {},
   "outputs": [],
   "source": [
    "!sudo tc qdisc del dev lo parent 1:1 handle 10:\n",
    "!sudo tc qdisc del dev lo root\n",
    "!tc qdisc show dev lo"
   ]
  },
  {
   "cell_type": "code",
   "execution_count": null,
   "metadata": {},
   "outputs": [],
   "source": [
    "!ping -c 1 -s 65507 localhost"
   ]
  },
  {
   "cell_type": "code",
   "execution_count": null,
   "metadata": {},
   "outputs": [],
   "source": [
    "print(\"Throughput =\", 65507*8/522/2, \"kbps\")"
   ]
  },
  {
   "cell_type": "markdown",
   "metadata": {},
   "source": [
    "###  Insufficient throughput?\n",
    "... or too many kbps?"
   ]
  },
  {
   "cell_type": "code",
   "execution_count": null,
   "metadata": {},
   "outputs": [],
   "source": [
    "!python ~/intercom/buffer.py --show_stats"
   ]
  },
  {
   "cell_type": "markdown",
   "metadata": {},
   "source": [
    "### [Compression](https://tecnologias-multimedia.github.io/study_guide/compress/) using [DEFLATE](https://en.wikipedia.org/wiki/DEFLATE)\n",
    "\n",
    "The chunks can be compressed with [LZSS](https://en.wikipedia.org/wiki/Lempel-Ziv-Storer-Szymanski), that is based on [LZ77](https://github.com/vicente-gonzalez-ruiz/LZ77) and [Huffman Coding](https://vicente-gonzalez-ruiz.github.io/Huffman_coding/).\n",
    "\n",
    "We have choosen this text compressor codec because:\n",
    "1. It's fast.\n",
    "2. Works well when repeated strings are found at the input.\n",
    "3. I's available with [The Standard Python Library](https://docs.python.org/3/library/) ([zlib](https://docs.python.org/3/library/zlib.html))."
   ]
  },
  {
   "cell_type": "code",
   "execution_count": null,
   "metadata": {},
   "outputs": [],
   "source": [
    "!python ~/intercom/compress.py --show_stats"
   ]
  },
  {
   "cell_type": "markdown",
   "metadata": {},
   "source": [
    "Notice that a lot of chunks are still lost. DEFLATE is not enough!"
   ]
  },
  {
   "cell_type": "markdown",
   "metadata": {},
   "source": [
    "## 4. A simple [bit-rate \"control\"](https://tecnologias-multimedia.github.io/study_guide/quantization/) through [quantization](https://github.com/vicente-gonzalez-ruiz/quantization/blob/master/digital_quantization.ipynb)\n",
    "\n",
    "Quantization removes the less relevant information (mainly [electronic noise](https://en.wikipedia.org/wiki/Noise_(electronics)) ...) and helps to increase the [compression ratio](https://en.wikipedia.org/wiki/Compression_ratio). In lossy signal compression, [dead-zone quantizers](https://github.com/vicente-gonzalez-ruiz/quantization/blob/master/digital_quantization.ipynb) are commonly used because they tend to generate 0's that like to entropy compressors.\n",
    "\n",
    "We use the quantizer\n",
    "\\begin{equation}\n",
    "  k = \\text{sgn}(x) \\max\\left(0, \\left\\lfloor \\frac{\\left| x \\right|}{\\Delta} + \\frac{1}{2}\\right\\rfloor\\right),\n",
    "\\end{equation}\n",
    "where $k$ is the quantization index, and $\\Delta$ is the quantization step. The dequantizer is defined by:\n",
    "\\begin{equation}\n",
    "  y = \\Delta k.\n",
    "\\end{equation}"
   ]
  },
  {
   "cell_type": "code",
   "execution_count": null,
   "metadata": {},
   "outputs": [],
   "source": [
    "%matplotlib inline\n",
    "\n",
    "import matplotlib\n",
    "import matplotlib.pyplot as plt\n",
    "import matplotlib.axes as ax\n",
    "import math\n",
    "import numpy as np\n",
    "import sounddevice as sd\n",
    "from scipy import signal"
   ]
  },
  {
   "cell_type": "code",
   "execution_count": null,
   "metadata": {},
   "outputs": [],
   "source": [
    "def quantizer(x, quantization_step):\n",
    "    k = (x / quantization_step).astype(np.int16)\n",
    "    return k\n",
    "\n",
    "def dequantizer(k, quantization_step):\n",
    "    y = quantization_step * k\n",
    "    return y"
   ]
  },
  {
   "cell_type": "code",
   "execution_count": null,
   "metadata": {},
   "outputs": [],
   "source": [
    "def plot(x, y, xlabel='', ylabel='', title=''):\n",
    "    fig = plt.figure()\n",
    "    ax = fig.add_subplot(111)\n",
    "    ax.set_title(title)\n",
    "    ax.grid()\n",
    "    ax.xaxis.set_label_text(xlabel)\n",
    "    ax.yaxis.set_label_text(ylabel)\n",
    "    ax.plot(x, y)\n",
    "    plt.show(block=False)"
   ]
  },
  {
   "cell_type": "code",
   "execution_count": null,
   "metadata": {},
   "outputs": [],
   "source": [
    "x = np.linspace(-8, 8, 500) # Input samples\n",
    "k2 = quantizer(x, quantization_step = 2)\n",
    "y2 = dequantizer(k2, quantization_step = 2)\n",
    "k3 = quantizer(x, quantization_step = 3)\n",
    "y3 = dequantizer(k3, quantization_step = 3)"
   ]
  },
  {
   "cell_type": "code",
   "execution_count": null,
   "metadata": {},
   "outputs": [],
   "source": [
    "plot(x, y2, \"Input Sample\", \"Reconstructed Sample\", \"Dead-zone Quantizer ($\\Delta={}$)\".format(2))\n",
    "plot(x, y3, \"Input Sample\", \"Reconstructed Sample\", \"Dead-zone Quantizer ($\\Delta={}$)\".format(3))"
   ]
  },
  {
   "cell_type": "code",
   "execution_count": null,
   "metadata": {},
   "outputs": [],
   "source": [
    "def q_deq(x, quantization_step):\n",
    "    k = quantizer(x, quantization_step)\n",
    "    y = dequantizer(k, quantization_step)\n",
    "    return k, y"
   ]
  },
  {
   "cell_type": "code",
   "execution_count": null,
   "metadata": {},
   "outputs": [],
   "source": [
    "x = np.arange(start = -8, stop = 9, step = 1)\n",
    "k, y = q_deq(x, quantization_step = 3)\n",
    "print(\"    Original samples =\", x)\n",
    "print(\"Quantization indexes =\", k)\n",
    "print(\" Dequantized samples =\", y)"
   ]
  },
  {
   "cell_type": "markdown",
   "metadata": {},
   "source": [
    "In InterCom, we lossely \"control\" the bit-rate because a strict bit-rate control through the variation of the quantization step $\\Delta$ is computationally intensive (we must determine the [Rate/Distortion curve](https://en.wikipedia.org/wiki/Rate%E2%80%93distortion_theory) of the current chunk to find $\\Delta$ before to quantize, compress and send it) and it's hard to compute in real-time . For this reason, the current implementation estimates the number of lost chunks per second (in the last second) and use this information to increase or decrease the quantization step for the chunks (of the next second)."
   ]
  },
  {
   "cell_type": "code",
   "execution_count": null,
   "metadata": {},
   "outputs": [],
   "source": [
    "fs = 44100      # Sampling frequency\n",
    "duration = 5.0  # seconds\n",
    "x = sd.rec(int(duration * fs), samplerate=fs, channels=1, dtype=np.int16)\n",
    "print(\"Speak!\")\n",
    "while sd.wait():\n",
    "    pass\n",
    "print(\"done\")"
   ]
  },
  {
   "cell_type": "code",
   "execution_count": null,
   "metadata": {},
   "outputs": [],
   "source": [
    "sd.play(x)\n",
    "plot(np.linspace(0, len(x)-1, len(x)), x, \"Sample\", \"Amplitude\", \"Original Signal\")"
   ]
  },
  {
   "cell_type": "code",
   "execution_count": null,
   "metadata": {},
   "outputs": [],
   "source": [
    "quantization_step = 1000\n",
    "k, y = q_deq(x, quantization_step = 1000)\n",
    "sd.play(y)\n",
    "plot(np.linspace(0, len(y)-1, len(y)), y, \"Sample\", \"Amplitude\", \"Quantized Signal ($\\Delta={}$)\".format(quantization_step))"
   ]
  },
  {
   "cell_type": "code",
   "execution_count": null,
   "metadata": {},
   "outputs": [],
   "source": [
    "def average_energy(x):\n",
    "    return np.sum(x.astype(np.double)*x.astype(np.double))/len(x)\n",
    "\n",
    "def RMSE(x, y):\n",
    "    error_signal = x - y\n",
    "    return math.sqrt(average_energy(error_signal))\n",
    "\n",
    "def entropy_in_bits_per_symbol(sequence_of_symbols):\n",
    "    value, counts = np.unique(sequence_of_symbols, return_counts = True)\n",
    "    probs = counts / len(sequence_of_symbols)\n",
    "    n_classes = np.count_nonzero(probs)\n",
    "\n",
    "    if n_classes <= 1:\n",
    "        return 0\n",
    "\n",
    "    entropy = 0.\n",
    "    for i in probs:\n",
    "        entropy -= i * math.log(i, 2)\n",
    "\n",
    "    return entropy\n",
    "\n",
    "def RD_curve(x):\n",
    "    points = []\n",
    "    for q_step in range(1, 32768, 32):\n",
    "        k, y = q_deq(x, q_step)\n",
    "        rate = entropy_in_bits_per_symbol(k)\n",
    "        distortion = RMSE(x, y)\n",
    "        points.append((rate, distortion))\n",
    "    return points"
   ]
  },
  {
   "cell_type": "code",
   "execution_count": null,
   "metadata": {},
   "outputs": [],
   "source": [
    "RD_points = RD_curve(x)"
   ]
  },
  {
   "cell_type": "code",
   "execution_count": null,
   "metadata": {},
   "outputs": [],
   "source": [
    "plt.title(\"RD Tradeoff\")\n",
    "plt.xlabel(\"Expected Bits per Sample\")\n",
    "plt.ylabel(\"RMSE\")\n",
    "plt.scatter(*zip(*RD_points), s=2, c='b', marker=\"o\")\n",
    "plt.show()"
   ]
  },
  {
   "cell_type": "markdown",
   "metadata": {},
   "source": [
    "### Let's listen to the quantizer :-)"
   ]
  },
  {
   "cell_type": "code",
   "execution_count": null,
   "metadata": {
    "scrolled": true
   },
   "outputs": [],
   "source": [
    "!python ~/intercom/br_control.py --show_stats"
   ]
  },
  {
   "cell_type": "markdown",
   "metadata": {},
   "source": [
    "## 5. [Spatial (inter-channel) decorrelation](https://tecnologias-multimedia.github.io/study_guide/spatial_decorrelation/)\n",
    "The samples of a (stereo) frame tend to have similar amplitudes. For this reason, we apply [Mid/Side stereo coding](https://en.wikipedia.org/wiki/Joint_encoding#M/S_stereo_coding) (before quantization).\n",
    "\n",
    "* The MST (Mid/Side Transform) analysis transform\n",
    "\\begin{equation}\n",
    "  w = Kx = \\begin{bmatrix} 1 & 1 \\\\ 1 & -1 \\end{bmatrix}x,\n",
    "  \\label{eq:forward_transform_matrix_form}\n",
    "\\end{equation}\n",
    "that can be also written as\n",
    "\\begin{equation}\n",
    "  \\begin{bmatrix}\n",
    "    w_0 \\\\\n",
    "    w_1\n",
    "  \\end{bmatrix}\n",
    "  = \n",
    "  \\begin{bmatrix} 1 & 1 \\\\ 1 & -1 \\end{bmatrix}\n",
    "  \\begin{bmatrix}\n",
    "    x_0 \\\\\n",
    "    x_1\n",
    "  \\end{bmatrix}, \\tag{1}\n",
    "\\end{equation}\n",
    "where $x$ is a stereo frame, $K$ is the (forward or analysis)\n",
    "transform matrix and $w=\\begin{bmatrix} w_0 & w_1\\end{bmatrix}^{\\text\n",
    "  T}$ is the corresponding [decomposition](https://en.wikipedia.org/wiki/Discrete_wavelet_transform#Example_in_image_processing).\n",
    "  \n",
    "* The synthesis transform is\n",
    "\\begin{equation}\n",
    "  x = K^{-1}w\n",
    "  \\label{eq:inverse_transform}\n",
    "\\end{equation}\n",
    "can be found from Eq. (1), where we\n",
    "get that\n",
    "\\begin{equation}\n",
    "  \\begin{array}{rcl}\n",
    "  w_0 & = & x_0 + x_1\\\\\n",
    "  w_1 & = & x_0 - x_1.\n",
    "  \\end{array}\n",
    "\\end{equation}\n",
    "By solving $x_0$ (adding) and $x_1$ (substracting) in\n",
    "these equations, we obtain that\n",
    "\\begin{equation}\n",
    "  \\begin{array}{rcl}\n",
    "  x_0 & = & \\frac{1}{2}(w_0 + w_1)\\\\\n",
    "  x_1 & = & \\frac{1}{2}(w_0 - w_1),\n",
    "  \\end{array}\n",
    "\\end{equation}\n",
    "that in matrix form becomes\n",
    "\\begin{equation}\n",
    "  \\begin{bmatrix}\n",
    "    x_0 \\\\\n",
    "    x_1\n",
    "  \\end{bmatrix}\n",
    "  = \\frac{1}{2}\n",
    "  \\begin{bmatrix} 1 & 1 \\\\ 1 & -1 \\end{bmatrix}\n",
    "  \\begin{bmatrix}\n",
    "    w_0 \\\\\n",
    "    w_1\n",
    "  \\end{bmatrix}.\n",
    "\\end{equation}\n",
    "\n",
    "Therefore,\n",
    "\\begin{equation}\n",
    "  x = K^{-1}w = \\frac{1}{2}K^{\\text T}w = \\frac{1}{2}Kw = \\frac{1}{2}\\begin{bmatrix} 1 & 1 \\\\ 1 & -1 \\end{bmatrix}w.\n",
    "  \\label{eq:inverse_transform_matrix_form}\n",
    "\\end{equation}"
   ]
  },
  {
   "cell_type": "code",
   "execution_count": null,
   "metadata": {},
   "outputs": [],
   "source": [
    "def plot(y, xlabel='', ylabel='', title=''):\n",
    "    fig = plt.figure()\n",
    "    ax = fig.add_subplot(111)\n",
    "    ax.set_title(title)\n",
    "    ax.grid()\n",
    "    ax.xaxis.set_label_text(xlabel)\n",
    "    ax.yaxis.set_label_text(ylabel)\n",
    "    x = np.linspace(0, len(y)-1, len(y))\n",
    "    ax.plot(x, y, '.', markersize=1)\n",
    "    plt.show(block=False)"
   ]
  },
  {
   "cell_type": "code",
   "execution_count": null,
   "metadata": {},
   "outputs": [],
   "source": [
    "fs = 44100      # Sampling frequency\n",
    "duration = 5.0  # seconds\n",
    "x = sd.rec(int(duration * fs), samplerate=fs, channels=2, dtype=np.int16)\n",
    "print(\"Say something!\")\n",
    "while sd.wait():\n",
    "    pass\n",
    "print(\"done\")"
   ]
  },
  {
   "cell_type": "code",
   "execution_count": null,
   "metadata": {},
   "outputs": [],
   "source": [
    "x = x[50000:]\n",
    "sd.play(x)\n",
    "plot(x, \"Sample\", \"Amplitude\", \"Audio Signal\")"
   ]
  },
  {
   "cell_type": "code",
   "execution_count": null,
   "metadata": {},
   "outputs": [],
   "source": [
    "chunk = x[101000:102000]\n",
    "plot(chunk, \"Sample\", \"Amplitude\", \"Audio Signal (zoom)\")"
   ]
  },
  {
   "cell_type": "code",
   "execution_count": null,
   "metadata": {},
   "outputs": [],
   "source": [
    "def MST_analyze(x):\n",
    "    w = np.empty_like(x, dtype=np.int32)\n",
    "    w[:, 0] = x[:, 0].astype(np.int32) + x[:, 1] # L(ow frequency subband)\n",
    "    w[:, 1] = x[:, 0].astype(np.int32) - x[:, 1] # H(igh frequency subband)\n",
    "    return w\n",
    "\n",
    "def MST_synthesize(w):\n",
    "    x = np.empty_like(w, dtype=np.int16)\n",
    "    x[:, 0] = (w[:, 0] + w[:, 1])/2 # L(ow frequency subband)\n",
    "    x[:, 1] = (w[:, 0] - w[:, 1])/2 # H(igh frequency subband)\n",
    "    return x"
   ]
  },
  {
   "cell_type": "code",
   "execution_count": null,
   "metadata": {},
   "outputs": [],
   "source": [
    "w = MST_analyze(x)"
   ]
  },
  {
   "cell_type": "code",
   "execution_count": null,
   "metadata": {},
   "outputs": [],
   "source": [
    "plot(w[:, 0], \"Sample\", \"Amplitude\", \"Mid Subband\")\n",
    "sd.play(w[:, 0].astype(np.int16))"
   ]
  },
  {
   "cell_type": "code",
   "execution_count": null,
   "metadata": {},
   "outputs": [],
   "source": [
    "plot(w[:, 1], \"Sample\", \"Amplitude\", \"Side Subband\")\n",
    "sd.play(w[:, 1].astype(np.int16))"
   ]
  },
  {
   "cell_type": "code",
   "execution_count": null,
   "metadata": {},
   "outputs": [],
   "source": [
    "K1 = np.array([1.0, 1.0])\n",
    "w1, h1 = signal.freqz(K1, fs=44100)\n",
    "K2 = np.array([1.0, -1.0])\n",
    "w2, h2 = signal.freqz(K2, fs=44100)"
   ]
  },
  {
   "cell_type": "code",
   "execution_count": null,
   "metadata": {},
   "outputs": [],
   "source": [
    "plt.subplot(211)\n",
    "plt.title('Mid/Side analysis filters transfer functions')\n",
    "plt.plot(w1, 20 * np.log10(abs(h1)), 'b')\n",
    "plt.xlabel('Frequency (Hz)')\n",
    "plt.ylabel('Amplitude [dB]')\n",
    "plt.subplot(212)\n",
    "plt.plot(w2, 20 * np.log10(abs(h2)), 'b')\n",
    "plt.xlabel('Frequency (Hz)')\n",
    "plt.ylabel('Amplitude [dB]')\n",
    "plt.show()"
   ]
  },
  {
   "cell_type": "code",
   "execution_count": null,
   "metadata": {},
   "outputs": [],
   "source": [
    "def q_RD_curve(data):\n",
    "    RD_points = []\n",
    "    for q_step in range(16, 1024, 32):\n",
    "        k, y = q_deq(data, q_step)\n",
    "        rate = entropy_in_bits_per_symbol(k[:, 0]) + entropy_in_bits_per_symbol(k[:, 1])\n",
    "        distortion = RMSE(data, y)\n",
    "        RD_points.append((rate, distortion))\n",
    "    return RD_points\n",
    "\n",
    "def MST_RD_curve(data):\n",
    "    RD_points = []\n",
    "    for q_step in range(16, 1024, 32):\n",
    "        analyzed_data = MST_analyze(data)\n",
    "        k, y = q_deq(analyzed_data, q_step)\n",
    "        rate = entropy_in_bits_per_symbol(k[:, 0]) + entropy_in_bits_per_symbol(k[:, 1])\n",
    "        reconstructed_data = MST_synthesize(y)\n",
    "        distortion = RMSE(data, reconstructed_data)\n",
    "        RD_points.append((rate, distortion))\n",
    "    return RD_points"
   ]
  },
  {
   "cell_type": "code",
   "execution_count": null,
   "metadata": {},
   "outputs": [],
   "source": [
    "q_RD_points = q_RD_curve(x)\n",
    "MST_RD_points = MST_RD_curve(x)"
   ]
  },
  {
   "cell_type": "code",
   "execution_count": null,
   "metadata": {},
   "outputs": [],
   "source": [
    "plt.title(\"RD Tradeoff\")\n",
    "plt.xlabel(\"Bits per Sample\")\n",
    "plt.ylabel(\"RMSE\")\n",
    "plt.scatter(*zip(*MST_RD_points), c='b', marker=\".\", label='Using MST')\n",
    "plt.scatter(*zip(*q_RD_points), c='r', marker=\".\", label='Only quantization')\n",
    "plt.legend(loc='upper right')\n",
    "plt.show()"
   ]
  },
  {
   "cell_type": "markdown",
   "metadata": {},
   "source": [
    "### Result of aplying the MST to InterCom"
   ]
  },
  {
   "cell_type": "code",
   "execution_count": null,
   "metadata": {},
   "outputs": [],
   "source": [
    "!python ~/intercom/intra_frame_decorrelation.py --show_stats"
   ]
  },
  {
   "cell_type": "markdown",
   "metadata": {},
   "source": [
    "## 6. [Temporal (intra-channel) decorrelation](https://tecnologias-multimedia.github.io/study_guide/temporal_decorrelation/)\n",
    "* The samples of each channel exhibit temporal redundancy. Therefore, we use a [Discrete Wavelet Transform (DWT)](https://tecnologias-multimedia.github.io/study_guide/temporal_decorrelation/) to exploit it (before quantization).\n",
    "\n",
    "* The DWT can be implemented with PRFB's:\n",
    "![DWT](https://tecnologias-multimedia.github.io/study_guide/temporal_decorrelation/graphics/cascade.svg)\n",
    "where $l$ stands for low-frequency subband, and $h$ for high-frequency subband. $\\downarrow 2$ represents a subsampling of one of each two samples, and $\\uparrow 2$ the insertion of a 0 where the downsampler discarded a sample.\n",
    "\n",
    "* Depending on how:\n",
    "    1. $\\phi$ (the analysis scaling function (low-pass frequency analysis filter)),\n",
    "    2. $\\psi$ (the analysis wavelet function (hihg-pass frequency analysis filter),\n",
    "    3. $\\tilde\\phi$ (the synthesis scaling function (low-pass frequency synthesis filter),\n",
    "    4. and $\\tilde\\psi$ the synthesis wavelet function (high-pass frequency synthesis filter))\n",
    "are defined, a different DWT is computed."
   ]
  },
  {
   "cell_type": "markdown",
   "metadata": {},
   "source": [
    "* The DWT generates the decomposition:\n",
    " \\begin{equation*}\n",
    "    | l^s_0 | h^s_0 | h^{s-1}_0 h^{s-1}_1 | h^{s-2}_0 h^{s-2}_1 h^{s-2}_2 h^{s-2}_3 | \\cdots | h^1_0 h^1_1 \\cdots h^1_{2^{n-1}-1} |,\n",
    "  \\end{equation*}\n",
    "where $s$ represents the subband index, and each subband contains a set of coefficients."
   ]
  },
  {
   "cell_type": "markdown",
   "metadata": {},
   "source": [
    "* The [DWT in matrix](https://cseweb.ucsd.edu/classes/fa17/cse166-a/lec13.pdf) form."
   ]
  },
  {
   "cell_type": "markdown",
   "metadata": {},
   "source": [
    "### Let's see the DWT in action\n",
    "Go to the shell and run:\n",
    "```\n",
    "pyenv activate tm\n",
    "cd\n",
    "python intercom/test/sounddevice/plot_input_stereo.py &\n",
    "python intercom/test/transforms/rfft_hamming.py &\n",
    "python intercom/test/transforms/dwt5.py &\n",
    "python intercom/test/sounddevice/play_sine.py 440\n",
    "```"
   ]
  },
  {
   "cell_type": "markdown",
   "metadata": {},
   "source": [
    "### Exploring DWTs"
   ]
  },
  {
   "cell_type": "code",
   "execution_count": null,
   "metadata": {},
   "outputs": [],
   "source": [
    "import sounddevice as sd\n",
    "import pywt\n",
    "import math\n",
    "import numpy as np\n",
    "%matplotlib inline\n",
    "import matplotlib\n",
    "import matplotlib.pyplot as plt\n",
    "from scipy import signal\n",
    "from ipywidgets import interact, interactive, fixed, interact_manual\n",
    "import ipywidgets as widgets\n",
    "import pylab"
   ]
  },
  {
   "cell_type": "code",
   "execution_count": null,
   "metadata": {},
   "outputs": [],
   "source": [
    "N = 512\n",
    "levels = 4\n",
    "#wavelet_name = \"haar\"\n",
    "wavelet_name = \"db5\"\n",
    "#wavelet_name = \"db20\"\n",
    "#wavelet_name = \"bior2.2\"\n",
    "#wavelet_name = \"rbio2.2\"\n",
    "wavelet = pywt.Wavelet(wavelet_name)"
   ]
  },
  {
   "cell_type": "code",
   "execution_count": null,
   "metadata": {},
   "outputs": [],
   "source": [
    "def energy_of_signal(x):\n",
    "    return np.sum(x.astype(np.double)*x.astype(np.double))\n",
    "\n",
    "def spectrum(i):\n",
    "    zeros = np.zeros(N)\n",
    "    decomposition = pywt.wavedec(zeros, wavelet=wavelet, level=levels, mode=\"per\")\n",
    "    coefficients, slices = pywt.coeffs_to_array(decomposition)\n",
    "    coefficients[i] = 1\n",
    "    decomposition = pywt.array_to_coeffs(coefficients, slices, output_format=\"wavedec\")\n",
    "    samples = pywt.waverec(decomposition, wavelet=wavelet, mode=\"per\")\n",
    "    coefs = np.fft.rfft(samples)\n",
    "    spectrum = np.sqrt(coefs.real*coefs.real + coefs.imag*coefs.imag)\n",
    "    pylab.plot(np.linspace(0, len(spectrum)-1, len(spectrum)), spectrum)\n",
    "    energy = energy_of_signal(samples)\n",
    "    if i <= (N>>levels):\n",
    "        type = \"scaling f.\"\n",
    "    else:\n",
    "        type = \"wavelet f.\"\n",
    "    pylab.plot(np.linspace(0, len(samples)-1, len(samples)), samples, label=f\"{i} ({energy:3.2f}) {type}\")\n",
    "    pylab.legend(loc='upper right')\n",
    "    pylab.show()"
   ]
  },
  {
   "cell_type": "code",
   "execution_count": null,
   "metadata": {},
   "outputs": [],
   "source": [
    "interact(spectrum, i=widgets.IntSlider(min=0, max=N-1, step=1, value=0));"
   ]
  },
  {
   "cell_type": "markdown",
   "metadata": {},
   "source": [
    "### Let's quantify the DWT contribution"
   ]
  },
  {
   "cell_type": "code",
   "execution_count": null,
   "metadata": {},
   "outputs": [],
   "source": [
    "def quantizer(x, quantization_step):\n",
    "    k = (x / quantization_step).astype(np.int32)\n",
    "    return k\n",
    "\n",
    "def dequantizer(k, quantization_step):\n",
    "    y = quantization_step * k\n",
    "    return y\n",
    "\n",
    "def DWT_analyze(x, levels):\n",
    "    coefs = np.empty(x.shape, dtype=np.int32)\n",
    "    decomposition_0 = pywt.wavedec(x[:, 0], wavelet=wavelet, level=levels, mode=\"per\")\n",
    "    decomposition_1 = pywt.wavedec(x[:, 1], wavelet=wavelet, level=levels, mode=\"per\")\n",
    "    coefs_0, slices = pywt.coeffs_to_array(decomposition_0)\n",
    "    coefs_1, slices = pywt.coeffs_to_array(decomposition_1)\n",
    "    coefs[:, 0] = np.rint(coefs_0).astype(np.int32)\n",
    "    coefs[:, 1] = np.rint(coefs_1).astype(np.int32)\n",
    "    return coefs, slices\n",
    "\n",
    "def DWT_synthesize(coefs, slices):\n",
    "    samples = np.empty(coefs.shape, dtype=np.int16)\n",
    "    decomposition_0 = pywt.array_to_coeffs(coefs[:, 0], slices, output_format=\"wavedec\")\n",
    "    decomposition_1 = pywt.array_to_coeffs(coefs[:, 1], slices, output_format=\"wavedec\")\n",
    "    samples[:, 0] = np.rint(pywt.waverec(decomposition_0, wavelet=wavelet, mode=\"per\")).astype(np.int16)\n",
    "    samples[:, 1] = np.rint(pywt.waverec(decomposition_1, wavelet=wavelet, mode=\"per\")).astype(np.int16)\n",
    "    return samples\n",
    "\n",
    "def DWT_RD_curve(data, levels):\n",
    "    RD_points = []\n",
    "    for q_step in range(16, 1024, 32):\n",
    "        MST_coefs = MST_analyze(data)\n",
    "        DWT_coefs, slices = DWT_analyze(MST_coefs, levels)\n",
    "        k, y = q_deq(DWT_coefs, q_step)\n",
    "        rate = entropy_in_bits_per_symbol(k[:, 0]) + entropy_in_bits_per_symbol(k[:, 1])\n",
    "        MST_coefs = DWT_synthesize(y, slices)\n",
    "        reconstructed_data = MST_synthesize(MST_coefs)\n",
    "        distortion = RMSE(data, reconstructed_data)\n",
    "        RD_points.append((rate, distortion))\n",
    "    return RD_points"
   ]
  },
  {
   "cell_type": "code",
   "execution_count": null,
   "metadata": {},
   "outputs": [],
   "source": [
    "x = x[:65536]\n",
    "q_RD_points = q_RD_curve(x)\n",
    "MST_RD_points = MST_RD_curve(x)\n",
    "DWT_RD_points = DWT_RD_curve(x, levels = 5)"
   ]
  },
  {
   "cell_type": "code",
   "execution_count": null,
   "metadata": {},
   "outputs": [],
   "source": [
    "plt.title(\"RD Tradeoff\")\n",
    "plt.xlabel(\"Bits per Sample\")\n",
    "plt.ylabel(\"RMSE\")\n",
    "plt.scatter(*zip(*q_RD_points), c='r', marker=\".\", label='Only quantization')\n",
    "plt.scatter(*zip(*MST_RD_points), c='b', marker=\".\", label='Using MST')\n",
    "plt.scatter(*zip(*DWT_RD_points), c='g', marker=\".\", label='Using DWT')\n",
    "plt.legend(loc='upper right')\n",
    "plt.show()"
   ]
  },
  {
   "cell_type": "markdown",
   "metadata": {},
   "source": [
    "### Result of aplying the DWT to InterCom"
   ]
  },
  {
   "cell_type": "code",
   "execution_count": null,
   "metadata": {},
   "outputs": [],
   "source": [
    "!python ~/my-intercom/intra_channel_decorrelation.py --show_stats"
   ]
  },
  {
   "cell_type": "markdown",
   "metadata": {},
   "source": [
    "## 7. Future work\n",
    "1. Currently, quantization minimizes the MSE (Mean Square Error). [Perceptual](https://en.wikipedia.org/wiki/Psychoacoustics) quantization should increase the compression ratio without increasing the perceived distortion.\n",
    "2. Transmit [video](https://en.wikipedia.org/wiki/Video)."
   ]
  }
 ],
 "metadata": {
  "kernelspec": {
   "display_name": "Python 3",
   "language": "python",
   "name": "python3"
  },
  "language_info": {
   "codemirror_mode": {
    "name": "ipython",
    "version": 3
   },
   "file_extension": ".py",
   "mimetype": "text/x-python",
   "name": "python",
   "nbconvert_exporter": "python",
   "pygments_lexer": "ipython3",
   "version": "3.8.5"
  }
 },
 "nbformat": 4,
 "nbformat_minor": 2
}

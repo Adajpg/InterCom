{
 "cells": [
  {
   "cell_type": "markdown",
   "metadata": {},
   "source": [
    "# [InterCom](https://github.com/Tecnologias-multimedia/intercom): Real-Time Audio Transmission"
   ]
  },
  {
   "cell_type": "markdown",
   "metadata": {},
   "source": [
    "## Contents\n",
    "\n",
    "1. What is InterCom?\n",
    "2. Hiding the jitter.\n",
    "3. Compression of the audio with DEFLATE.\n",
    "4. A simple bit-rate control through quantization.\n",
    "5. Removing intra-frame redundancy.\n",
    "6. Removing intra-channel redundancy.\n",
    "7. Future developments."
   ]
  },
  {
   "cell_type": "markdown",
   "metadata": {},
   "source": [
    "## 1. What is InterCom?\n",
    "\n",
    "* InterCom is a [full-duplex](https://en.wikipedia.org/wiki/Duplex_(telecommunications)#FULL-DUPLEX) real-time [intercommunicator](https://en.wikipedia.org/wiki/Intercom), that currently only transmits [PCM](https://en.wikipedia.org/wiki/Pulse-code_modulation) audio."
   ]
  },
  {
   "cell_type": "markdown",
   "metadata": {},
   "source": [
    "### A [minimal](https://tecnologias-multimedia.github.io/study_guide/minimal/) implementation\n",
    "\n",
    "* In [`minimal.py`](https://github.com/Tecnologias-multimedia/InterCom/blob/master/src/minimal.py), the sender (of audio) divides a sequence of [frames](https://python-sounddevice.readthedocs.io/en/0.3.12/api.html) (two [stereo](https://en.wikipedia.org/wiki/Stereophonic_sound) [samples](https://en.wikipedia.org/wiki/Sampling_(signal_processing))) in chunks (of constant length) and each one is transmitted in an [UDP](https://en.wikipedia.org/wiki/User_Datagram_Protocol) packet.\n",
    "\n",
    "* At the receiver, the sequence of frames is reconstructed and played."
   ]
  },
  {
   "cell_type": "markdown",
   "metadata": {},
   "source": [
    "<p style=\"padding: 10px; border: 2px solid blue;\"><font color='red'>Before running the next cell, please, check the mic and the speakers gains!</font><p>"
   ]
  },
  {
   "cell_type": "code",
   "execution_count": 5,
   "metadata": {
    "collapsed": true
   },
   "outputs": [
    {
     "name": "stdout",
     "output_type": "stream",
     "text": [
      "(WARNING) minimal: Unable to import argcomplete (optional)\n",
      "(WARNING) minimal: argcomplete not working :-/\n",
      "(INFO) minimal: A minimal InterCom (no compression, no quantization, no transform, ... only provides a bidirectional (full-duplex) transmission of raw (playable) chunks. \n",
      "(INFO) minimal: NUMBER_OF_CHANNELS = 2\n",
      "(INFO) minimal: chunk_time = 0.032 seconds\n",
      "(INFO) minimal: seconds_per_cycle = 1\n",
      "(INFO) minimal: chunks_per_cycle = 31.25\n",
      "(INFO) minimal: frames_per_cycle = 8000.0\n",
      "\n",
      "InterCom parameters:\n",
      "\n",
      "Namespace(input_device=None, output_device=None, list_devices=False, frames_per_second=8000.0, frames_per_chunk=256, listening_port=4444, destination_address='localhost', destination_port=4444, filename=None, reading_time=None, show_stats=True, show_samples=False)\n",
      "\n",
      "Using device:\n",
      "\n",
      "   0 HDA Intel PCH: ALC3246 Analog (hw:0,0), ALSA (2 in, 2 out)\n",
      "   1 HDA Intel PCH: HDMI 0 (hw:0,3), ALSA (0 in, 8 out)\n",
      "   2 HDA Intel PCH: HDMI 1 (hw:0,7), ALSA (0 in, 8 out)\n",
      "   3 HDA Intel PCH: HDMI 2 (hw:0,8), ALSA (0 in, 8 out)\n",
      "   4 HDA Intel PCH: HDMI 3 (hw:0,9), ALSA (0 in, 8 out)\n",
      "   5 HDA Intel PCH: HDMI 4 (hw:0,10), ALSA (0 in, 8 out)\n",
      "   6 sysdefault, ALSA (128 in, 128 out)\n",
      "   7 front, ALSA (0 in, 2 out)\n",
      "   8 surround40, ALSA (0 in, 2 out)\n",
      "   9 surround51, ALSA (0 in, 2 out)\n",
      "  10 surround71, ALSA (0 in, 2 out)\n",
      "  11 hdmi, ALSA (0 in, 8 out)\n",
      "  12 samplerate, ALSA (128 in, 128 out)\n",
      "  13 speexrate, ALSA (128 in, 128 out)\n",
      "  14 pulse, ALSA (32 in, 32 out)\n",
      "  15 upmix, ALSA (8 in, 8 out)\n",
      "  16 vdownmix, ALSA (6 in, 6 out)\n",
      "  17 dmix, ALSA (0 in, 2 out)\n",
      "* 18 default, ALSA (32 in, 32 out)\n",
      "\n",
      "Use CTRL+C to quit\n",
      "         sent   recv.    sent    recv.   Global\n",
      "cycle  mesgs.  mesgs.    kbps    kbps %CPU %CPU\n",
      "===============================================\n",
      "    1      30      30     235     235    2   12\n",
      "\u001b[7mAvgs:      30      30     235     235    2   12\u001b[m\n",
      "===============================================\n",
      "cycle  mesgs.  mesgs.    kbps    kbps %CPU %CPU\n",
      "         sent   recv.    sent    recv.   Global\n",
      "\u001b[5A\n",
      "    2      30      30     245     245    3   13\n",
      "\u001b[7mAvgs:      30      30     240     240    3   12\u001b[m\n",
      "===============================================\n",
      "cycle  mesgs.  mesgs.    kbps    kbps %CPU %CPU\n",
      "         sent   recv.    sent    recv.   Global\n",
      "\u001b[5A\n",
      "    3      32      31     261     253    2   12\n",
      "\u001b[7mAvgs:      30      30     247     244    3   12\u001b[m\n",
      "===============================================\n",
      "cycle  mesgs.  mesgs.    kbps    kbps %CPU %CPU\n",
      "         sent   recv.    sent    recv.   Global\n",
      "\u001b[5A\n",
      "    4      31      31     253     253    1    9\n",
      "\u001b[7mAvgs:      30      30     248     246    2   12\u001b[m\n",
      "===============================================\n",
      "cycle  mesgs.  mesgs.    kbps    kbps %CPU %CPU\n",
      "         sent   recv.    sent    recv.   Global\n",
      "\u001b[5A\n",
      "    5      32      32     261     261    3   10\n",
      "\u001b[7mAvgs:      31      30     251     249    3   11\u001b[m\n",
      "===============================================\n",
      "cycle  mesgs.  mesgs.    kbps    kbps %CPU %CPU\n",
      "         sent   recv.    sent    recv.   Global\n",
      "\u001b[5A\n",
      "    6      31      31     253     253    2   13\n",
      "\u001b[7mAvgs:      31      30     251     250    3   12\u001b[m\n",
      "===============================================\n",
      "cycle  mesgs.  mesgs.    kbps    kbps %CPU %CPU\n",
      "         sent   recv.    sent    recv.   Global\n",
      "\u001b[5A\n",
      "    7      31      31     253     253    2   17\n",
      "\u001b[7mAvgs:      31      30     251     250    3   12\u001b[m\n",
      "===============================================\n",
      "cycle  mesgs.  mesgs.    kbps    kbps %CPU %CPU\n",
      "         sent   recv.    sent    recv.   Global\n",
      "\u001b[5A\n",
      "    8      32      32     261     261    2   17\n",
      "\u001b[7mAvgs:      31      31     252     251    3   13\u001b[m\n",
      "===============================================\n",
      "cycle  mesgs.  mesgs.    kbps    kbps %CPU %CPU\n",
      "         sent   recv.    sent    recv.   Global\n",
      "\u001b[5A\n",
      "    9      31      31     253     253    2   14\n",
      "\u001b[7mAvgs:      31      31     252     251    3   13\u001b[m\n",
      "===============================================\n",
      "cycle  mesgs.  mesgs.    kbps    kbps %CPU %CPU\n",
      "         sent   recv.    sent    recv.   Global\n",
      "\u001b[5A\n",
      "   10      31      31     253     253    3   14\n",
      "\u001b[7mAvgs:      31      31     252     252    3   13\u001b[m\n",
      "===============================================\n",
      "cycle  mesgs.  mesgs.    kbps    kbps %CPU %CPU\n",
      "         sent   recv.    sent    recv.   Global\n",
      "\u001b[5A\n",
      "^C\n",
      "\n",
      "\n",
      "\n",
      "\n",
      "\n",
      "CPU usage average = 3.1817399571818608 %\n",
      "Payload sent average = 252.79999999999998 kilo bits per second\n",
      "Payload received average = 252.0 kilo bits per second\n",
      "Traceback (most recent call last):\n",
      "  File \"/home/vruiz/InterCom/src/minimal.py\", line 517, in <module>\n",
      "    intercom.run()\n",
      "  File \"/home/vruiz/InterCom/src/minimal.py\", line 485, in run\n",
      "    time.sleep(self.seconds_per_cycle)\n",
      "KeyboardInterrupt\n",
      "\n",
      "During handling of the above exception, another exception occurred:\n",
      "\n",
      "Traceback (most recent call last):\n",
      "  File \"/home/vruiz/InterCom/src/minimal.py\", line 519, in <module>\n",
      "    minimal.parser.exit(\"\\nSIGINT received\")\n",
      "NameError: name 'minimal' is not defined. Did you mean: 'Minimal'?\n"
     ]
    }
   ],
   "source": [
    "# Interrupt with: Kernel -> Interrupt\n",
    "!python ~/InterCom/src/minimal.py --show_stats\n",
    "\n",
    "# Alternatively, run this if your system is too slow\n",
    "#!python ~/InterCom/src/minimal.py --frames_per_second 8000 --frames_per_chunk 256 --show_stats"
   ]
  },
  {
   "cell_type": "markdown",
   "metadata": {},
   "source": [
    "## 2. Hiding the [packet jitter](https://en.wikipedia.org/wiki/Packet_delay_variation)\n",
    "\n",
    "* The communication network usually delays a random amount of time the transmission of the chunks, i.e., generates a jitter (packet delay variation during the transmission of a sequence of packets).\n",
    "\n",
    "* This jitter can be hiden through the [buffering](https://tecnologias-multimedia.github.io/study_guide/buffering/) (delaying) of the received chunks.\n",
    "\n",
    "![With and without buffering](https://tecnologias-multimedia.github.io/study_guide/latency/graphics/timelines.svg)\n",
    "<!-- ![With and without buffering](/home/vruiz/timelines.svg)\n",
    "![With and without buffering](./tmp/timelines.svg)\n",
    "![With and without buffering](../../../timelines.svg) -->\n",
    "\n",
    "* The buffer size depends on the user's preferences (the larger the buffer, the lower the number of lost chunks)."
   ]
  },
  {
   "cell_type": "markdown",
   "metadata": {},
   "source": [
    "### Measuring the jitter in my host"
   ]
  },
  {
   "cell_type": "code",
   "execution_count": 6,
   "metadata": {},
   "outputs": [
    {
     "name": "stdout",
     "output_type": "stream",
     "text": [
      "PING localhost (127.0.0.1) 56(84) bytes of data.\n",
      "64 bytes from localhost (127.0.0.1): icmp_seq=1 ttl=64 time=0.017 ms\n",
      "64 bytes from localhost (127.0.0.1): icmp_seq=2 ttl=64 time=0.069 ms\n",
      "64 bytes from localhost (127.0.0.1): icmp_seq=3 ttl=64 time=0.104 ms\n",
      "64 bytes from localhost (127.0.0.1): icmp_seq=4 ttl=64 time=0.075 ms\n",
      "64 bytes from localhost (127.0.0.1): icmp_seq=5 ttl=64 time=0.064 ms\n",
      "64 bytes from localhost (127.0.0.1): icmp_seq=6 ttl=64 time=0.038 ms\n",
      "64 bytes from localhost (127.0.0.1): icmp_seq=7 ttl=64 time=0.059 ms\n",
      "64 bytes from localhost (127.0.0.1): icmp_seq=8 ttl=64 time=0.065 ms\n",
      "64 bytes from localhost (127.0.0.1): icmp_seq=9 ttl=64 time=0.066 ms\n",
      "64 bytes from localhost (127.0.0.1): icmp_seq=10 ttl=64 time=0.027 ms\n",
      "\n",
      "--- localhost ping statistics ---\n",
      "10 packets transmitted, 10 received, 0% packet loss, time 9221ms\n",
      "rtt min/avg/max/mdev = 0.017/0.058/0.104/0.023 ms\n"
     ]
    }
   ],
   "source": [
    "!ping -c 10 localhost"
   ]
  },
  {
   "cell_type": "markdown",
   "metadata": {},
   "source": [
    "![RTT and ping](https://tecnologias-multimedia.github.io/study_guide/latency/graphics/ping_timeline.svg)\n",
    "$t_t =$ Transmission Time, $t_p =$ Propagation Time"
   ]
  },
  {
   "cell_type": "markdown",
   "metadata": {},
   "source": [
    "* The `min/avg/max/mdev` represents the minimum [RTT](https://en.wikipedia.org/wiki/Round-trip_delay) / average RTT / maximum RTT / standard deviation of the RTT.\n",
    "* Latency is the RTT divided by 2.\n",
    "\n",
    "![RTT and ping](https://tecnologias-multimedia.github.io/study_guide/latency/graphics/ping_timeline.svg)\n",
    "<center>$t_t =$ Transmission Time, $t_p =$ Propagation Time</center>\n",
    "\n",
    "* Usually, the jitter that we want to hide is the `mdev`/2.\n",
    "* Unfortunately, `localhost` is too good to simulate typical transmissions scenarios :-/"
   ]
  },
  {
   "cell_type": "markdown",
   "metadata": {},
   "source": [
    "### How is the jitter in the Internet?"
   ]
  },
  {
   "cell_type": "code",
   "execution_count": 7,
   "metadata": {},
   "outputs": [
    {
     "name": "stdout",
     "output_type": "stream",
     "text": [
      "PING 8.8.8.8 (8.8.8.8) 56(84) bytes of data.\n",
      "64 bytes from 8.8.8.8: icmp_seq=1 ttl=116 time=21.4 ms\n",
      "64 bytes from 8.8.8.8: icmp_seq=2 ttl=116 time=140 ms\n",
      "64 bytes from 8.8.8.8: icmp_seq=3 ttl=116 time=17.2 ms\n",
      "64 bytes from 8.8.8.8: icmp_seq=4 ttl=116 time=16.6 ms\n",
      "64 bytes from 8.8.8.8: icmp_seq=5 ttl=116 time=16.9 ms\n",
      "64 bytes from 8.8.8.8: icmp_seq=6 ttl=116 time=16.8 ms\n",
      "64 bytes from 8.8.8.8: icmp_seq=7 ttl=116 time=18.4 ms\n",
      "64 bytes from 8.8.8.8: icmp_seq=8 ttl=116 time=17.1 ms\n",
      "64 bytes from 8.8.8.8: icmp_seq=9 ttl=116 time=19.7 ms\n",
      "64 bytes from 8.8.8.8: icmp_seq=10 ttl=116 time=19.6 ms\n",
      "\n",
      "--- 8.8.8.8 ping statistics ---\n",
      "10 packets transmitted, 10 received, 0% packet loss, time 9014ms\n",
      "rtt min/avg/max/mdev = 16.625/30.387/140.081/36.595 ms\n"
     ]
    }
   ],
   "source": [
    "!ping -c 10 8.8.8.8 # Google DNS"
   ]
  },
  {
   "cell_type": "markdown",
   "metadata": {},
   "source": [
    "* If we want to simulate a real scenario using `localhost` we need to add some random latency."
   ]
  },
  {
   "cell_type": "markdown",
   "metadata": {},
   "source": [
    "### Let's increases latency and jitter for the `localhost` link\n",
    "* Using [`tc`](https://man7.org/linux/man-pages/man8/tc.8.html) (Traffic Control).\n",
    "* Example with:\n",
    "    * Average latency = 20 ms (average RTT = 40 ms).\n",
    "    * Average `mdev` = 5 ms.\n",
    "    * [Perarson correlation coefficient](https://en.wikipedia.org/wiki/Pearson_correlation_coefficient) between delays = 0.25 (1.0 means total [correlation](https://en.wikipedia.org/wiki/Correlation) between consecutive transmissions, 0.0 implies no correlation).\n",
    "    * Statistical distribution of the RTTs = [normal](https://en.wikipedia.org/wiki/Normal_distribution)."
   ]
  },
  {
   "cell_type": "markdown",
   "metadata": {},
   "source": [
    "<p style=\"padding: 10px; border: 2px solid blue;\"><font color='red'>Please, before running the next cell, check that sudo request your password (open a terminal and run, for example, \"sudo ls\"). If a password is required, add the line \"your_username ALL=(ALL) NOPASSWD: ALL\" (for example) at the end of the \"/etc/sudoers\" file.</font><p>"
   ]
  },
  {
   "cell_type": "code",
   "execution_count": 18,
   "metadata": {},
   "outputs": [
    {
     "name": "stdout",
     "output_type": "stream",
     "text": [
      "qdisc noqueue 0: root refcnt 2 \n",
      "qdisc netem 1: root refcnt 2 limit 1000 delay 30ms  30ms 25%\n"
     ]
    }
   ],
   "source": [
    "!tc qdisc show dev lo\n",
    "!sudo tc qdisc add dev lo root handle 1: netem delay 30ms 30ms 25% distribution normal\n",
    "!tc qdisc show dev lo"
   ]
  },
  {
   "cell_type": "markdown",
   "metadata": {},
   "source": [
    "### (Optional) Remove the `tc` rule"
   ]
  },
  {
   "cell_type": "code",
   "execution_count": 20,
   "metadata": {},
   "outputs": [
    {
     "name": "stdout",
     "output_type": "stream",
     "text": [
      "qdisc noqueue 0: root refcnt 2 \r\n"
     ]
    }
   ],
   "source": [
    "!sudo tc qdisc del dev lo root\n",
    "!tc qdisc show dev lo"
   ]
  },
  {
   "cell_type": "markdown",
   "metadata": {},
   "source": [
    "### Let's see ... now"
   ]
  },
  {
   "cell_type": "code",
   "execution_count": 19,
   "metadata": {},
   "outputs": [
    {
     "name": "stdout",
     "output_type": "stream",
     "text": [
      "PING localhost (127.0.0.1) 56(84) bytes of data.\n",
      "64 bytes from localhost (127.0.0.1): icmp_seq=1 ttl=64 time=91.6 ms\n",
      "64 bytes from localhost (127.0.0.1): icmp_seq=2 ttl=64 time=49.7 ms\n",
      "64 bytes from localhost (127.0.0.1): icmp_seq=3 ttl=64 time=44.7 ms\n",
      "64 bytes from localhost (127.0.0.1): icmp_seq=4 ttl=64 time=80.1 ms\n",
      "64 bytes from localhost (127.0.0.1): icmp_seq=5 ttl=64 time=51.4 ms\n",
      "64 bytes from localhost (127.0.0.1): icmp_seq=6 ttl=64 time=28.1 ms\n",
      "64 bytes from localhost (127.0.0.1): icmp_seq=7 ttl=64 time=41.3 ms\n",
      "64 bytes from localhost (127.0.0.1): icmp_seq=8 ttl=64 time=55.3 ms\n",
      "64 bytes from localhost (127.0.0.1): icmp_seq=9 ttl=64 time=39.5 ms\n",
      "64 bytes from localhost (127.0.0.1): icmp_seq=10 ttl=64 time=0.061 ms\n",
      "\n",
      "--- localhost ping statistics ---\n",
      "10 packets transmitted, 10 received, 0% packet loss, time 9017ms\n",
      "rtt min/avg/max/mdev = 0.061/48.175/91.621/24.135 ms\n"
     ]
    }
   ],
   "source": [
    "!ping -c 10 localhost"
   ]
  },
  {
   "cell_type": "markdown",
   "metadata": {},
   "source": [
    "Better for our simulations."
   ]
  },
  {
   "cell_type": "markdown",
   "metadata": {},
   "source": [
    "### Let's listen again to minimal"
   ]
  },
  {
   "cell_type": "code",
   "execution_count": null,
   "metadata": {},
   "outputs": [],
   "source": [
    "!python ~/intercom/minimal.py --show_stats"
   ]
  },
  {
   "cell_type": "markdown",
   "metadata": {},
   "source": [
    "Quite bad :-/ The chunks are not arriving with a constant cadence to the receiver :\n",
    "\n",
    "![Buffering](https://tecnologias-multimedia.github.io/study_guide/buffering/graphics/timelines.svg)"
   ]
  },
  {
   "cell_type": "markdown",
   "metadata": {},
   "source": [
    "### And finally, let's hidden the jitter"
   ]
  },
  {
   "cell_type": "code",
   "execution_count": null,
   "metadata": {},
   "outputs": [],
   "source": [
    "!python ~/intercom/buffer.py --show_stats # 100 ms is the default buffering time"
   ]
  },
  {
   "cell_type": "markdown",
   "metadata": {},
   "source": [
    "Much better!"
   ]
  },
  {
   "cell_type": "markdown",
   "metadata": {},
   "source": [
    "## 3. Decreasing the transmission bit-rate through compression"
   ]
  },
  {
   "cell_type": "markdown",
   "metadata": {},
   "source": [
    "### Estimation of the [throughput](https://en.wikipedia.org/wiki/Throughput) of the `localhost` link\n",
    "Notice that the following technique depends heavely on the packet size, that using ping is limited to 64 KB (including the IP header). For this reason, the results can be only approximated :-/"
   ]
  },
  {
   "cell_type": "code",
   "execution_count": null,
   "metadata": {},
   "outputs": [],
   "source": [
    "!sudo tc qdisc del dev lo root\n",
    "!tc qdisc show dev lo\n",
    "!ping -c 1 -s 65527 localhost"
   ]
  },
  {
   "cell_type": "code",
   "execution_count": null,
   "metadata": {},
   "outputs": [],
   "source": [
    "!printf \"Gbps = \"\n",
    "!echo 65527*8/0.147/2/1000/1000 | bc -l"
   ]
  },
  {
   "cell_type": "markdown",
   "metadata": {},
   "source": [
    "Too high! We need harder conditions for testing InterCom that without compression requires\n",
    "\n",
    "\\begin{equation}\n",
    "\\frac{44100\\frac{\\text{frames}}{\\text{second}}\\times 2\\frac{\\text{samples}}{\\text{frame}}\\times 2\\frac{\\text{bytes}}{\\text{sample}}\\times 8\\frac{\\text{bits}}{\\text{byte}}}{1000} = 1411.2 ~\\text{kbps}\n",
    "\\end{equation}"
   ]
  },
  {
   "cell_type": "markdown",
   "metadata": {},
   "source": [
    "### Let's simulate (also) a throughput of 200 kbps"
   ]
  },
  {
   "cell_type": "code",
   "execution_count": null,
   "metadata": {},
   "outputs": [],
   "source": [
    "# Definitive rules for the rest of experiments\n",
    "!sudo tc qdisc add dev lo root handle 1: netem delay 20ms 5ms 25% distribution normal\n",
    "!sudo tc qdisc add dev lo parent 1:1 handle 10: tbf rate 200kbit burst 1024kbit limit 1024kbit"
   ]
  },
  {
   "cell_type": "markdown",
   "metadata": {},
   "source": [
    "### (Optional) Remove the previous `tc` rules"
   ]
  },
  {
   "cell_type": "code",
   "execution_count": null,
   "metadata": {},
   "outputs": [],
   "source": [
    "!sudo tc qdisc del dev lo parent 1:1 handle 10:\n",
    "!sudo tc qdisc del dev lo root\n",
    "!tc qdisc show dev lo"
   ]
  },
  {
   "cell_type": "code",
   "execution_count": null,
   "metadata": {},
   "outputs": [],
   "source": [
    "!ping -c 1 -s 65507 localhost"
   ]
  },
  {
   "cell_type": "code",
   "execution_count": null,
   "metadata": {},
   "outputs": [],
   "source": [
    "print(\"Throughput =\", 65507*8/522/2, \"kbps\")"
   ]
  },
  {
   "cell_type": "markdown",
   "metadata": {},
   "source": [
    "###  Insufficient throughput?\n",
    "... or too many kbps to send?"
   ]
  },
  {
   "cell_type": "code",
   "execution_count": null,
   "metadata": {},
   "outputs": [],
   "source": [
    "!python ~/intercom/buffer.py --show_stats"
   ]
  },
  {
   "cell_type": "markdown",
   "metadata": {},
   "source": [
    "### [Compression](https://tecnologias-multimedia.github.io/study_guide/compress/) using [DEFLATE](https://en.wikipedia.org/wiki/DEFLATE)\n",
    "\n",
    "The chunks can be compressed with [LZSS](https://en.wikipedia.org/wiki/Lempel-Ziv-Storer-Szymanski), that is based on [LZ77](https://github.com/vicente-gonzalez-ruiz/LZ77) and [Huffman Coding](https://vicente-gonzalez-ruiz.github.io/Huffman_coding/).\n",
    "\n",
    "We have choosen this text compressor codec because:\n",
    "1. It's fast.\n",
    "2. Works well when repeated strings are found at the input.\n",
    "3. Available in [The Standard Python Library](https://docs.python.org/3/library/) ([zlib](https://docs.python.org/3/library/zlib.html)).\n",
    "4. Generic (eats anything)."
   ]
  },
  {
   "cell_type": "code",
   "execution_count": null,
   "metadata": {},
   "outputs": [],
   "source": [
    "!python ~/intercom/compress.py --show_stats"
   ]
  },
  {
   "cell_type": "markdown",
   "metadata": {},
   "source": [
    "Notice that a lot of chunks are still lost. DEFLATE is not enough!"
   ]
  },
  {
   "cell_type": "markdown",
   "metadata": {},
   "source": [
    "## 4. A simple [bit-rate \"control\"](https://tecnologias-multimedia.github.io/study_guide/quantization/) through [quantization](https://github.com/vicente-gonzalez-ruiz/quantization/blob/master/digital_quantization.ipynb)\n",
    "\n",
    "Quantization removes the less relevant information (mainly [electronic noise](https://en.wikipedia.org/wiki/Noise_(electronics)) ...) and helps to increase the [compression ratio](https://en.wikipedia.org/wiki/Compression_ratio). In lossy signal compression, [dead-zone quantizers](https://github.com/vicente-gonzalez-ruiz/quantization/blob/master/digital_quantization.ipynb) are commonly used because they tend to generate 0's that like to entropy compressors.\n",
    "\n",
    "We use the quantizer\n",
    "\\begin{equation}\n",
    "  k = \\text{sgn}(x) \\max\\left(0, \\left\\lfloor \\frac{\\left| x \\right|}{\\Delta} + \\frac{1}{2}\\right\\rfloor\\right),\n",
    "\\end{equation}\n",
    "where $k$ is the quantization index, and $\\Delta$ is the quantization step. The dequantizer is defined by:\n",
    "\\begin{equation}\n",
    "  y = \\Delta k.\n",
    "\\end{equation}"
   ]
  },
  {
   "cell_type": "code",
   "execution_count": null,
   "metadata": {},
   "outputs": [],
   "source": [
    "%matplotlib inline\n",
    "\n",
    "import matplotlib\n",
    "import matplotlib.pyplot as plt\n",
    "import matplotlib.axes as ax\n",
    "import math\n",
    "import numpy as np\n",
    "import sounddevice as sd\n",
    "from scipy import signal"
   ]
  },
  {
   "cell_type": "code",
   "execution_count": null,
   "metadata": {},
   "outputs": [],
   "source": [
    "def quantizer(x, quantization_step):\n",
    "    k = (x / quantization_step).astype(np.int16)\n",
    "    return k\n",
    "\n",
    "def dequantizer(k, quantization_step):\n",
    "    y = quantization_step * k\n",
    "    return y"
   ]
  },
  {
   "cell_type": "code",
   "execution_count": null,
   "metadata": {},
   "outputs": [],
   "source": [
    "def plot(x, y, xlabel='', ylabel='', title=''):\n",
    "    fig = plt.figure()\n",
    "    ax = fig.add_subplot(111)\n",
    "    ax.set_title(title)\n",
    "    ax.grid()\n",
    "    ax.xaxis.set_label_text(xlabel)\n",
    "    ax.yaxis.set_label_text(ylabel)\n",
    "    ax.plot(x, y)\n",
    "    plt.show(block=False)"
   ]
  },
  {
   "cell_type": "code",
   "execution_count": null,
   "metadata": {},
   "outputs": [],
   "source": [
    "x = np.linspace(-8, 8, 500) # Input samples\n",
    "k2 = quantizer(x, quantization_step = 2)\n",
    "y2 = dequantizer(k2, quantization_step = 2)\n",
    "k3 = quantizer(x, quantization_step = 3)\n",
    "y3 = dequantizer(k3, quantization_step = 3)"
   ]
  },
  {
   "cell_type": "code",
   "execution_count": null,
   "metadata": {},
   "outputs": [],
   "source": [
    "plot(x, y2, \"Input Sample\", \"Reconstructed Sample\", \"Dead-zone Quantizer ($\\Delta={}$)\".format(2))\n",
    "plot(x, y3, \"Input Sample\", \"Reconstructed Sample\", \"Dead-zone Quantizer ($\\Delta={}$)\".format(3))"
   ]
  },
  {
   "cell_type": "code",
   "execution_count": null,
   "metadata": {},
   "outputs": [],
   "source": [
    "def q_deq(x, quantization_step):\n",
    "    k = quantizer(x, quantization_step)\n",
    "    y = dequantizer(k, quantization_step)\n",
    "    return k, y"
   ]
  },
  {
   "cell_type": "code",
   "execution_count": null,
   "metadata": {},
   "outputs": [],
   "source": [
    "x = np.arange(start = -8, stop = 9, step = 1)\n",
    "k, y = q_deq(x, quantization_step = 3)\n",
    "print(\"    Original samples =\", x)\n",
    "print(\"Quantization indexes =\", k)\n",
    "print(\" Dequantized samples =\", y)"
   ]
  },
  {
   "cell_type": "markdown",
   "metadata": {},
   "source": [
    "In InterCom, we loosely \"control\" the bit-rate because a strict bit-rate control through the variation of the quantization step $\\Delta$ is computationally intensive (we must determine the [Rate/Distortion curve](https://en.wikipedia.org/wiki/Rate%E2%80%93distortion_theory) of the current chunk to find $\\Delta$ before to quantize, compress and send it) and it's hard to compute in real-time . For this reason, the current implementation estimates the number of lost chunks per second (in the last second) and use this information to increase or decrease the quantization step for the chunks (of the next second)."
   ]
  },
  {
   "cell_type": "code",
   "execution_count": null,
   "metadata": {},
   "outputs": [],
   "source": [
    "fs = 44100      # Sampling frequency\n",
    "duration = 5.0  # seconds\n",
    "x = sd.rec(int(duration * fs), samplerate=fs, channels=1, dtype=np.int16)\n",
    "print(\"Speak!\")\n",
    "while sd.wait():\n",
    "    pass\n",
    "print(\"done\")"
   ]
  },
  {
   "cell_type": "code",
   "execution_count": null,
   "metadata": {},
   "outputs": [],
   "source": [
    "sd.play(x)\n",
    "plot(np.linspace(0, len(x)-1, len(x)), x, \"Sample\", \"Amplitude\", \"Original Signal\")"
   ]
  },
  {
   "cell_type": "code",
   "execution_count": null,
   "metadata": {},
   "outputs": [],
   "source": [
    "quantization_step = 1000\n",
    "k, y = q_deq(x, quantization_step = 1000)\n",
    "sd.play(y)\n",
    "plot(np.linspace(0, len(y)-1, len(y)), y, \"Sample\", \"Amplitude\", \"Quantized Signal ($\\Delta={}$)\".format(quantization_step))"
   ]
  },
  {
   "cell_type": "code",
   "execution_count": null,
   "metadata": {},
   "outputs": [],
   "source": [
    "def average_energy(x):\n",
    "    return np.sum(x.astype(np.double)*x.astype(np.double))/len(x)\n",
    "\n",
    "def RMSE(x, y):\n",
    "    error_signal = x - y\n",
    "    return math.sqrt(average_energy(error_signal))\n",
    "\n",
    "def entropy_in_bits_per_symbol(sequence_of_symbols):\n",
    "    value, counts = np.unique(sequence_of_symbols, return_counts = True)\n",
    "    probs = counts / len(sequence_of_symbols)\n",
    "    n_classes = np.count_nonzero(probs)\n",
    "\n",
    "    if n_classes <= 1:\n",
    "        return 0\n",
    "\n",
    "    entropy = 0.\n",
    "    for i in probs:\n",
    "        entropy -= i * math.log(i, 2)\n",
    "\n",
    "    return entropy\n",
    "\n",
    "def RD_curve(x):\n",
    "    points = []\n",
    "    for q_step in range(1, 32768, 32):\n",
    "        k, y = q_deq(x, q_step)\n",
    "        rate = entropy_in_bits_per_symbol(k)\n",
    "        distortion = RMSE(x, y)\n",
    "        points.append((rate, distortion))\n",
    "    return points"
   ]
  },
  {
   "cell_type": "code",
   "execution_count": null,
   "metadata": {},
   "outputs": [],
   "source": [
    "RD_points = RD_curve(x)"
   ]
  },
  {
   "cell_type": "code",
   "execution_count": null,
   "metadata": {},
   "outputs": [],
   "source": [
    "plt.title(\"RD Tradeoff\")\n",
    "plt.xlabel(\"Expected Bits per Sample\")\n",
    "plt.ylabel(\"RMSE\")\n",
    "plt.scatter(*zip(*RD_points), s=2, c='b', marker=\"o\")\n",
    "plt.show()"
   ]
  },
  {
   "cell_type": "markdown",
   "metadata": {},
   "source": [
    "### Let's listen to the quantizer :-)"
   ]
  },
  {
   "cell_type": "code",
   "execution_count": null,
   "metadata": {
    "scrolled": true
   },
   "outputs": [],
   "source": [
    "!python ~/intercom/br_control.py --show_stats"
   ]
  },
  {
   "cell_type": "markdown",
   "metadata": {},
   "source": [
    "## 5. [Spatial (inter-channel) decorrelation](https://tecnologias-multimedia.github.io/study_guide/spatial_decorrelation/)\n",
    "The samples of a (stereo) frame tend to have similar amplitudes. For this reason, we apply [Mid/Side stereo coding](https://en.wikipedia.org/wiki/Joint_encoding#M/S_stereo_coding) (before quantization).\n",
    "\n",
    "* The MST (Mid/Side Transform) analysis transform\n",
    "\\begin{equation}\n",
    "  w = Kx = \\begin{bmatrix} 1 & 1 \\\\ 1 & -1 \\end{bmatrix}x,\n",
    "  \\label{eq:forward_transform_matrix_form}\n",
    "\\end{equation}\n",
    "that can be also written as\n",
    "\\begin{equation}\n",
    "  \\begin{bmatrix}\n",
    "    w_0 \\\\\n",
    "    w_1\n",
    "  \\end{bmatrix}\n",
    "  = \n",
    "  \\begin{bmatrix} 1 & 1 \\\\ 1 & -1 \\end{bmatrix}\n",
    "  \\begin{bmatrix}\n",
    "    x_0 \\\\\n",
    "    x_1\n",
    "  \\end{bmatrix}, \\tag{1}\n",
    "\\end{equation}\n",
    "where $x$ is a stereo frame, $K$ is the (forward or analysis)\n",
    "transform matrix and $w=\\begin{bmatrix} w_0 & w_1\\end{bmatrix}^{\\text\n",
    "  T}$ is the corresponding [decomposition](https://en.wikipedia.org/wiki/Discrete_wavelet_transform#Example_in_image_processing).\n",
    "  \n",
    "* The synthesis transform is\n",
    "\\begin{equation}\n",
    "  x = K^{-1}w\n",
    "  \\label{eq:inverse_transform}\n",
    "\\end{equation}\n",
    "can be found from Eq. (1), where we\n",
    "get that\n",
    "\\begin{equation}\n",
    "  \\begin{array}{rcl}\n",
    "  w_0 & = & x_0 + x_1\\\\\n",
    "  w_1 & = & x_0 - x_1.\n",
    "  \\end{array}\n",
    "\\end{equation}\n",
    "By solving $x_0$ (adding) and $x_1$ (substracting) in\n",
    "these equations, we obtain that\n",
    "\\begin{equation}\n",
    "  \\begin{array}{rcl}\n",
    "  x_0 & = & \\frac{1}{2}(w_0 + w_1)\\\\\n",
    "  x_1 & = & \\frac{1}{2}(w_0 - w_1),\n",
    "  \\end{array}\n",
    "\\end{equation}\n",
    "that in matrix form becomes\n",
    "\\begin{equation}\n",
    "  \\begin{bmatrix}\n",
    "    x_0 \\\\\n",
    "    x_1\n",
    "  \\end{bmatrix}\n",
    "  = \\frac{1}{2}\n",
    "  \\begin{bmatrix} 1 & 1 \\\\ 1 & -1 \\end{bmatrix}\n",
    "  \\begin{bmatrix}\n",
    "    w_0 \\\\\n",
    "    w_1\n",
    "  \\end{bmatrix}.\n",
    "\\end{equation}\n",
    "\n",
    "Therefore,\n",
    "\\begin{equation}\n",
    "  x = K^{-1}w = \\frac{1}{2}K^{\\text T}w = \\frac{1}{2}Kw = \\frac{1}{2}\\begin{bmatrix} 1 & 1 \\\\ 1 & -1 \\end{bmatrix}w.\n",
    "  \\label{eq:inverse_transform_matrix_form}\n",
    "\\end{equation}"
   ]
  },
  {
   "cell_type": "code",
   "execution_count": null,
   "metadata": {},
   "outputs": [],
   "source": [
    "def plot(y, xlabel='', ylabel='', title=''):\n",
    "    fig = plt.figure()\n",
    "    ax = fig.add_subplot(111)\n",
    "    ax.set_title(title)\n",
    "    ax.grid()\n",
    "    ax.xaxis.set_label_text(xlabel)\n",
    "    ax.yaxis.set_label_text(ylabel)\n",
    "    x = np.linspace(0, len(y)-1, len(y))\n",
    "    ax.plot(x, y, '.', markersize=1)\n",
    "    plt.show(block=False)"
   ]
  },
  {
   "cell_type": "code",
   "execution_count": null,
   "metadata": {},
   "outputs": [],
   "source": [
    "fs = 44100      # Sampling frequency\n",
    "duration = 5.0  # seconds\n",
    "x = sd.rec(int(duration * fs), samplerate=fs, channels=2, dtype=np.int16)\n",
    "print(\"Say something!\")\n",
    "while sd.wait():\n",
    "    pass\n",
    "print(\"done\")"
   ]
  },
  {
   "cell_type": "code",
   "execution_count": null,
   "metadata": {},
   "outputs": [],
   "source": [
    "plot(x, \"Sample\", \"Amplitude\", \"Audio Signal\")\n",
    "x = x[50000:]\n",
    "plot(x, \"Sample\", \"Amplitude\", \"Audio Signal\")\n",
    "sd.play(x)"
   ]
  },
  {
   "cell_type": "code",
   "execution_count": null,
   "metadata": {},
   "outputs": [],
   "source": [
    "chunk = x[101000:102000]\n",
    "plot(chunk, \"Sample\", \"Amplitude\", \"Audio Signal (zoom)\")"
   ]
  },
  {
   "cell_type": "code",
   "execution_count": null,
   "metadata": {},
   "outputs": [],
   "source": [
    "def MST_analyze(x):\n",
    "    w = np.empty_like(x, dtype=np.int32)\n",
    "    w[:, 0] = x[:, 0].astype(np.int32) + x[:, 1] # L(ow frequency subband)\n",
    "    w[:, 1] = x[:, 0].astype(np.int32) - x[:, 1] # H(igh frequency subband)\n",
    "    return w\n",
    "\n",
    "def MST_synthesize(w):\n",
    "    x = np.empty_like(w, dtype=np.int16)\n",
    "    x[:, 0] = (w[:, 0] + w[:, 1])/2 # L(ow frequency subband)\n",
    "    x[:, 1] = (w[:, 0] - w[:, 1])/2 # H(igh frequency subband)\n",
    "    return x"
   ]
  },
  {
   "cell_type": "code",
   "execution_count": null,
   "metadata": {},
   "outputs": [],
   "source": [
    "w = MST_analyze(x)"
   ]
  },
  {
   "cell_type": "code",
   "execution_count": null,
   "metadata": {},
   "outputs": [],
   "source": [
    "plot(w[:, 0], \"Sample\", \"Amplitude\", \"Mid Subband\")\n",
    "sd.play(w[:, 0].astype(np.int16))"
   ]
  },
  {
   "cell_type": "code",
   "execution_count": null,
   "metadata": {},
   "outputs": [],
   "source": [
    "plot(w[:, 1], \"Sample\", \"Amplitude\", \"Side Subband\")\n",
    "sd.play(w[:, 1].astype(np.int16))"
   ]
  },
  {
   "cell_type": "code",
   "execution_count": null,
   "metadata": {},
   "outputs": [],
   "source": [
    "K1 = np.array([1.0, 1.0])\n",
    "w1, h1 = signal.freqz(K1, fs=44100)\n",
    "K2 = np.array([1.0, -1.0])\n",
    "w2, h2 = signal.freqz(K2, fs=44100)"
   ]
  },
  {
   "cell_type": "code",
   "execution_count": null,
   "metadata": {},
   "outputs": [],
   "source": [
    "plt.subplot(211)\n",
    "plt.title('Mid/Side analysis filters transfer functions')\n",
    "plt.plot(w1, 20 * np.log10(abs(h1)), 'b')\n",
    "plt.xlabel('Frequency (Hz)')\n",
    "plt.ylabel('Amplitude [dB]')\n",
    "plt.subplot(212)\n",
    "plt.plot(w2, 20 * np.log10(abs(h2)), 'b')\n",
    "plt.xlabel('Frequency (Hz)')\n",
    "plt.ylabel('Amplitude [dB]')\n",
    "plt.show()"
   ]
  },
  {
   "cell_type": "code",
   "execution_count": null,
   "metadata": {},
   "outputs": [],
   "source": [
    "def quantizer(x, quantization_step):\n",
    "    k = (x / quantization_step).astype(np.int32)\n",
    "    return k\n",
    "\n",
    "def q_RD_curve(data):\n",
    "    RD_points = []\n",
    "    for q_step in range(16, 1024, 32):\n",
    "        k, y = q_deq(data, q_step)\n",
    "        rate = entropy_in_bits_per_symbol(k[:, 0]) + entropy_in_bits_per_symbol(k[:, 1])\n",
    "        distortion = RMSE(data, y)\n",
    "        RD_points.append((rate, distortion))\n",
    "    return RD_points\n",
    "\n",
    "def MST_RD_curve(data):\n",
    "    RD_points = []\n",
    "    for q_step in range(16, 1024, 32):\n",
    "        analyzed_data = MST_analyze(data)\n",
    "        k, y = q_deq(analyzed_data, q_step)\n",
    "        rate = entropy_in_bits_per_symbol(k[:, 0]) + entropy_in_bits_per_symbol(k[:, 1])\n",
    "        reconstructed_data = MST_synthesize(y)\n",
    "        distortion = RMSE(data, reconstructed_data)\n",
    "        RD_points.append((rate, distortion))\n",
    "    return RD_points"
   ]
  },
  {
   "cell_type": "code",
   "execution_count": null,
   "metadata": {},
   "outputs": [],
   "source": [
    "q_RD_points = q_RD_curve(x)\n",
    "MST_RD_points = MST_RD_curve(x)"
   ]
  },
  {
   "cell_type": "code",
   "execution_count": null,
   "metadata": {},
   "outputs": [],
   "source": [
    "plt.title(\"RD Tradeoff\")\n",
    "plt.xlabel(\"Bits per Sample\")\n",
    "plt.ylabel(\"RMSE\")\n",
    "plt.scatter(*zip(*MST_RD_points), c='b', marker=\".\", label='Using MST')\n",
    "plt.scatter(*zip(*q_RD_points), c='r', marker=\".\", label='Only quantization')\n",
    "plt.legend(loc='upper right')\n",
    "plt.show()"
   ]
  },
  {
   "cell_type": "markdown",
   "metadata": {},
   "source": [
    "### Result of aplying the MST to InterCom"
   ]
  },
  {
   "cell_type": "code",
   "execution_count": null,
   "metadata": {},
   "outputs": [],
   "source": [
    "!python ~/intercom/intra_frame_decorrelation.py --show_stats"
   ]
  },
  {
   "cell_type": "markdown",
   "metadata": {},
   "source": [
    "## 6. [Temporal (intra-channel) decorrelation](https://tecnologias-multimedia.github.io/study_guide/temporal_decorrelation/)\n",
    "* The samples of each channel exhibit temporal redundancy. Therefore, we use a [Discrete Wavelet Transform (DWT)](https://tecnologias-multimedia.github.io/study_guide/temporal_decorrelation/) to exploit it (before quantization).\n",
    "\n",
    "* The DWT can be implemented with PRFB's:\n",
    "![DWT](https://tecnologias-multimedia.github.io/study_guide/temporal_decorrelation/graphics/cascade.svg)\n",
    "where $l$ stands for low-frequency subband, and $h$ for high-frequency subband. $\\downarrow 2$ represents a subsampling of one of each two samples, and $\\uparrow 2$ the insertion of a 0 where the downsampler discarded a sample.\n",
    "\n",
    "* Depending on how:\n",
    "    1. $\\phi$ (the analysis scaling function (low-pass frequency analysis filter)),\n",
    "    2. $\\psi$ (the analysis wavelet function (hihg-pass frequency analysis filter),\n",
    "    3. $\\tilde\\phi$ (the synthesis scaling function (low-pass frequency synthesis filter),\n",
    "    4. and $\\tilde\\psi$ the synthesis wavelet function (high-pass frequency synthesis filter))\n",
    "are defined, a different DWT is computed."
   ]
  },
  {
   "cell_type": "markdown",
   "metadata": {},
   "source": [
    "* The DWT generates the decomposition:\n",
    " \\begin{equation*}\n",
    "    | l^s_0 | h^s_0 | h^{s-1}_0 h^{s-1}_1 | h^{s-2}_0 h^{s-2}_1 h^{s-2}_2 h^{s-2}_3 | \\cdots | h^1_0 h^1_1 \\cdots h^1_{2^{n-1}-1} |,\n",
    "  \\end{equation*}\n",
    "where $s$ represents the subband index, and each subband contains a set of coefficients."
   ]
  },
  {
   "cell_type": "markdown",
   "metadata": {},
   "source": [
    "* The [DWT in matrix](https://cseweb.ucsd.edu/classes/fa17/cse166-a/lec13.pdf) form."
   ]
  },
  {
   "cell_type": "markdown",
   "metadata": {},
   "source": [
    "### Let's see the DWT in action\n",
    "Go to the shell and run:\n",
    "```\n",
    "pyenv activate tm\n",
    "cd\n",
    "python intercom/test/sounddevice/plot_input_stereo.py &\n",
    "python intercom/test/transforms/rfft_hamming.py &\n",
    "python intercom/test/transforms/dwt5.py &\n",
    "python intercom/test/sounddevice/play_sine.py 440\n",
    "```"
   ]
  },
  {
   "cell_type": "markdown",
   "metadata": {},
   "source": [
    "### Exploring DWTs"
   ]
  },
  {
   "cell_type": "code",
   "execution_count": null,
   "metadata": {},
   "outputs": [],
   "source": [
    "import sounddevice as sd\n",
    "import pywt\n",
    "import math\n",
    "import numpy as np\n",
    "%matplotlib inline\n",
    "import matplotlib\n",
    "import matplotlib.pyplot as plt\n",
    "from scipy import signal\n",
    "from ipywidgets import interact, interactive, fixed, interact_manual\n",
    "import ipywidgets as widgets\n",
    "import pylab"
   ]
  },
  {
   "cell_type": "code",
   "execution_count": null,
   "metadata": {},
   "outputs": [],
   "source": [
    "N = 512\n",
    "levels = 4\n",
    "wavelet_name = \"haar\"\n",
    "#wavelet_name = \"db5\"\n",
    "#wavelet_name = \"db20\"\n",
    "#wavelet_name = \"bior2.2\"\n",
    "#wavelet_name = \"rbio2.2\"\n",
    "wavelet = pywt.Wavelet(wavelet_name)"
   ]
  },
  {
   "cell_type": "code",
   "execution_count": null,
   "metadata": {},
   "outputs": [],
   "source": [
    "def energy_of_signal(x):\n",
    "    return np.sum(x.astype(np.double)*x.astype(np.double))\n",
    "\n",
    "def spectrum(i):\n",
    "    zeros = np.zeros(N)\n",
    "    decomposition = pywt.wavedec(zeros, wavelet=wavelet, level=levels, mode=\"per\")\n",
    "    coefficients, slices = pywt.coeffs_to_array(decomposition)\n",
    "    coefficients[i] = 1\n",
    "    decomposition = pywt.array_to_coeffs(coefficients, slices, output_format=\"wavedec\")\n",
    "    samples = pywt.waverec(decomposition, wavelet=wavelet, mode=\"per\")\n",
    "    coefs = np.fft.rfft(samples)\n",
    "    spectrum = np.sqrt(coefs.real*coefs.real + coefs.imag*coefs.imag)\n",
    "    pylab.plot(np.linspace(0, len(spectrum)-1, len(spectrum)), spectrum)\n",
    "    energy = energy_of_signal(samples)\n",
    "    if i <= (N>>levels):\n",
    "        type = \"scaling f.\"\n",
    "    else:\n",
    "        type = \"wavelet f.\"\n",
    "    pylab.plot(np.linspace(0, len(samples)-1, len(samples)), samples, label=f\"{i} ({energy:3.2f}) {type}\")\n",
    "    pylab.legend(loc='upper right')\n",
    "    pylab.show()"
   ]
  },
  {
   "cell_type": "code",
   "execution_count": null,
   "metadata": {},
   "outputs": [],
   "source": [
    "interact(spectrum, i=widgets.IntSlider(min=0, max=N-1, step=1, value=0));"
   ]
  },
  {
   "cell_type": "markdown",
   "metadata": {},
   "source": [
    "### Let's quantify the DWT contribution"
   ]
  },
  {
   "cell_type": "code",
   "execution_count": null,
   "metadata": {},
   "outputs": [],
   "source": [
    "def quantizer(x, quantization_step):\n",
    "    k = (x / quantization_step).astype(np.int32)\n",
    "    return k\n",
    "\n",
    "def dequantizer(k, quantization_step):\n",
    "    y = quantization_step * k\n",
    "    return y\n",
    "\n",
    "def DWT_analyze(x, levels):\n",
    "    coefs = np.empty(x.shape, dtype=np.int32)\n",
    "    decomposition_0 = pywt.wavedec(x[:, 0], wavelet=wavelet, level=levels, mode=\"per\")\n",
    "    decomposition_1 = pywt.wavedec(x[:, 1], wavelet=wavelet, level=levels, mode=\"per\")\n",
    "    coefs_0, slices = pywt.coeffs_to_array(decomposition_0)\n",
    "    coefs_1, slices = pywt.coeffs_to_array(decomposition_1)\n",
    "    coefs[:, 0] = np.rint(coefs_0).astype(np.int32)\n",
    "    coefs[:, 1] = np.rint(coefs_1).astype(np.int32)\n",
    "    return coefs, slices\n",
    "\n",
    "def DWT_synthesize(coefs, slices):\n",
    "    samples = np.empty(coefs.shape, dtype=np.int16)\n",
    "    decomposition_0 = pywt.array_to_coeffs(coefs[:, 0], slices, output_format=\"wavedec\")\n",
    "    decomposition_1 = pywt.array_to_coeffs(coefs[:, 1], slices, output_format=\"wavedec\")\n",
    "    samples[:, 0] = np.rint(pywt.waverec(decomposition_0, wavelet=wavelet, mode=\"per\")).astype(np.int16)\n",
    "    samples[:, 1] = np.rint(pywt.waverec(decomposition_1, wavelet=wavelet, mode=\"per\")).astype(np.int16)\n",
    "    return samples\n",
    "\n",
    "def DWT_RD_curve(data, levels):\n",
    "    RD_points = []\n",
    "    for q_step in range(16, 1024, 32):\n",
    "        MST_coefs = MST_analyze(data)\n",
    "        DWT_coefs, slices = DWT_analyze(MST_coefs, levels)\n",
    "        k, y = q_deq(DWT_coefs, q_step)\n",
    "        rate = entropy_in_bits_per_symbol(k[:, 0]) + entropy_in_bits_per_symbol(k[:, 1])\n",
    "        MST_coefs = DWT_synthesize(y, slices)\n",
    "        reconstructed_data = MST_synthesize(MST_coefs)\n",
    "        distortion = RMSE(data, reconstructed_data)\n",
    "        RD_points.append((rate, distortion))\n",
    "    return RD_points"
   ]
  },
  {
   "cell_type": "code",
   "execution_count": null,
   "metadata": {},
   "outputs": [],
   "source": [
    "x = x[:65536]\n",
    "plot(x, \"Sample\", \"Amplitude\", \"Side Subband\")\n",
    "sd.play(x.astype(np.int16))"
   ]
  },
  {
   "cell_type": "code",
   "execution_count": null,
   "metadata": {},
   "outputs": [],
   "source": [
    "q_RD_points = q_RD_curve(x)\n",
    "MST_RD_points = MST_RD_curve(x)\n",
    "DWT_RD_points = DWT_RD_curve(x, levels = 5)"
   ]
  },
  {
   "cell_type": "code",
   "execution_count": null,
   "metadata": {},
   "outputs": [],
   "source": [
    "plt.title(\"RD Tradeoff\")\n",
    "plt.xlabel(\"Bits per Sample\")\n",
    "plt.ylabel(\"RMSE\")\n",
    "plt.scatter(*zip(*q_RD_points), c='r', marker=\".\", label='Only quantization')\n",
    "plt.scatter(*zip(*MST_RD_points), c='b', marker=\".\", label='Using MST')\n",
    "plt.scatter(*zip(*DWT_RD_points), c='g', marker=\".\", label='Using DWT')\n",
    "plt.legend(loc='upper right')\n",
    "plt.show()"
   ]
  },
  {
   "cell_type": "markdown",
   "metadata": {},
   "source": [
    "### Result of aplying the DWT to InterCom"
   ]
  },
  {
   "cell_type": "code",
   "execution_count": null,
   "metadata": {},
   "outputs": [],
   "source": [
    "!python ~/my-intercom/intra_channel_decorrelation.py --show_stats"
   ]
  },
  {
   "cell_type": "markdown",
   "metadata": {},
   "source": [
    "## 7. Future work\n",
    "1. Currently, quantization minimizes the MSE (Mean Square Error). [Perceptual](https://en.wikipedia.org/wiki/Psychoacoustics) quantization should increase the compression ratio without increasing the perceived distortion.\n",
    "2. Transmit [video](https://en.wikipedia.org/wiki/Video)."
   ]
  },
  {
   "cell_type": "markdown",
   "metadata": {},
   "source": [
    "## Appendix"
   ]
  },
  {
   "cell_type": "markdown",
   "metadata": {},
   "source": [
    "### Resumen\n",
    "\n",
    "La transmisión en tiempo real de señales sobre redes de datos no dedicadas plantea problemas de latencia y de rendimiento. En este seminario se analizan las principales técnicas usadas para mitigar dichos problemas, y se evalúa su efectividad en InterCom (https://github.com/Tecnologias-multimedia/InterCom), una aplicación que permite la intercomunicación (mediante señales de audio) entre 2 usuarios conectados a Internet. Más información en https://github.com/Tecnologias-multimedia/InterCom/blob/master/docs/2-hours_seminar.ipynb.\n",
    "\n",
    "The real-time transmission of signals over non-dedicated data networks generates latency and performance issues. In this seminar, the main techniques used to mitigate these problems are analyzed, and their effectiveness is evaluated in InterCom (https://github.com/Tecnologias-multimedia/InterCom), an application that allows intercommunication (through audio signals) between 2 users connected to the Internet. More information at https://github.com/Tecnologias-multimedia/InterCom/blob/master/docs/2-hours_seminar.ipynb."
   ]
  }
 ],
 "metadata": {
  "kernelspec": {
   "display_name": "Python 3 (ipykernel)",
   "language": "python",
   "name": "python3"
  },
  "language_info": {
   "codemirror_mode": {
    "name": "ipython",
    "version": 3
   },
   "file_extension": ".py",
   "mimetype": "text/x-python",
   "name": "python",
   "nbconvert_exporter": "python",
   "pygments_lexer": "ipython3",
   "version": "3.10.6"
  }
 },
 "nbformat": 4,
 "nbformat_minor": 2
}

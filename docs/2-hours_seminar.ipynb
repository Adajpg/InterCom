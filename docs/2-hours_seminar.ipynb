{
 "cells": [
  {
   "cell_type": "markdown",
   "metadata": {},
   "source": [
    "# A 2-Hours Seminar about [InterCom](https://github.com/Tecnologias-multimedia/intercom)"
   ]
  },
  {
   "cell_type": "markdown",
   "metadata": {},
   "source": [
    "## 1. What is InterCom\n",
    "InterCom is a real-time intercommunicator (currently, only transmitting audio). The sequence of [frames](https://python-sounddevice.readthedocs.io/en/0.3.12/api.html) (two stereo samples) is splitted into chunks and each one is transmitted in an [UDP](https://en.wikipedia.org/wiki/User_Datagram_Protocol) packet."
   ]
  },
  {
   "cell_type": "markdown",
   "metadata": {},
   "source": [
    "### A minimal implementation"
   ]
  },
  {
   "cell_type": "code",
   "execution_count": 1,
   "metadata": {},
   "outputs": [
    {
     "name": "stdout",
     "output_type": "stream",
     "text": [
      "Unable to import argcomplete\n",
      "argcomplete not working :-/\n",
      "Running Minimal__verbose.__init__\n",
      "Running Minimal.__init__\n",
      "SECONDS_PER_CYCLE = 1\n",
      "chunks_per_cycle = 43.06640625\n",
      "frames_per_cycle = 44100\n",
      "\n",
      "InterCom parameters:\n",
      "\n",
      "Namespace(destination_address='localhost', destination_port=4444, frames_per_chunk=1024, frames_per_second=44100, input_device=None, list_devices=False, listening_port=4444, output_device=None, show_samples=False, show_stats=True)\n",
      "\n",
      "Using device:\n",
      "\n",
      "   0 HDA Intel PCH: ALC3246 Analog (hw:0,0), ALSA (2 in, 2 out)\n",
      "   1 HDA Intel PCH: HDMI 0 (hw:0,3), ALSA (0 in, 8 out)\n",
      "   2 HDA Intel PCH: HDMI 1 (hw:0,7), ALSA (0 in, 8 out)\n",
      "   3 HDA Intel PCH: HDMI 2 (hw:0,8), ALSA (0 in, 8 out)\n",
      "   4 HDA Intel PCH: HDMI 3 (hw:0,9), ALSA (0 in, 8 out)\n",
      "   5 HDA Intel PCH: HDMI 4 (hw:0,10), ALSA (0 in, 8 out)\n",
      "   6 sysdefault, ALSA (128 in, 128 out)\n",
      "   7 front, ALSA (0 in, 2 out)\n",
      "   8 surround40, ALSA (0 in, 2 out)\n",
      "   9 surround51, ALSA (0 in, 2 out)\n",
      "  10 surround71, ALSA (0 in, 2 out)\n",
      "  11 hdmi, ALSA (0 in, 8 out)\n",
      "  12 samplerate, ALSA (128 in, 128 out)\n",
      "  13 speexrate, ALSA (128 in, 128 out)\n",
      "  14 pulse, ALSA (32 in, 32 out)\n",
      "  15 upmix, ALSA (8 in, 8 out)\n",
      "  16 vdownmix, ALSA (6 in, 6 out)\n",
      "  17 dmix, ALSA (0 in, 2 out)\n",
      "* 18 default, ALSA (32 in, 32 out)\n",
      "\n",
      "chunk_time = 0.023219954648526078 seconds\n",
      "NUMBER_OF_CHANNELS = 2\n",
      "Use CTRL+C to quit\n",
      "         sent   recv.    sent   recv.    Global\n",
      "cycle  mesgs.  mesgs.    kbps    kbps %CPU %CPU\n",
      "===============================================\n",
      "    1      42      42    1307    1307    4   14\n",
      "\u001b[7mAvgs:      42      42    1307    1307    4   14\u001b[m\n",
      "===============================================\n",
      "cycle  mesgs.  mesgs.    kbps    kbps %CPU %CPU\n",
      "         sent   recv.    sent   recv.    Global\n",
      "\u001b[5A\n",
      "    2      43      43    1406    1406    4   10\n",
      "\u001b[7mAvgs:      42      42    1356    1356    4   12\u001b[m\n",
      "===============================================\n",
      "cycle  mesgs.  mesgs.    kbps    kbps %CPU %CPU\n",
      "         sent   recv.    sent   recv.    Global\n",
      "\u001b[5A\n",
      "    3      44      44    1440    1440    3   14\n",
      "\u001b[7mAvgs:      43      43    1384    1384    4   13\u001b[m\n",
      "===============================================\n",
      "cycle  mesgs.  mesgs.    kbps    kbps %CPU %CPU\n",
      "         sent   recv.    sent   recv.    Global\n",
      "\u001b[5A\n",
      "    4      43      43    1406    1406    4   17\n",
      "\u001b[7mAvgs:      43      43    1389    1389    4   14\u001b[m\n",
      "===============================================\n",
      "cycle  mesgs.  mesgs.    kbps    kbps %CPU %CPU\n",
      "         sent   recv.    sent   recv.    Global\n",
      "\u001b[5A\n",
      "    5      43      43    1407    1407    5   18\n",
      "\u001b[7mAvgs:      43      43    1393    1393    4   15\u001b[m\n",
      "===============================================\n",
      "cycle  mesgs.  mesgs.    kbps    kbps %CPU %CPU\n",
      "         sent   recv.    sent   recv.    Global\n",
      "\u001b[5A\n",
      "    6      43      43    1406    1406    2   18\n",
      "\u001b[7mAvgs:      43      43    1395    1395    4   15\u001b[m\n",
      "===============================================\n",
      "cycle  mesgs.  mesgs.    kbps    kbps %CPU %CPU\n",
      "         sent   recv.    sent   recv.    Global\n",
      "\u001b[5A\n",
      "    7      43      43    1407    1407    2   17\n",
      "\u001b[7mAvgs:      43      43    1397    1397    4   16\u001b[m\n",
      "===============================================\n",
      "cycle  mesgs.  mesgs.    kbps    kbps %CPU %CPU\n",
      "         sent   recv.    sent   recv.    Global\n",
      "\u001b[5A\n",
      "    8      43      43    1406    1406    2   19\n",
      "\u001b[7mAvgs:      43      43    1398    1398    4   16\u001b[m\n",
      "===============================================\n",
      "cycle  mesgs.  mesgs.    kbps    kbps %CPU %CPU\n",
      "         sent   recv.    sent   recv.    Global\n",
      "\u001b[5A\n",
      "    9      43      43    1407    1407    3   18\n",
      "\u001b[7mAvgs:      43      43    1399    1399    4   16\u001b[m\n",
      "===============================================\n",
      "cycle  mesgs.  mesgs.    kbps    kbps %CPU %CPU\n",
      "         sent   recv.    sent   recv.    Global\n",
      "\u001b[5A\n",
      "   10      44      44    1439    1439    4   17\n",
      "\u001b[7mAvgs:      43      43    1403    1403    4   16\u001b[m\n",
      "===============================================\n",
      "cycle  mesgs.  mesgs.    kbps    kbps %CPU %CPU\n",
      "         sent   recv.    sent   recv.    Global\n",
      "\u001b[5A\n",
      "   11      43      43    1406    1406    3   17\n",
      "\u001b[7mAvgs:      43      43    1403    1403    4   16\u001b[m\n",
      "===============================================\n",
      "cycle  mesgs.  mesgs.    kbps    kbps %CPU %CPU\n",
      "         sent   recv.    sent   recv.    Global\n",
      "\u001b[5A\n",
      "   12      43      43    1406    1406    4   15\n",
      "\u001b[7mAvgs:      43      43    1403    1403    4   16\u001b[m\n",
      "===============================================\n",
      "cycle  mesgs.  mesgs.    kbps    kbps %CPU %CPU\n",
      "         sent   recv.    sent   recv.    Global\n",
      "\u001b[5A\n",
      "   13      43      43    1406    1406    3   17\n",
      "\u001b[7mAvgs:      43      43    1403    1403    4   16\u001b[m\n",
      "===============================================\n",
      "cycle  mesgs.  mesgs.    kbps    kbps %CPU %CPU\n",
      "         sent   recv.    sent   recv.    Global\n",
      "\u001b[5A\n",
      "   14      43      43    1407    1407    2   15\n",
      "\u001b[7mAvgs:      43      43    1404    1404    4   16\u001b[m\n",
      "===============================================\n",
      "cycle  mesgs.  mesgs.    kbps    kbps %CPU %CPU\n",
      "         sent   recv.    sent   recv.    Global\n",
      "\u001b[5A\n",
      "   15      43      43    1406    1406    4   15\n",
      "\u001b[7mAvgs:      43      43    1404    1404    4   16\u001b[m\n",
      "===============================================\n",
      "cycle  mesgs.  mesgs.    kbps    kbps %CPU %CPU\n",
      "         sent   recv.    sent   recv.    Global\n",
      "\u001b[5A\n",
      "   16      44      44    1439    1439    3   17\n",
      "\u001b[7mAvgs:      43      43    1406    1406    4   16\u001b[m\n",
      "===============================================\n",
      "cycle  mesgs.  mesgs.    kbps    kbps %CPU %CPU\n",
      "         sent   recv.    sent   recv.    Global\n",
      "\u001b[5A\n",
      "   17      43      43    1406    1406    3   18\n",
      "\u001b[7mAvgs:      43      43    1406    1406    4   16\u001b[m\n",
      "===============================================\n",
      "cycle  mesgs.  mesgs.    kbps    kbps %CPU %CPU\n",
      "         sent   recv.    sent   recv.    Global\n",
      "\u001b[5A\n",
      "   18      43      43    1407    1407    2   16\n",
      "\u001b[7mAvgs:      43      43    1406    1406    4   16\u001b[m\n",
      "===============================================\n",
      "cycle  mesgs.  mesgs.    kbps    kbps %CPU %CPU\n",
      "         sent   recv.    sent   recv.    Global\n",
      "\u001b[5A\n",
      "   19      44      44    1439    1439    2   17\n",
      "\u001b[7mAvgs:      43      43    1408    1408    4   16\u001b[m\n",
      "===============================================\n",
      "cycle  mesgs.  mesgs.    kbps    kbps %CPU %CPU\n",
      "         sent   recv.    sent   recv.    Global\n",
      "\u001b[5A\n",
      "   20      43      43    1407    1407    1   17\n",
      "\u001b[7mAvgs:      43      43    1408    1408    3   16\u001b[m\n",
      "===============================================\n",
      "cycle  mesgs.  mesgs.    kbps    kbps %CPU %CPU\n",
      "         sent   recv.    sent   recv.    Global\n",
      "\u001b[5A\n",
      "   21      43      43    1407    1407    3   19\n",
      "\u001b[7mAvgs:      43      43    1407    1407    3   16\u001b[m\n",
      "===============================================\n",
      "cycle  mesgs.  mesgs.    kbps    kbps %CPU %CPU\n",
      "         sent   recv.    sent   recv.    Global\n",
      "\u001b[5A\n",
      "   22      43      43    1406    1406    2   16\n",
      "\u001b[7mAvgs:      43      43    1407    1407    3   16\u001b[m\n",
      "===============================================\n",
      "cycle  mesgs.  mesgs.    kbps    kbps %CPU %CPU\n",
      "         sent   recv.    sent   recv.    Global\n",
      "\u001b[5A\n",
      "   23      43      43    1406    1406    3   16\n",
      "\u001b[7mAvgs:      43      43    1407    1407    3   16\u001b[m\n",
      "===============================================\n",
      "cycle  mesgs.  mesgs.    kbps    kbps %CPU %CPU\n",
      "         sent   recv.    sent   recv.    Global\n",
      "\u001b[5A\n",
      "   24      43      43    1408    1408    1   16\n",
      "\u001b[7mAvgs:      43      43    1407    1407    3   16\u001b[m\n",
      "===============================================\n",
      "cycle  mesgs.  mesgs.    kbps    kbps %CPU %CPU\n",
      "         sent   recv.    sent   recv.    Global\n",
      "\u001b[5A\n",
      "   25      43      43    1407    1407    2   16\n",
      "\u001b[7mAvgs:      43      43    1407    1407    3   16\u001b[m\n",
      "===============================================\n",
      "cycle  mesgs.  mesgs.    kbps    kbps %CPU %CPU\n",
      "         sent   recv.    sent   recv.    Global\n",
      "\u001b[5A\n",
      "   26      43      43    1407    1407    1   16\n",
      "\u001b[7mAvgs:      43      43    1407    1407    3   16\u001b[m\n",
      "===============================================\n",
      "cycle  mesgs.  mesgs.    kbps    kbps %CPU %CPU\n",
      "         sent   recv.    sent   recv.    Global\n",
      "\u001b[5A\n",
      "   27      43      43    1407    1407    2   16\n",
      "\u001b[7mAvgs:      43      43    1407    1407    3   16\u001b[m\n",
      "===============================================\n",
      "cycle  mesgs.  mesgs.    kbps    kbps %CPU %CPU\n",
      "         sent   recv.    sent   recv.    Global\n",
      "\u001b[5A\n"
     ]
    },
    {
     "name": "stdout",
     "output_type": "stream",
     "text": [
      "   28      43      43    1407    1407    3   14\n",
      "\u001b[7mAvgs:      43      43    1407    1407    3   16\u001b[m\n",
      "===============================================\n",
      "cycle  mesgs.  mesgs.    kbps    kbps %CPU %CPU\n",
      "         sent   recv.    sent   recv.    Global\n",
      "\u001b[5A\n",
      "   29      43      43    1406    1406    4   17\n",
      "\u001b[7mAvgs:      43      43    1407    1407    3   16\u001b[m\n",
      "===============================================\n",
      "cycle  mesgs.  mesgs.    kbps    kbps %CPU %CPU\n",
      "         sent   recv.    sent   recv.    Global\n",
      "\u001b[5A\n",
      "   30      44      44    1440    1440    4   13\n",
      "\u001b[7mAvgs:      43      43    1408    1408    3   16\u001b[m\n",
      "===============================================\n",
      "cycle  mesgs.  mesgs.    kbps    kbps %CPU %CPU\n",
      "         sent   recv.    sent   recv.    Global\n",
      "\u001b[5A\n",
      "   31      43      43    1406    1406    2   15\n",
      "\u001b[7mAvgs:      43      43    1408    1408    3   16\u001b[m\n",
      "===============================================\n",
      "cycle  mesgs.  mesgs.    kbps    kbps %CPU %CPU\n",
      "         sent   recv.    sent   recv.    Global\n",
      "\u001b[5A\n",
      "^C\n",
      "\n",
      "\n",
      "\n",
      "\n",
      "\n",
      "CPU usage average = 3.7931371842251607 %\n",
      "Payload sent average = 1408.6129032258063 kilo bits per second\n",
      "Payload received average = 1408.6129032258063 kilo bits per second\n"
     ]
    }
   ],
   "source": [
    "# Interrupt with: Kernel -> Interrupt\n",
    "!python ../minimal.py --show_stats"
   ]
  },
  {
   "cell_type": "markdown",
   "metadata": {},
   "source": [
    "## Theoretical bit-rate\n",
    "$$\n",
    "\\frac{44100\\frac{\\text{frames}}{\\text{second}}\\times 2\\frac{\\text{samples}}{\\text{frame}}\\times 2\\frac{\\text{bytes}}{\\text{sample}}\\times 8\\frac{\\text{bits}}{\\text{byte}}}{1000} = 1411.2 ~\\text{kbps}\n",
    "$$"
   ]
  },
  {
   "cell_type": "markdown",
   "metadata": {},
   "source": [
    "## 2. Jitter and buffering\n",
    "Non-dedicated links use to have a significant [jitter](https://en.wikipedia.org/wiki/Jitter).\n",
    "To hide the it, we can use buffering:\n",
    "\n",
    "![Buffering](https://tecnologias-multimedia.github.io/study_guide/buffering/graphics/timelines.svg)"
   ]
  },
  {
   "cell_type": "markdown",
   "metadata": {},
   "source": [
    "### Which is the latency and jitter in my host?"
   ]
  },
  {
   "cell_type": "code",
   "execution_count": 3,
   "metadata": {},
   "outputs": [
    {
     "name": "stdout",
     "output_type": "stream",
     "text": [
      "PING localhost (127.0.0.1) 56(84) bytes of data.\n",
      "64 bytes from localhost (127.0.0.1): icmp_seq=1 ttl=64 time=0.018 ms\n",
      "64 bytes from localhost (127.0.0.1): icmp_seq=2 ttl=64 time=0.060 ms\n",
      "64 bytes from localhost (127.0.0.1): icmp_seq=3 ttl=64 time=0.056 ms\n",
      "64 bytes from localhost (127.0.0.1): icmp_seq=4 ttl=64 time=0.058 ms\n",
      "64 bytes from localhost (127.0.0.1): icmp_seq=5 ttl=64 time=0.064 ms\n",
      "64 bytes from localhost (127.0.0.1): icmp_seq=6 ttl=64 time=0.036 ms\n",
      "64 bytes from localhost (127.0.0.1): icmp_seq=7 ttl=64 time=0.058 ms\n",
      "64 bytes from localhost (127.0.0.1): icmp_seq=8 ttl=64 time=0.058 ms\n",
      "64 bytes from localhost (127.0.0.1): icmp_seq=9 ttl=64 time=0.054 ms\n",
      "64 bytes from localhost (127.0.0.1): icmp_seq=10 ttl=64 time=0.058 ms\n",
      "\n",
      "--- localhost ping statistics ---\n",
      "10 packets transmitted, 10 received, 0% packet loss, time 9205ms\n",
      "rtt min/avg/max/mdev = 0.018/0.052/0.064/0.013 ms\n"
     ]
    }
   ],
   "source": [
    "!ping -c 10 localhost"
   ]
  },
  {
   "cell_type": "markdown",
   "metadata": {},
   "source": [
    "Too good. Real links have much higher latencies."
   ]
  },
  {
   "cell_type": "markdown",
   "metadata": {},
   "source": [
    "### Let's increases latency and jitter for the `localhost` link\n",
    "Let's try:\n",
    "* Latency = 100 ms.\n",
    "* Jitter = 100 ms.\n",
    "* Correlation between RTTs = 0.25 (<1.0).\n",
    "* Statistical distribution of the RTTs = normal."
   ]
  },
  {
   "cell_type": "code",
   "execution_count": 5,
   "metadata": {},
   "outputs": [
    {
     "name": "stdout",
     "output_type": "stream",
     "text": [
      "qdisc noqueue 0: root refcnt 2 \n",
      "qdisc netem 1: root refcnt 2 limit 1000 delay 100.0ms  100.0ms 25%\n"
     ]
    }
   ],
   "source": [
    "# Remember to add \"your_username_here ALL=(ALL) NOPASSWD: ALL\" to the end of /etc/sudoers.\n",
    "# Notice that these times express RTTs, not simple one-way lantencies.\n",
    "!tc qdisc show dev lo\n",
    "!sudo tc qdisc add dev lo root handle 1: netem delay 100ms 100ms 25% distribution normal\n",
    "!tc qdisc show dev lo"
   ]
  },
  {
   "cell_type": "markdown",
   "metadata": {},
   "source": [
    "## Let's see ..."
   ]
  },
  {
   "cell_type": "code",
   "execution_count": 6,
   "metadata": {},
   "outputs": [
    {
     "name": "stdout",
     "output_type": "stream",
     "text": [
      "PING localhost (127.0.0.1) 56(84) bytes of data.\n",
      "64 bytes from localhost (127.0.0.1): icmp_seq=1 ttl=64 time=180 ms\n",
      "64 bytes from localhost (127.0.0.1): icmp_seq=2 ttl=64 time=208 ms\n",
      "64 bytes from localhost (127.0.0.1): icmp_seq=3 ttl=64 time=331 ms\n",
      "64 bytes from localhost (127.0.0.1): icmp_seq=4 ttl=64 time=200 ms\n",
      "64 bytes from localhost (127.0.0.1): icmp_seq=5 ttl=64 time=213 ms\n",
      "64 bytes from localhost (127.0.0.1): icmp_seq=6 ttl=64 time=405 ms\n",
      "64 bytes from localhost (127.0.0.1): icmp_seq=7 ttl=64 time=102 ms\n",
      "64 bytes from localhost (127.0.0.1): icmp_seq=8 ttl=64 time=234 ms\n",
      "64 bytes from localhost (127.0.0.1): icmp_seq=9 ttl=64 time=284 ms\n",
      "64 bytes from localhost (127.0.0.1): icmp_seq=10 ttl=64 time=117 ms\n",
      "\n",
      "--- localhost ping statistics ---\n",
      "10 packets transmitted, 10 received, 0% packet loss, time 9003ms\n",
      "rtt min/avg/max/mdev = 102.113/227.520/404.770/87.751 ms\n"
     ]
    }
   ],
   "source": [
    "!ping -c 10 localhost"
   ]
  },
  {
   "cell_type": "markdown",
   "metadata": {},
   "source": [
    "OK, as we can see, at least 100 ms of latency is added to the sent packets and also to the received packets. Total, approx: 200 ms."
   ]
  },
  {
   "cell_type": "markdown",
   "metadata": {},
   "source": [
    "### Let's listen again to minimal"
   ]
  },
  {
   "cell_type": "code",
   "execution_count": 7,
   "metadata": {},
   "outputs": [
    {
     "name": "stdout",
     "output_type": "stream",
     "text": [
      "Unable to import argcomplete\n",
      "argcomplete not working :-/\n",
      "Running Minimal__verbose.__init__\n",
      "Running Minimal.__init__\n",
      "SECONDS_PER_CYCLE = 1\n",
      "chunks_per_cycle = 43.06640625\n",
      "frames_per_cycle = 44100\n",
      "\n",
      "InterCom parameters:\n",
      "\n",
      "Namespace(destination_address='localhost', destination_port=4444, frames_per_chunk=1024, frames_per_second=44100, input_device=None, list_devices=False, listening_port=4444, output_device=None, show_samples=False, show_stats=True)\n",
      "\n",
      "Using device:\n",
      "\n",
      "   0 HDA Intel PCH: ALC3246 Analog (hw:0,0), ALSA (2 in, 2 out)\n",
      "   1 HDA Intel PCH: HDMI 0 (hw:0,3), ALSA (0 in, 8 out)\n",
      "   2 HDA Intel PCH: HDMI 1 (hw:0,7), ALSA (0 in, 8 out)\n",
      "   3 HDA Intel PCH: HDMI 2 (hw:0,8), ALSA (0 in, 8 out)\n",
      "   4 HDA Intel PCH: HDMI 3 (hw:0,9), ALSA (0 in, 8 out)\n",
      "   5 HDA Intel PCH: HDMI 4 (hw:0,10), ALSA (0 in, 8 out)\n",
      "   6 sysdefault, ALSA (128 in, 128 out)\n",
      "   7 front, ALSA (0 in, 2 out)\n",
      "   8 surround40, ALSA (0 in, 2 out)\n",
      "   9 surround51, ALSA (0 in, 2 out)\n",
      "  10 surround71, ALSA (0 in, 2 out)\n",
      "  11 hdmi, ALSA (0 in, 8 out)\n",
      "  12 samplerate, ALSA (128 in, 128 out)\n",
      "  13 speexrate, ALSA (128 in, 128 out)\n",
      "  14 pulse, ALSA (32 in, 32 out)\n",
      "  15 upmix, ALSA (8 in, 8 out)\n",
      "  16 vdownmix, ALSA (6 in, 6 out)\n",
      "  17 dmix, ALSA (0 in, 2 out)\n",
      "* 18 default, ALSA (32 in, 32 out)\n",
      "\n",
      "chunk_time = 0.023219954648526078 seconds\n",
      "NUMBER_OF_CHANNELS = 2\n",
      "Use CTRL+C to quit\n",
      "         sent   recv.    sent   recv.    Global\n",
      "cycle  mesgs.  mesgs.    kbps    kbps %CPU %CPU\n",
      "===============================================\n",
      "playing zero chunk\n",
      "playing zero chunk\n",
      "playing zero chunk\n",
      "playing zero chunk\n",
      "playing zero chunk\n",
      "playing zero chunk\n",
      "playing zero chunk\n",
      "playing zero chunk\n",
      "    1      42      34    1300    1052    4    9\n",
      "\u001b[7mAvgs:      42      34    1300    1052    4    9\u001b[m\n",
      "===============================================\n",
      "cycle  mesgs.  mesgs.    kbps    kbps %CPU %CPU\n",
      "         sent   recv.    sent   recv.    Global\n",
      "\u001b[5A\n",
      "playing zero chunk\n",
      "    2      43      42    1406    1373    4    7\n",
      "\u001b[7mAvgs:      42      38    1353    1212    4    8\u001b[m\n",
      "===============================================\n",
      "cycle  mesgs.  mesgs.    kbps    kbps %CPU %CPU\n",
      "         sent   recv.    sent   recv.    Global\n",
      "\u001b[5A\n",
      "    3      44      44    1439    1439    3    6\n",
      "\u001b[7mAvgs:      43      40    1381    1288    4    7\u001b[m\n",
      "===============================================\n",
      "cycle  mesgs.  mesgs.    kbps    kbps %CPU %CPU\n",
      "         sent   recv.    sent   recv.    Global\n",
      "\u001b[5A\n",
      "    4      43      43    1406    1406    5    6\n",
      "\u001b[7mAvgs:      43      40    1387    1317    4    7\u001b[m\n",
      "===============================================\n",
      "cycle  mesgs.  mesgs.    kbps    kbps %CPU %CPU\n",
      "         sent   recv.    sent   recv.    Global\n",
      "\u001b[5A\n",
      "    5      43      43    1407    1407    2   13\n",
      "\u001b[7mAvgs:      43      41    1391    1335    4    8\u001b[m\n",
      "===============================================\n",
      "cycle  mesgs.  mesgs.    kbps    kbps %CPU %CPU\n",
      "         sent   recv.    sent   recv.    Global\n",
      "\u001b[5A\n",
      "    6      43      43    1406    1406    0   14\n",
      "\u001b[7mAvgs:      43      41    1394    1347    3    9\u001b[m\n",
      "===============================================\n",
      "cycle  mesgs.  mesgs.    kbps    kbps %CPU %CPU\n",
      "         sent   recv.    sent   recv.    Global\n",
      "\u001b[5A\n",
      "    7      44      44    1439    1439    4   10\n",
      "\u001b[7mAvgs:      43      41    1400    1360    4    9\u001b[m\n",
      "===============================================\n",
      "cycle  mesgs.  mesgs.    kbps    kbps %CPU %CPU\n",
      "         sent   recv.    sent   recv.    Global\n",
      "\u001b[5A\n",
      "    8      43      43    1407    1407    1   18\n",
      "\u001b[7mAvgs:      43      42    1401    1366    3   10\u001b[m\n",
      "===============================================\n",
      "cycle  mesgs.  mesgs.    kbps    kbps %CPU %CPU\n",
      "         sent   recv.    sent   recv.    Global\n",
      "\u001b[5A\n",
      "^C\n",
      "\n",
      "\n",
      "\n",
      "\n",
      "\n",
      "CPU usage average = 3.8352086289276217 %\n",
      "Payload sent average = 1401.25 kilo bits per second\n",
      "Payload received average = 1366.1250000000002 kilo bits per second\n"
     ]
    }
   ],
   "source": [
    "!python ../minimal.py --show_stats"
   ]
  },
  {
   "cell_type": "markdown",
   "metadata": {},
   "source": [
    "Quite bad :-/ The chunks don't arrive with a constant cadence to the receiver (see the previous figure)."
   ]
  },
  {
   "cell_type": "markdown",
   "metadata": {},
   "source": [
    "### Let's listen to the version of InterCom that uses a buffer of 300 ms"
   ]
  },
  {
   "cell_type": "code",
   "execution_count": 8,
   "metadata": {},
   "outputs": [
    {
     "name": "stdout",
     "output_type": "stream",
     "text": [
      "Unable to import argcomplete\n",
      "Unable to import argcomplete\n",
      "argcomplete not working :-/\n",
      "Running Buffering__verbose.__init__\n",
      "Running Buffering.__init__\n",
      "Running Minimal__verbose.__init__\n",
      "Running Minimal.__init__\n",
      "SECONDS_PER_CYCLE = 1\n",
      "chunks_per_cycle = 43.06640625\n",
      "frames_per_cycle = 44100\n",
      "buffering_time = 300 miliseconds\n",
      "chunks_to_buffer = 13\n",
      "\n",
      "InterCom parameters:\n",
      "\n",
      "Namespace(buffering_time=300, destination_address='localhost', destination_port=4444, frames_per_chunk=1024, frames_per_second=44100, input_device=None, list_devices=False, listening_port=4444, output_device=None, show_samples=False, show_stats=True)\n",
      "\n",
      "Using device:\n",
      "\n",
      "   0 HDA Intel PCH: ALC3246 Analog (hw:0,0), ALSA (2 in, 2 out)\n",
      "   1 HDA Intel PCH: HDMI 0 (hw:0,3), ALSA (0 in, 8 out)\n",
      "   2 HDA Intel PCH: HDMI 1 (hw:0,7), ALSA (0 in, 8 out)\n",
      "   3 HDA Intel PCH: HDMI 2 (hw:0,8), ALSA (0 in, 8 out)\n",
      "   4 HDA Intel PCH: HDMI 3 (hw:0,9), ALSA (0 in, 8 out)\n",
      "   5 HDA Intel PCH: HDMI 4 (hw:0,10), ALSA (0 in, 8 out)\n",
      "   6 sysdefault, ALSA (128 in, 128 out)\n",
      "   7 front, ALSA (0 in, 2 out)\n",
      "   8 surround40, ALSA (0 in, 2 out)\n",
      "   9 surround51, ALSA (0 in, 2 out)\n",
      "  10 surround71, ALSA (0 in, 2 out)\n",
      "  11 hdmi, ALSA (0 in, 8 out)\n",
      "  12 samplerate, ALSA (128 in, 128 out)\n",
      "  13 speexrate, ALSA (128 in, 128 out)\n",
      "  14 pulse, ALSA (32 in, 32 out)\n",
      "  15 upmix, ALSA (8 in, 8 out)\n",
      "  16 vdownmix, ALSA (6 in, 6 out)\n",
      "  17 dmix, ALSA (0 in, 2 out)\n",
      "* 18 default, ALSA (32 in, 32 out)\n",
      "\n",
      "chunk_time = 0.023219954648526078 seconds\n",
      "NUMBER_OF_CHANNELS = 2\n",
      "Use CTRL+C to quit\n",
      "         sent   recv.    sent   recv.    Global\n",
      "cycle  mesgs.  mesgs.    kbps    kbps %CPU %CPU\n",
      "===============================================\n",
      "first_received_chunk_number = 2\n",
      "    1      41      36    1342    1178    4    8\n",
      "\u001b[7mAvgs:      41      36    1342    1178    4    8\u001b[m\n",
      "===============================================\n",
      "cycle  mesgs.  mesgs.    kbps    kbps %CPU %CPU\n",
      "         sent   recv.    sent   recv.    Global\n",
      "\u001b[5A\n",
      "    2      42      42    1373    1373    5    8\n",
      "\u001b[7mAvgs:      41      39    1357    1275    5    8\u001b[m\n",
      "===============================================\n",
      "cycle  mesgs.  mesgs.    kbps    kbps %CPU %CPU\n",
      "         sent   recv.    sent   recv.    Global\n",
      "\u001b[5A\n",
      "    3      43      41    1407    1341    4    7\n",
      "\u001b[7mAvgs:      42      39    1374    1297    5    7\u001b[m\n",
      "===============================================\n",
      "cycle  mesgs.  mesgs.    kbps    kbps %CPU %CPU\n",
      "         sent   recv.    sent   recv.    Global\n",
      "\u001b[5A\n",
      "    4      44      46    1440    1505    4    8\n",
      "\u001b[7mAvgs:      42      41    1390    1349    5    8\u001b[m\n",
      "===============================================\n",
      "cycle  mesgs.  mesgs.    kbps    kbps %CPU %CPU\n",
      "         sent   recv.    sent   recv.    Global\n",
      "\u001b[5A\n",
      "    5      43      43    1407    1407    5    9\n",
      "\u001b[7mAvgs:      42      41    1393    1360    5    8\u001b[m\n",
      "===============================================\n",
      "cycle  mesgs.  mesgs.    kbps    kbps %CPU %CPU\n",
      "         sent   recv.    sent   recv.    Global\n",
      "\u001b[5A\n",
      "    6      43      42    1407    1374    4    8\n",
      "\u001b[7mAvgs:      42      41    1396    1363    5    8\u001b[m\n",
      "===============================================\n",
      "cycle  mesgs.  mesgs.    kbps    kbps %CPU %CPU\n",
      "         sent   recv.    sent   recv.    Global\n",
      "\u001b[5A\n",
      "    7      43      44    1407    1439    4    8\n",
      "\u001b[7mAvgs:      42      42    1397    1373    5    8\u001b[m\n",
      "===============================================\n",
      "cycle  mesgs.  mesgs.    kbps    kbps %CPU %CPU\n",
      "         sent   recv.    sent   recv.    Global\n",
      "\u001b[5A\n",
      "    8      44      40    1440    1309    1   10\n",
      "\u001b[7mAvgs:      42      41    1402    1365    4    8\u001b[m\n",
      "===============================================\n",
      "cycle  mesgs.  mesgs.    kbps    kbps %CPU %CPU\n",
      "         sent   recv.    sent   recv.    Global\n",
      "\u001b[5A\n",
      "    9      43      43    1407    1407    3    8\n",
      "\u001b[7mAvgs:      42      41    1403    1370    4    8\u001b[m\n",
      "===============================================\n",
      "cycle  mesgs.  mesgs.    kbps    kbps %CPU %CPU\n",
      "         sent   recv.    sent   recv.    Global\n",
      "\u001b[5A\n",
      "   10      42      47    1374    1538    2    9\n",
      "\u001b[7mAvgs:      42      42    1400    1387    4    8\u001b[m\n",
      "===============================================\n",
      "cycle  mesgs.  mesgs.    kbps    kbps %CPU %CPU\n",
      "         sent   recv.    sent   recv.    Global\n",
      "\u001b[5A\n",
      "   11      45      42    1472    1374    4   10\n",
      "\u001b[7mAvgs:      43      42    1406    1385    4    8\u001b[m\n",
      "===============================================\n",
      "cycle  mesgs.  mesgs.    kbps    kbps %CPU %CPU\n",
      "         sent   recv.    sent   recv.    Global\n",
      "\u001b[5A\n",
      "   12      43      43    1407    1407    4    9\n",
      "\u001b[7mAvgs:      43      42    1406    1387    4    8\u001b[m\n",
      "===============================================\n",
      "cycle  mesgs.  mesgs.    kbps    kbps %CPU %CPU\n",
      "         sent   recv.    sent   recv.    Global\n",
      "\u001b[5A\n",
      "   13      43      44    1408    1440    4   13\n",
      "\u001b[7mAvgs:      43      42    1406    1391    4    9\u001b[m\n",
      "===============================================\n",
      "cycle  mesgs.  mesgs.    kbps    kbps %CPU %CPU\n",
      "         sent   recv.    sent   recv.    Global\n",
      "\u001b[5A\n",
      "   14      43      43    1408    1408    3   12\n",
      "\u001b[7mAvgs:      43      42    1407    1392    4    9\u001b[m\n",
      "===============================================\n",
      "cycle  mesgs.  mesgs.    kbps    kbps %CPU %CPU\n",
      "         sent   recv.    sent   recv.    Global\n",
      "\u001b[5A\n",
      "   15      42      43    1374    1407    3    8\n",
      "\u001b[7mAvgs:      42      42    1404    1393    4    9\u001b[m\n",
      "===============================================\n",
      "cycle  mesgs.  mesgs.    kbps    kbps %CPU %CPU\n",
      "         sent   recv.    sent   recv.    Global\n",
      "\u001b[5A\n",
      "   16      44      44    1439    1439    2    7\n",
      "\u001b[7mAvgs:      43      42    1407    1396    4    9\u001b[m\n",
      "===============================================\n",
      "cycle  mesgs.  mesgs.    kbps    kbps %CPU %CPU\n",
      "         sent   recv.    sent   recv.    Global\n",
      "\u001b[5A\n",
      "   17      43      42    1408    1376    4    9\n",
      "\u001b[7mAvgs:      43      42    1407    1395    4    9\u001b[m\n",
      "===============================================\n",
      "cycle  mesgs.  mesgs.    kbps    kbps %CPU %CPU\n",
      "         sent   recv.    sent   recv.    Global\n",
      "\u001b[5A\n",
      "   18      43      42    1407    1374    5    6\n",
      "\u001b[7mAvgs:      43      42    1407    1394    4    9\u001b[m\n",
      "===============================================\n",
      "cycle  mesgs.  mesgs.    kbps    kbps %CPU %CPU\n",
      "         sent   recv.    sent   recv.    Global\n",
      "\u001b[5A\n",
      "^C\n",
      "\n",
      "\n",
      "\n",
      "\n",
      "\n",
      "CPU usage average = 4.604067494560276 %\n",
      "Payload sent average = 1407.0555555555554 kilo bits per second\n",
      "Payload received average = 1394.2222222222224 kilo bits per second\n"
     ]
    }
   ],
   "source": [
    "!python ../buffer.py -b 300 --show_stats"
   ]
  },
  {
   "cell_type": "markdown",
   "metadata": {},
   "source": [
    "Much better!"
   ]
  },
  {
   "cell_type": "markdown",
   "metadata": {},
   "source": [
    "### (Optional) Remove tc rules\n",
    "They will be created after, again ..."
   ]
  },
  {
   "cell_type": "code",
   "execution_count": 9,
   "metadata": {},
   "outputs": [
    {
     "name": "stdout",
     "output_type": "stream",
     "text": [
      "qdisc noqueue 0: root refcnt 2 \r\n"
     ]
    }
   ],
   "source": [
    "!sudo tc qdisc del dev lo root\n",
    "!tc qdisc show dev lo"
   ]
  },
  {
   "cell_type": "markdown",
   "metadata": {},
   "source": [
    "## 3. Compression using [DEFLATE](https://en.wikipedia.org/wiki/DEFLATE)\n",
    "We have \"hidden\" the jitter, but ... what happens if the available transmission bandwidth (the so called [network throughput](https://en.wikipedia.org/wiki/Throughput)) is not able to send and recive 1.41 Mbps?\n",
    "\n",
    "A solution can be compression. The chunks can be compressed with [LZSS](https://en.wikipedia.org/wiki/Lempel-Ziv-Storer-Szymanski) (that is based on [LZ77](https://github.com/vicente-gonzalez-ruiz/LZ77)) and [Huffman Coding](https://en.wikipedia.org/wiki/Huffman_coding) (see also [this](https://vicente-gonzalez-ruiz.github.io/Huffman_coding/)).\n",
    "\n",
    "We have choosen this text compression codec because:\n",
    "1. It's fast.\n",
    "2. Works well when repeated strings are found at the input.\n",
    "3. I's available with [The Standard Python Library](https://docs.python.org/3/library/) ([zlib](https://docs.python.org/3/library/zlib.html))."
   ]
  },
  {
   "cell_type": "markdown",
   "metadata": {},
   "source": [
    "### Estimation of the throughput of the `localhost` link\n",
    "Notice that this measurement depends heavely on the packet size, that using ping is limited to 64 KB. For this reason, the results can be only approximated :-/"
   ]
  },
  {
   "cell_type": "code",
   "execution_count": 10,
   "metadata": {},
   "outputs": [
    {
     "name": "stdout",
     "output_type": "stream",
     "text": [
      "Error: Cannot delete qdisc with handle of zero.\n",
      "qdisc noqueue 0: root refcnt 2 \n",
      "ping: packet size 65527 is too large. Maximum is 65507\n"
     ]
    }
   ],
   "source": [
    "!sudo tc qdisc del dev lo root\n",
    "!tc qdisc show dev lo\n",
    "!ping -c 1 -s 65527 localhost # Header length: 9 bytes"
   ]
  },
  {
   "cell_type": "code",
   "execution_count": 11,
   "metadata": {},
   "outputs": [
    {
     "name": "stdout",
     "output_type": "stream",
     "text": [
      "Gbps = 1.78304761904761904761\n"
     ]
    }
   ],
   "source": [
    "!printf \"Gbps = \"\n",
    "!echo 65527*8/0.147/2/1000/1000 | bc -l"
   ]
  },
  {
   "cell_type": "markdown",
   "metadata": {},
   "source": [
    "Too high! We need harder conditions for testing InterCom ..."
   ]
  },
  {
   "cell_type": "markdown",
   "metadata": {},
   "source": [
    "### Let's limit the transmission bit-rate to 200 kbps\n",
    "And also set the previous latency (200 ms) and jitter (200 ms)."
   ]
  },
  {
   "cell_type": "code",
   "execution_count": 27,
   "metadata": {},
   "outputs": [],
   "source": [
    "!sudo tc qdisc add dev lo root handle 1: netem delay 100ms 100ms 25% distribution normal\n",
    "!sudo tc qdisc add dev lo parent 1:1 handle 10: tbf rate 100kbit burst 128kbit limit 128kbit"
   ]
  },
  {
   "cell_type": "code",
   "execution_count": null,
   "metadata": {},
   "outputs": [
    {
     "name": "stdout",
     "output_type": "stream",
     "text": [
      "PING localhost (127.0.0.1) 65507(65535) bytes of data.\r\n"
     ]
    }
   ],
   "source": [
    "!ping -c 1 -s 65507 localhost"
   ]
  },
  {
   "cell_type": "code",
   "execution_count": 17,
   "metadata": {},
   "outputs": [
    {
     "name": "stdout",
     "output_type": "stream",
     "text": [
      "Throughput = 2944.1348314606744 kbps\n"
     ]
    }
   ],
   "source": [
    "print(\"Throughput =\", 65507*8/89/2, \"kbps\")"
   ]
  },
  {
   "cell_type": "markdown",
   "metadata": {},
   "source": [
    "### (Optional) Remove the previous rules"
   ]
  },
  {
   "cell_type": "code",
   "execution_count": 26,
   "metadata": {},
   "outputs": [
    {
     "name": "stdout",
     "output_type": "stream",
     "text": [
      "qdisc noqueue 0: root refcnt 2 \r\n"
     ]
    }
   ],
   "source": [
    "!sudo tc qdisc del dev lo parent 1:1 handle 10:\n",
    "!sudo tc qdisc del dev lo root handle 1:\n",
    "!tc qdisc show dev lo"
   ]
  },
  {
   "cell_type": "markdown",
   "metadata": {},
   "source": [
    "### Let's try again"
   ]
  },
  {
   "cell_type": "code",
   "execution_count": null,
   "metadata": {},
   "outputs": [],
   "source": [
    "!python ../buffer.py -b 300 --show_stats"
   ]
  },
  {
   "cell_type": "markdown",
   "metadata": {},
   "source": [
    "Notice that some chunks are lost. DEFLATE may not be enought!"
   ]
  },
  {
   "cell_type": "markdown",
   "metadata": {},
   "source": [
    "### Remove tc rules"
   ]
  },
  {
   "cell_type": "code",
   "execution_count": null,
   "metadata": {},
   "outputs": [],
   "source": [
    "!sudo tc qdisc del dev lo parent 1:1 handle 10:\n",
    "!sudo tc qdisc del dev lo root\n",
    "!tc qdisc show dev lo"
   ]
  },
  {
   "cell_type": "markdown",
   "metadata": {},
   "source": [
    "## 4. Bit-rate \"control\" through [quantization](https://github.com/vicente-gonzalez-ruiz/quantization/blob/master/digital_quantization.ipynb)\n",
    "\n",
    "Quantization removes the less relevant information (mainly [electronic noise](https://en.wikipedia.org/wiki/Noise_(electronics)) ...) and helps to increase the [compression ratio](https://en.wikipedia.org/wiki/Compression_ratio). In lossy signal compression, [dead-zone quantizers](https://github.com/vicente-gonzalez-ruiz/quantization/blob/master/digital_quantization.ipynb) are commonly used.\n",
    "\n",
    "In InterCom, we \"control\" the bit-rate in a lossely way because real-time bit-rate control through the quantization step $\\Delta$ is computationally intensive (we must determine the [Rate/Distortion curve](https://en.wikipedia.org/wiki/Rate%E2%80%93distortion_theory) of the current chunk to find $\\Delta$ before to quantize, compress and send it). The current implementation estimates the number of lost chunks per second and use this information to increase or decrease the quantization step for the chunks of the next second."
   ]
  },
  {
   "cell_type": "markdown",
   "metadata": {},
   "source": [
    "### Adapting to the current throughput"
   ]
  },
  {
   "cell_type": "code",
   "execution_count": null,
   "metadata": {
    "scrolled": true
   },
   "outputs": [],
   "source": [
    "!tc qdisc show dev lo\n",
    "!sudo tc qdisc add dev lo root tbf rate 200kbit burst 1024kbit limit 1024kbit\n",
    "!tc qdisc show dev lo\n",
    "!python ../br_control.py -b 300 --show_stats"
   ]
  },
  {
   "cell_type": "markdown",
   "metadata": {},
   "source": [
    "## 5. Spatial (inter-channel) decorrelation\n",
    "The samples of a (stero) frame tend to have similar amplitudes. For this reason, we apply [Mid/Side coding](https://tecnologias-multimedia.github.io/study_guide/spatial_decorrelation/) (before quantization)."
   ]
  },
  {
   "cell_type": "markdown",
   "metadata": {},
   "source": [
    "## 6. Temporal (intra-channel) decorrelation\n",
    "The samples of a channel exhibit temporal redundancy. Therefore, we use a [Discrete Wavelet Transform (DWT)](https://tecnologias-multimedia.github.io/study_guide/temporal_decorrelation/) to exploit it (before quantization)."
   ]
  },
  {
   "cell_type": "markdown",
   "metadata": {},
   "source": [
    "## 7. Work to do\n",
    "1. Currently, quantization minimizes the MSE (Mean Square Error). Perceptual quantization can increase the compression ratio without increasing the perceived distortion.\n",
    "2. Transmit video."
   ]
  }
 ],
 "metadata": {
  "kernelspec": {
   "display_name": "Python 3",
   "language": "python",
   "name": "python3"
  },
  "language_info": {
   "codemirror_mode": {
    "name": "ipython",
    "version": 3
   },
   "file_extension": ".py",
   "mimetype": "text/x-python",
   "name": "python",
   "nbconvert_exporter": "python",
   "pygments_lexer": "ipython3",
   "version": "3.8.5"
  }
 },
 "nbformat": 4,
 "nbformat_minor": 2
}

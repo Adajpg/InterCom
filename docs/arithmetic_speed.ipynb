{
 "cells": [
  {
   "cell_type": "markdown",
   "metadata": {},
   "source": [
    "# Arithmetic Speed"
   ]
  },
  {
   "cell_type": "code",
   "execution_count": 21,
   "metadata": {},
   "outputs": [],
   "source": [
    "import numpy as np\n",
    "\n",
    "x = np.random.randint(low=-32768, high=32767, size=2**17, dtype=np.int16).reshape(2**16, 2)"
   ]
  },
  {
   "cell_type": "markdown",
   "metadata": {},
   "source": [
    "## 16-bits integer arithmetic"
   ]
  },
  {
   "cell_type": "code",
   "execution_count": 46,
   "metadata": {},
   "outputs": [
    {
     "name": "stdout",
     "output_type": "stream",
     "text": [
      "130 µs ± 1.63 µs per loop (mean ± std. dev. of 7 runs, 10000 loops each)\n"
     ]
    }
   ],
   "source": [
    "y = np.empty_like(x)\n",
    "\n",
    "%timeit y[:, 0] = (x[:, 0] + x[:, 1]) / 2"
   ]
  },
  {
   "cell_type": "code",
   "execution_count": 47,
   "metadata": {},
   "outputs": [
    {
     "name": "stdout",
     "output_type": "stream",
     "text": [
      "error 1 -30065 -28950 3260 -29507\n"
     ]
    }
   ],
   "source": [
    "for i in range(len(y[:, 0])):\n",
    "    correct_value = ((x[i, 0].astype(np.float) + x[i, 1]) / 2).astype(np.int16)\n",
    "    if y[i, 0] != correct_value:\n",
    "        print(\"error\", i, x[i, 0], x[i, 1], y[i, 0], correct_value)\n",
    "        break"
   ]
  },
  {
   "cell_type": "markdown",
   "metadata": {},
   "source": [
    "## 32-bits integer arithmetic"
   ]
  },
  {
   "cell_type": "code",
   "execution_count": 48,
   "metadata": {},
   "outputs": [],
   "source": [
    "y = np.empty_like(x, dtype=np.int32)"
   ]
  },
  {
   "cell_type": "code",
   "execution_count": 49,
   "metadata": {},
   "outputs": [
    {
     "name": "stdout",
     "output_type": "stream",
     "text": [
      "188 µs ± 6.23 µs per loop (mean ± std. dev. of 7 runs, 10000 loops each)\n"
     ]
    }
   ],
   "source": [
    "%timeit y[:, 0] = (x[:, 0].astype(np.int32) + x[:, 1]) / 2"
   ]
  },
  {
   "cell_type": "code",
   "execution_count": 50,
   "metadata": {},
   "outputs": [],
   "source": [
    "for i in range(len(y[:, 0])):\n",
    "    correct_value = ((x[i, 0].astype(np.float) + x[i, 1]) / 2).astype(np.int32)\n",
    "    if y[i, 0] != correct_value:\n",
    "        print(\"error\", i, x[i, 0], x[i, 1], y[i, 0], correct_value)\n",
    "        break"
   ]
  },
  {
   "cell_type": "markdown",
   "metadata": {},
   "source": [
    "## 32-bits floating point arithmetic"
   ]
  },
  {
   "cell_type": "code",
   "execution_count": 52,
   "metadata": {},
   "outputs": [
    {
     "name": "stdout",
     "output_type": "stream",
     "text": [
      "205 µs ± 9.78 µs per loop (mean ± std. dev. of 7 runs, 1000 loops each)\n"
     ]
    }
   ],
   "source": [
    "y = np.empty_like(x, dtype=np.float32)\n",
    "\n",
    "%timeit y[:, 0] = (x[:, 0].astype(np.float32) + x[:, 1])/2"
   ]
  },
  {
   "cell_type": "code",
   "execution_count": 53,
   "metadata": {},
   "outputs": [],
   "source": [
    "for i in range(len(y[:, 0])):\n",
    "    correct_value = (x[i, 0].astype(np.float) + x[i, 1]) / 2\n",
    "    if y[i, 0] != correct_value:\n",
    "        print(\"error\", i, x[i, 0], x[i, 1], y[i, 0], correct_value)\n",
    "        break"
   ]
  },
  {
   "cell_type": "markdown",
   "metadata": {},
   "source": [
    "## 64-bits floating point arithmetic"
   ]
  },
  {
   "cell_type": "code",
   "execution_count": 54,
   "metadata": {},
   "outputs": [
    {
     "name": "stdout",
     "output_type": "stream",
     "text": [
      "237 µs ± 2.62 µs per loop (mean ± std. dev. of 7 runs, 1000 loops each)\n"
     ]
    }
   ],
   "source": [
    "y = np.empty_like(x, dtype=np.float64)\n",
    "\n",
    "%timeit y[:, 0] = (x[:, 0].astype(np.float64) + x[:, 1])/2"
   ]
  },
  {
   "cell_type": "code",
   "execution_count": null,
   "metadata": {},
   "outputs": [],
   "source": [
    "for i in range(len(y[:, 0])):\n",
    "    correct_value = (x[i, 0].astype(np.float) + x[i, 1]) / 2\n",
    "    if y[i, 0] != correct_value:\n",
    "        print(\"error\", i, x[i, 0], x[i, 1], y[i, 0], correct_value)\n",
    "        break"
   ]
  },
  {
   "cell_type": "markdown",
   "metadata": {},
   "source": [
    "## Conclusion\n",
    "\n",
    "We ca use 32-bits pixed-point (integer) arithmetic when the input data are 16-bits integers."
   ]
  }
 ],
 "metadata": {
  "kernelspec": {
   "display_name": "Python 3",
   "language": "python",
   "name": "python3"
  },
  "language_info": {
   "codemirror_mode": {
    "name": "ipython",
    "version": 3
   },
   "file_extension": ".py",
   "mimetype": "text/x-python",
   "name": "python",
   "nbconvert_exporter": "python",
   "pygments_lexer": "ipython3",
   "version": "3.8.6"
  }
 },
 "nbformat": 4,
 "nbformat_minor": 2
}

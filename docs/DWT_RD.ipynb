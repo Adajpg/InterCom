{
 "cells": [
  {
   "cell_type": "markdown",
   "metadata": {},
   "source": [
    "# A [RD](https://en.wikipedia.org/wiki/Rate%E2%80%93distortion_theory)-comparison of DWTs"
   ]
  },
  {
   "cell_type": "code",
   "execution_count": null,
   "metadata": {},
   "outputs": [],
   "source": [
    "import sounddevice as sd\n",
    "import pywt # pip install pywavelets\n",
    "import math\n",
    "import numpy as np\n",
    "import matplotlib\n",
    "import matplotlib.pyplot as plt\n",
    "import matplotlib.animation as animation\n",
    "from scipy import signal\n",
    "import zlib\n",
    "import pylab"
   ]
  },
  {
   "cell_type": "code",
   "execution_count": null,
   "metadata": {},
   "outputs": [],
   "source": [
    "def plot(y, xlabel='', ylabel='', title=''):\n",
    "    fig = plt.figure()\n",
    "    ax = fig.add_subplot(111)\n",
    "    ax.set_title(title)\n",
    "    ax.grid()\n",
    "    ax.xaxis.set_label_text(xlabel)\n",
    "    ax.yaxis.set_label_text(ylabel)\n",
    "    x = np.linspace(0, len(y)-1, len(y))\n",
    "    ax.plot(x, y, '.', markersize=1)\n",
    "    plt.show(block=False)"
   ]
  },
  {
   "cell_type": "markdown",
   "metadata": {},
   "source": [
    "## Produce some sound ... for example, speak for 5 seconds\n",
    "The audio signal will be used to compare the RD performance of the transforms."
   ]
  },
  {
   "cell_type": "code",
   "execution_count": null,
   "metadata": {},
   "outputs": [],
   "source": [
    "fs = 44100      # Sampling frequency\n",
    "duration = 5.0  # seconds\n",
    "x = sd.rec(int(duration * fs), samplerate=fs, channels=1, dtype=np.int16)\n",
    "print(\"Say something!\")\n",
    "while sd.wait():\n",
    "    pass\n",
    "print(\"done\")\n",
    "x = x.flatten()"
   ]
  },
  {
   "cell_type": "markdown",
   "metadata": {},
   "source": [
    "## This is your audio"
   ]
  },
  {
   "cell_type": "code",
   "execution_count": null,
   "metadata": {
    "scrolled": true
   },
   "outputs": [],
   "source": [
    "%matplotlib inline\n",
    "sd.play(x)\n",
    "plot(x, \"Sample\", \"Amplitude\", \"Audio Signal\")"
   ]
  },
  {
   "cell_type": "markdown",
   "metadata": {},
   "source": [
    "## Let's remove some samples from the begining"
   ]
  },
  {
   "cell_type": "code",
   "execution_count": null,
   "metadata": {},
   "outputs": [],
   "source": [
    "x = x[50000:]"
   ]
  },
  {
   "cell_type": "markdown",
   "metadata": {},
   "source": [
    "## This is your definitive audio sequence"
   ]
  },
  {
   "cell_type": "code",
   "execution_count": null,
   "metadata": {
    "scrolled": true
   },
   "outputs": [],
   "source": [
    "%matplotlib inline\n",
    "sd.play(x)\n",
    "plot(x, \"Sample\", \"Amplitude\", \"Audio Signal\")"
   ]
  },
  {
   "cell_type": "markdown",
   "metadata": {},
   "source": [
    "### Configuration"
   ]
  },
  {
   "cell_type": "code",
   "execution_count": null,
   "metadata": {},
   "outputs": [],
   "source": [
    "levels = 5          # Number of levels of the DWT\n",
    "#filters_name = \"db5\"\n",
    "#filters_name = \"haar\"\n",
    "filters_name = \"db11\"\n",
    "#filters_name = \"db20\"\n",
    "#filters_name = \"bior2.2\"\n",
    "#ilters_name = \"bior3.5\"\n",
    "#filters_name = \"rbio2.2\"\n",
    "wavelet = pywt.Wavelet(filters_name)\n",
    "signal_mode_extension = \"per\"\n",
    "Delta = 32\n",
    "Q_steps = range(Delta, 1024, Delta)"
   ]
  },
  {
   "cell_type": "code",
   "execution_count": null,
   "metadata": {},
   "outputs": [],
   "source": [
    "def get_filter(wavelet, coef_index, N):\n",
    "    zeros = np.zeros(N)\n",
    "    decomposition = pywt.wavedec(zeros, wavelet=wavelet, level=1, mode=\"per\")\n",
    "    coefficients, slices = pywt.coeffs_to_array(decomposition)\n",
    "    coefficients[coef_index] = 1\n",
    "    decomposition = pywt.array_to_coeffs(coefficients, slices, output_format=\"wavedec\")\n",
    "    samples = pywt.waverec(decomposition, wavelet=wavelet, mode=\"per\")\n",
    "    return samples"
   ]
  },
  {
   "cell_type": "markdown",
   "metadata": {},
   "source": [
    "## [Filter's response in the frequency domain](https://en.wikipedia.org/wiki/Filter_(signal_processing)#The_transfer_function)"
   ]
  },
  {
   "cell_type": "code",
   "execution_count": null,
   "metadata": {},
   "outputs": [],
   "source": [
    "%matplotlib inline\n",
    "#K0, K1, __ = wavelet.wavefun(level=1) # For orthogonal transforms\n",
    "#K0_basis, K0_dual, K1_basis, K1_dual__ = wavelet.wavefun(level=1) # For bi-orthogonal transforms\n",
    "K0 = get_filter(wavelet, 8, 32)\n",
    "K1 = get_filter(wavelet, 24, 32)\n",
    "w0, h0 = signal.freqz(K0, fs=44100)\n",
    "w1, h1 = signal.freqz(K1, fs=44100)\n",
    "\n",
    "plt.subplot(211)\n",
    "plt.title(f'{filters_name} Frequency Response (low/high pass)')\n",
    "#plt.plot(w1, 20 * np.log10(abs(h1)), 'b')\n",
    "plt.plot(w0, abs(h0), 'b')\n",
    "plt.xlabel('')\n",
    "plt.ylabel('Gain')\n",
    "plt.subplot(212)\n",
    "#plt.plot(w2, 20 * np.log10(abs(h2)), 'b')\n",
    "plt.plot(w1, abs(h1), 'b')\n",
    "plt.xlabel('Frequency (Hz)')\n",
    "plt.ylabel('Gain')\n",
    "plt.show()"
   ]
  },
  {
   "cell_type": "markdown",
   "metadata": {},
   "source": [
    "### Total gain of the filters"
   ]
  },
  {
   "cell_type": "code",
   "execution_count": null,
   "metadata": {},
   "outputs": [],
   "source": [
    "def average_complex_energy(x):\n",
    "    #return np.sum(x[:, 0].astype(np.double)*x[:, 0].astype(np.double))/len(x[:, 0]) + \\\n",
    "    #       np.sum(x[:, 1].astype(np.double)*x[:, 1].astype(np.double))/len(x[:, 1])\n",
    "    return np.sum(x.real.astype(np.double)*x.real.astype(np.double) +\n",
    "                  x.imag.astype(np.double)*x.imag.astype(np.double))/len(x)"
   ]
  },
  {
   "cell_type": "code",
   "execution_count": null,
   "metadata": {},
   "outputs": [],
   "source": [
    "print(f\"Average energy of K0 = {average_complex_energy(h0)}\")\n",
    "print(f\"Average energy of K1 = {average_complex_energy(h1)}\")"
   ]
  },
  {
   "cell_type": "markdown",
   "metadata": {},
   "source": [
    "### Conclusion\n",
    "\n",
    "Orthogonal transforms implemented in PyWavelets have the same gain in both filters, but this is not true for bi-orthogonal transforms."
   ]
  },
  {
   "cell_type": "markdown",
   "metadata": {},
   "source": [
    "## Some RD stuff"
   ]
  },
  {
   "cell_type": "code",
   "execution_count": null,
   "metadata": {},
   "outputs": [],
   "source": [
    "def average_energy(x):\n",
    "    #return np.sum(x[:, 0].astype(np.double)*x[:, 0].astype(np.double))/len(x[:, 0]) + \\\n",
    "    #       np.sum(x[:, 1].astype(np.double)*x[:, 1].astype(np.double))/len(x[:, 1])\n",
    "    return np.sum(x.astype(np.double)*x.astype(np.double))/len(x)\n",
    "\n",
    "def RMSE(x, y):\n",
    "    error_signal = x - y\n",
    "    return math.sqrt(average_energy(error_signal))\n",
    "\n",
    "# Based on https://stackoverflow.com/questions/15450192/fastest-way-to-compute-entropy-in-python\n",
    "def entropy_in_bits_per_symbol(sequence_of_symbols):\n",
    "    value, counts = np.unique(sequence_of_symbols, return_counts = True)\n",
    "    probs = counts / len(sequence_of_symbols)\n",
    "    n_classes = np.count_nonzero(probs)\n",
    "\n",
    "    if n_classes <= 1:\n",
    "        return 0\n",
    "\n",
    "    entropy = 0.\n",
    "    for i in probs:\n",
    "        entropy -= i * math.log(i, 2)\n",
    "\n",
    "    return entropy\n",
    "\n",
    "def deadzone_quantize(x, quantization_step):\n",
    "    k = (x / quantization_step).astype(np.int32)\n",
    "    return k\n",
    "\n",
    "def deadzone_dequantize(k, quantization_step):\n",
    "    y = quantization_step * k\n",
    "    return y\n",
    "\n",
    "def deadzone_qdeq(x, quantization_step):\n",
    "    k = deadzone_quantize(x, quantization_step)\n",
    "    y = deadzone_dequantize(k, quantization_step)\n",
    "    return k, y\n",
    "\n",
    "def RD_curve(data, wavelet, levels):\n",
    "    RD_points = []\n",
    "    for q_step in Q_steps:\n",
    "        #print(q_step)\n",
    "        decomposition = pywt.wavedec(data, wavelet=wavelet, level=levels,\n",
    "                                     mode=signal_mode_extension)\n",
    "        quantized_decomposition = []\n",
    "        for subband in decomposition:\n",
    "            #print((subband))\n",
    "            quantized_subband = deadzone_quantize(subband, q_step)\n",
    "            quantized_decomposition.append(quantized_subband)\n",
    "        k = np.concatenate(quantized_decomposition)\n",
    "        rate = entropy_in_bits_per_symbol(k) + entropy_in_bits_per_symbol(k)\n",
    "        dequantized_decomposition = []\n",
    "        for subband in quantized_decomposition:\n",
    "            dequantized_subband = deadzone_dequantize(subband, q_step)\n",
    "            dequantized_decomposition.append(dequantized_subband)\n",
    "        reconstructed_data = pywt.waverec(dequantized_decomposition, wavelet=wavelet,\n",
    "                                          mode=signal_mode_extension)\n",
    "        distortion = RMSE(data, reconstructed_data)\n",
    "        RD_points.append((rate, distortion))\n",
    "    return RD_points"
   ]
  },
  {
   "cell_type": "markdown",
   "metadata": {},
   "source": [
    "## RD curve"
   ]
  },
  {
   "cell_type": "code",
   "execution_count": null,
   "metadata": {},
   "outputs": [],
   "source": [
    "#RD_points = RD_curve(x[0:frames_per_chunk], wavelet, 3)\n",
    "RD_points = RD_curve(x, wavelet, levels)"
   ]
  },
  {
   "cell_type": "code",
   "execution_count": null,
   "metadata": {},
   "outputs": [],
   "source": [
    "%matplotlib inline\n",
    "plt.title(\"RD Tradeoff\")\n",
    "plt.xlabel(\"Bits per Sample\")\n",
    "plt.ylabel(\"RMSE\")\n",
    "#plt.xscale(\"log\")\n",
    "#plt.yscale(\"log\")\n",
    "plt.scatter(*zip(*RD_points), c='b', marker=\"+\", label=f'{wavelet}')\n",
    "#plt.scatter(*zip(*KLT_RD_points), c='r', marker=\"x\", label='KLT')\n",
    "#plt.legend(loc='upper right')\n",
    "plt.show()"
   ]
  },
  {
   "cell_type": "markdown",
   "metadata": {},
   "source": [
    "## RD curve using DEFLATE"
   ]
  },
  {
   "cell_type": "code",
   "execution_count": null,
   "metadata": {},
   "outputs": [],
   "source": [
    "def analyze(chunk, wavelet, levels):\n",
    "    decomposition = pywt.wavedec(chunk, wavelet=wavelet, level=levels,\n",
    "                                 mode=signal_mode_extension)\n",
    "    return decomposition\n",
    "\n",
    "def quantize(decomposition, q_steps):\n",
    "    quantized_decomposition = []\n",
    "    for subband, q_step in zip(decomposition, q_steps):\n",
    "        quantized_subband = deadzone_quantize(subband, q_step)\n",
    "        quantized_decomposition.append(quantized_subband)\n",
    "    return quantized_decomposition\n",
    "\n",
    "def analyze_and_quantize(chunk, wavelet, levels, q_steps):\n",
    "    decomposition = analyze(chunk, wavelet, levels)\n",
    "    quantized_decomposition = quantize(decomposition, q_steps)\n",
    "    return quantized_decomposition\n",
    "\n",
    "def dequantize(quantized_decomposition, q_steps):\n",
    "    dequantized_decomposition = []\n",
    "    for subband, q_step in zip(quantized_decomposition, q_steps):\n",
    "        dequantized_subband = deadzone_dequantize(subband, q_step)\n",
    "        dequantized_decomposition.append(dequantized_subband)\n",
    "    return dequantized_decomposition\n",
    "\n",
    "def synthesize(decomposition, wavelet):\n",
    "    reconstructed_chunk = pywt.waverec(decomposition, wavelet=wavelet,\n",
    "                                       mode=signal_mode_extension)\n",
    "    return reconstructed_chunk\n",
    "\n",
    "def dequantize_and_synthesize(quantized_decomposition, wavelet, q_steps):\n",
    "    dequantized_decomposition = dequantize(quantized_decomposition, q_steps)\n",
    "    reconstructed_chunk = synthesize(dequantized_decomposition, wavelet)\n",
    "    return reconstructed_chunk\n",
    "\n",
    "def RD_curve_DEFLATE(chunk, wavelet, levels):\n",
    "    RD_points = []\n",
    "    for q_step in Q_steps:\n",
    "        q_steps = [q_step] * (levels + 1)\n",
    "        quantized_decomposition = analyze_and_quantize(chunk, wavelet, levels, q_steps)\n",
    "        #print(len(quantized_decomposition[3]))\n",
    "        k = np.concatenate(quantized_decomposition)\n",
    "        rate = 8*len(zlib.compress(k.copy()))/len(chunk)\n",
    "        #print(len(zlib.compress(k.copy())))\n",
    "        #rate = entropy_in_bits_per_symbol(k) + entropy_in_bits_per_symbol(k)\n",
    "        reconstructed_chunk = dequantize_and_synthesize(quantized_decomposition, wavelet, q_steps)\n",
    "        distortion = RMSE(chunk, reconstructed_chunk)\n",
    "        RD_points.append((rate, distortion))\n",
    "    return RD_points"
   ]
  },
  {
   "cell_type": "code",
   "execution_count": null,
   "metadata": {},
   "outputs": [],
   "source": [
    "RD_points_DEFLATE = RD_curve_DEFLATE(x, wavelet, levels)\n",
    "#print(RD_points_DEFLATE)"
   ]
  },
  {
   "cell_type": "code",
   "execution_count": null,
   "metadata": {},
   "outputs": [],
   "source": [
    "%matplotlib inline\n",
    "plt.title(\"RD Tradeoff\")\n",
    "plt.xlabel(\"Bits per Sample\")\n",
    "plt.ylabel(\"RMSE\")\n",
    "#plt.xscale(\"log\")\n",
    "#plt.yscale(\"log\")\n",
    "plt.scatter(*zip(*RD_points), c='b', marker=\"+\", label='entropy')\n",
    "plt.scatter(*zip(*RD_points_DEFLATE), c='r', marker=\"x\", label='DEFLATE')\n",
    "#plt.scatter(*zip(*KLT_RD_points), c='r', marker=\"x\", label='KLT')\n",
    "plt.legend(loc='upper right')\n",
    "plt.show()"
   ]
  },
  {
   "cell_type": "markdown",
   "metadata": {},
   "source": [
    "## Impact of  each subband in the distortion of the reconstructed chunk"
   ]
  },
  {
   "cell_type": "code",
   "execution_count": null,
   "metadata": {},
   "outputs": [],
   "source": [
    "def subbands_DEFLATE_RD_curve(chunk, wavelet, levels):\n",
    "    '''RD curves per subband.'''    \n",
    "    subbands_RD_points = [None] * (levels + 1)\n",
    "    decomposition = analyze(chunk, wavelet, levels)\n",
    "    #print(len(decomposition))\n",
    "    for l in range(levels + 1):\n",
    "        #print(len(chunk), len(decomposition[l]))\n",
    "        #print(decomposition)\n",
    "        zero_chunk = np.zeros_like(chunk)\n",
    "        zero_decomposition = analyze(zero_chunk, wavelet, levels)\n",
    "        zero_decomposition[l][:] = decomposition[l]\n",
    "        #print(decomposition[l])\n",
    "        subbands_RD_points[l] = []\n",
    "        for q_step in Q_steps:\n",
    "            #print(q_step)\n",
    "            quantized_subband = deadzone_quantize(zero_decomposition[l], q_step)\n",
    "            zero_decomposition[l][:] = quantized_subband\n",
    "            k = np.concatenate(zero_decomposition)\n",
    "            rate = 8*len(zlib.compress(k.copy()))/len(chunk)\n",
    "            dequantized_subband = deadzone_dequantize(quantized_subband, q_step)\n",
    "            zero_decomposition[l][:] = dequantized_subband\n",
    "            reconstructed_chunk = synthesize(zero_decomposition, wavelet)\n",
    "            distortion = RMSE(chunk, reconstructed_chunk)\n",
    "            #print(l, rate, distortion)\n",
    "            subbands_RD_points[l].append((rate, distortion))\n",
    "        subbands_RD_points[l].reverse()\n",
    "\n",
    "    return subbands_RD_points"
   ]
  },
  {
   "cell_type": "code",
   "execution_count": null,
   "metadata": {},
   "outputs": [],
   "source": [
    "subband_DEFLATE_RD_points = subbands_DEFLATE_RD_curve(x, wavelet, levels)"
   ]
  },
  {
   "cell_type": "code",
   "execution_count": null,
   "metadata": {},
   "outputs": [],
   "source": [
    "%matplotlib inline\n",
    "from matplotlib import cm\n",
    "plt.title(\"RD using only one subband\")\n",
    "plt.xlabel(\"Bits per Sample\")\n",
    "plt.ylabel(\"RMSE\")\n",
    "plt.xscale(\"log\")\n",
    "#plt.yscale(\"log\")\n",
    "i = 0\n",
    "for s in subband_DEFLATE_RD_points:\n",
    "    plt.plot(*zip(*s), marker=\".\", label=f'Using only subband index {i}', color=cm.cool(i/4))\n",
    "    i += 1\n",
    "#plt.scatter(*zip(*KLT_RD_points), c='r', marker=\"x\", label='KLT')\n",
    "plt.legend(loc='best')\n",
    "plt.show()\n",
    "print(\"RMSE (using only zeros) =\", RMSE(x, np.zeros(x.shape)))"
   ]
  },
  {
   "cell_type": "code",
   "execution_count": null,
   "metadata": {},
   "outputs": [],
   "source": [
    "%matplotlib notebook\n",
    "fig, ax = plt.subplots()\n",
    "\n",
    "def animate(frame):\n",
    "    i = 0\n",
    "    #plt.xscale(\"log\")\n",
    "    #plt.yscale(\"log\")\n",
    "    plt.xscale(\"linear\")\n",
    "    plt.yscale(\"linear\")\n",
    "    plt.xlabel(\"Bits per Sample\")\n",
    "    plt.ylabel(\"RMSE\")\n",
    "    for s in subband_DEFLATE_RD_points:\n",
    "        plt.title(f\"$\\Delta={frame*Delta}$\")\n",
    "        plt.plot(*zip(*s[0:frame]), marker=\".\", color=cm.cool(i/4))\n",
    "        i += 1\n",
    "    #return plt,\n",
    "    \n",
    "def init():\n",
    "    for s in subband_DEFLATE_RD_points:\n",
    "        plt.plot(*zip(*s), marker=\".\", color='white')\n",
    "    #return plt,\n",
    "\n",
    "ani = animation.FuncAnimation(\n",
    "    fig, animate, init_func=init, interval=1000, frames=len(Q_steps), repeat=True)\n",
    "\n",
    "# To save the animation, use e.g.\n",
    "#\n",
    "# ani.save(\"movie.mp4\")\n",
    "#\n",
    "# or\n",
    "#\n",
    "# writer = animation.FFMpegWriter(\n",
    "#     fps=15, metadata=dict(artist='Me'), bitrate=1800)\n",
    "# ani.save(\"movie.mp4\", writer=writer)\n",
    "\n",
    "plt.show()"
   ]
  },
  {
   "cell_type": "markdown",
   "metadata": {},
   "source": [
    "## Conclusions\n",
    "1. Subband 0 is, with a lot of difference, the most important subband.\n",
    "2. Subband $l$ is, with a lot of difference, the least important one.\n",
    "3. If we use the same quantization step size for all the subbands, the quality of the reconstruction should be good because the *quality layers* are used by their slope."
   ]
  }
 ],
 "metadata": {
  "kernelspec": {
   "display_name": "Python 3 (ipykernel)",
   "language": "python",
   "name": "python3"
  },
  "language_info": {
   "codemirror_mode": {
    "name": "ipython",
    "version": 3
   },
   "file_extension": ".py",
   "mimetype": "text/x-python",
   "name": "python",
   "nbconvert_exporter": "python",
   "pygments_lexer": "ipython3",
   "version": "3.10.6"
  }
 },
 "nbformat": 4,
 "nbformat_minor": 2
}

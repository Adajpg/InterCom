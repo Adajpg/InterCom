{
 "cells": [
  {
   "cell_type": "markdown",
   "metadata": {},
   "source": [
    "# Quantization of DWT-ransformed audio signals"
   ]
  },
  {
   "cell_type": "code",
   "execution_count": null,
   "metadata": {},
   "outputs": [],
   "source": [
    "import sounddevice as sd\n",
    "import pywt\n",
    "import math\n",
    "import numpy as np\n",
    "%matplotlib inline\n",
    "import matplotlib\n",
    "import matplotlib.pyplot as plt\n",
    "from scipy import signal\n",
    "from ipywidgets import interact, interactive, fixed, interact_manual\n",
    "import ipywidgets as widgets\n",
    "import pylab"
   ]
  },
  {
   "cell_type": "markdown",
   "metadata": {},
   "source": [
    "## Capture an audio sequence"
   ]
  },
  {
   "cell_type": "code",
   "execution_count": null,
   "metadata": {},
   "outputs": [],
   "source": [
    "def plot(x, y, xlabel='', ylabel='', title=''):\n",
    "    fig = plt.figure()\n",
    "    ax = fig.add_subplot(111)\n",
    "    ax.set_title(title)\n",
    "    ax.grid()\n",
    "    ax.xaxis.set_label_text(xlabel)\n",
    "    ax.yaxis.set_label_text(ylabel)\n",
    "    ax.plot(x, y, '.', markersize=1)\n",
    "    plt.show(block=False)"
   ]
  },
  {
   "cell_type": "code",
   "execution_count": null,
   "metadata": {},
   "outputs": [],
   "source": [
    "fs = 44100\n",
    "duration = 80000/44100  # seconds\n",
    "signal = sd.rec(int(duration * fs), samplerate=fs, channels=1, dtype=np.int16)\n",
    "print(\"Say something!\")\n",
    "while sd.wait():\n",
    "    pass\n",
    "print(\"done\")\n",
    "signal = signal.flatten()"
   ]
  },
  {
   "cell_type": "code",
   "execution_count": null,
   "metadata": {},
   "outputs": [],
   "source": [
    "plot(np.linspace(0, len(signal)-1, num=len(signal)), signal, \"sample\", \"amplitude\", \"original\")\n"
   ]
  },
  {
   "cell_type": "markdown",
   "metadata": {},
   "source": [
    "## Select the number of levels of the DWT"
   ]
  },
  {
   "cell_type": "code",
   "execution_count": null,
   "metadata": {},
   "outputs": [],
   "source": [
    "levels = 3"
   ]
  },
  {
   "cell_type": "markdown",
   "metadata": {},
   "source": [
    "## Select a kernel filter"
   ]
  },
  {
   "cell_type": "code",
   "execution_count": null,
   "metadata": {},
   "outputs": [],
   "source": [
    "#wavelet_name = \"haar\"\n",
    "wavelet_name = \"db5\"\n",
    "#wavelet_name = \"db20\"\n",
    "#wavelet_name = \"bior2.2\"\n",
    "#wavelet_name = \"rbio2.2\"\n",
    "wavelet = pywt.Wavelet(wavelet_name)"
   ]
  },
  {
   "cell_type": "markdown",
   "metadata": {},
   "source": [
    "## Let's compute basis fuctions of the inverse DWT\n",
    "Inverse transform of a unit impulse. The frequency response is also shown."
   ]
  },
  {
   "cell_type": "code",
   "execution_count": null,
   "metadata": {},
   "outputs": [],
   "source": [
    "def deadzone_quantizer(x, quantization_step):\n",
    "    k = (x / quantization_step).astype(np.int)\n",
    "    return k\n",
    "\n",
    "def deadzone_dequantizer(k, quantization_step):\n",
    "    y = quantization_step * k\n",
    "    return y"
   ]
  },
  {
   "cell_type": "code",
   "execution_count": null,
   "metadata": {},
   "outputs": [],
   "source": [
    "chunk_size = 128\n",
    "chunk_number = 15\n",
    "#chunk = signal[chunk_size*chunk_number:chunk_size*(chunk_number+1)]\n",
    "chunk_left = signal[chunk_size*(chunk_number-1):chunk_size*chunk_number]\n",
    "chunk_center = signal[chunk_size*chunk_number:chunk_size*(chunk_number+1)]\n",
    "chunk_right = signal[chunk_size*(chunk_number+1):chunk_size*(chunk_number+2)]\n",
    "chunks = np.concatenate([chunk_left, chunk_center, chunk_right])"
   ]
  },
  {
   "cell_type": "code",
   "execution_count": null,
   "metadata": {},
   "outputs": [],
   "source": [
    "def plot(y, xlabel='', ylabel='', title=''):\n",
    "    fig = plt.figure()\n",
    "    ax = fig.add_subplot(111)\n",
    "    ax.set_title(title)\n",
    "    ax.grid()\n",
    "    ax.xaxis.set_label_text(xlabel)\n",
    "    ax.yaxis.set_label_text(ylabel)\n",
    "    x = np.linspace(0, len(y)-1, num=len(y))\n",
    "    ax.plot(x, y, '-', markersize=1)\n",
    "    plt.show(block=False)\n",
    "#plot(signal[chunk_size*(chunk_number-1):chunk_size*(chunk_number+1)], \"sample\", \"amplitude\", \"3 consecutive chunks\")\n",
    "plot(chunks, \"sample\", \"amplitude\", \"3 consecutive chunks\")"
   ]
  },
  {
   "cell_type": "code",
   "execution_count": null,
   "metadata": {},
   "outputs": [],
   "source": [
    "quantization_step = 128\n",
    "def transform_and_quantize(chunk):\n",
    "    decomposition = pywt.wavedec(chunk, wavelet=wavelet, level=levels, mode=\"per\")\n",
    "    coefficients, slices = pywt.coeffs_to_array(decomposition)\n",
    "    quantized_coeffs = deadzone_dequantizer(deadzone_quantizer(coefficients, quantization_step), quantization_step)\n",
    "    decomposition = pywt.array_to_coeffs(quantized_coeffs, slices, output_format=\"wavedec\")\n",
    "    reconstructed_chunk = pywt.waverec(decomposition, wavelet=wavelet, mode=\"per\")\n",
    "    return reconstructed_chunk\n",
    "\n",
    "rchunk_left = transform_and_quantize(chunk_left)\n",
    "rchunk_center = transform_and_quantize(chunk_center)\n",
    "rchunk_right = transform_and_quantize(chunk_right)\n",
    "rchunks = np.concatenate([rchunk_left, rchunk_center, rchunk_right])"
   ]
  },
  {
   "cell_type": "code",
   "execution_count": null,
   "metadata": {
    "scrolled": true
   },
   "outputs": [],
   "source": [
    "plot(rchunks, \"sample\", \"amplitude\", \"reconstructed chunks\")"
   ]
  },
  {
   "cell_type": "code",
   "execution_count": null,
   "metadata": {},
   "outputs": [],
   "source": [
    "ideal_chunks = transform_and_quantize(chunks)\n",
    "plot(ideal_chunks, \"sample\", \"amplitude\", \"reconstructed chunks\")"
   ]
  },
  {
   "cell_type": "markdown",
   "metadata": {},
   "source": [
    "## A solution: use the neighbor samples"
   ]
  },
  {
   "cell_type": "code",
   "execution_count": null,
   "metadata": {},
   "outputs": [],
   "source": [
    "number_of_overlaped_samples = 1 << math.ceil(math.log(wavelet.dec_len * levels) / math.log(2))\n",
    "print(\"number_of_overlaped_samples =\", number_of_overlaped_samples)"
   ]
  },
  {
   "cell_type": "code",
   "execution_count": null,
   "metadata": {},
   "outputs": [],
   "source": [
    "last_samples_left_chunk = chunk_left[chunk_size - number_of_overlaped_samples :]\n",
    "first_samples_right_chunk = chunk_right[: number_of_overlaped_samples]\n",
    "extended_chunk = np.concatenate([last_samples_left_chunk, chunk_center, first_samples_right_chunk])\n",
    "print(len(last_samples_left_chunk), len(chunk_center), len(first_samples_right_chunk), len(extended_chunk))\n",
    "plot(extended_chunk, \"sample\", \"amplitude\", \"extended chunk\")"
   ]
  },
  {
   "cell_type": "code",
   "execution_count": null,
   "metadata": {},
   "outputs": [],
   "source": [
    "rextended_chunk = transform_and_quantize(extended_chunk)"
   ]
  },
  {
   "cell_type": "code",
   "execution_count": null,
   "metadata": {},
   "outputs": [],
   "source": [
    "plot(rextended_chunk, \"sample\", \"amplitude\", \"reconstructed extended chunk\")"
   ]
  },
  {
   "cell_type": "code",
   "execution_count": null,
   "metadata": {},
   "outputs": [],
   "source": [
    "rchunk = rextended_chunk[number_of_overlaped_samples : chunk_size + number_of_overlaped_samples]"
   ]
  },
  {
   "cell_type": "code",
   "execution_count": null,
   "metadata": {},
   "outputs": [],
   "source": [
    "plot(rchunk, \"sample\", \"amplitude\", \"reconstructed chunk with overlaping\")"
   ]
  },
  {
   "cell_type": "code",
   "execution_count": null,
   "metadata": {},
   "outputs": [],
   "source": [
    "plot(rchunk_center, \"sample\", \"amplitude\", \"reconstructed chunk without overlaping\")"
   ]
  },
  {
   "cell_type": "code",
   "execution_count": null,
   "metadata": {},
   "outputs": [],
   "source": []
  }
 ],
 "metadata": {
  "kernelspec": {
   "display_name": "Python 3",
   "language": "python",
   "name": "python3"
  },
  "language_info": {
   "codemirror_mode": {
    "name": "ipython",
    "version": 3
   },
   "file_extension": ".py",
   "mimetype": "text/x-python",
   "name": "python",
   "nbconvert_exporter": "python",
   "pygments_lexer": "ipython3",
   "version": "3.8.5"
  }
 },
 "nbformat": 4,
 "nbformat_minor": 4
}

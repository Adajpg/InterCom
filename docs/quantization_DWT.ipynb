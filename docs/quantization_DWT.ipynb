{
 "cells": [
  {
   "cell_type": "markdown",
   "metadata": {},
   "source": [
    "# Quantization of block DWT-ransformed audio signals"
   ]
  },
  {
   "cell_type": "code",
   "execution_count": null,
   "metadata": {},
   "outputs": [],
   "source": [
    "import sounddevice as sd\n",
    "import pywt\n",
    "import math\n",
    "import numpy as np\n",
    "%matplotlib inline\n",
    "import matplotlib\n",
    "import matplotlib.pyplot as plt\n",
    "from scipy import signal\n",
    "from ipywidgets import interact, interactive, fixed, interact_manual\n",
    "import ipywidgets as widgets\n",
    "import pylab"
   ]
  },
  {
   "cell_type": "markdown",
   "metadata": {},
   "source": [
    "## Capture an audio sequence"
   ]
  },
  {
   "cell_type": "code",
   "execution_count": null,
   "metadata": {},
   "outputs": [],
   "source": [
    "def plot(y, xlabel='', ylabel='', title='', marker='.'):\n",
    "    fig = plt.figure()\n",
    "    ax = fig.add_subplot(111)\n",
    "    ax.set_title(title)\n",
    "    ax.grid()\n",
    "    ax.xaxis.set_label_text(xlabel)\n",
    "    ax.yaxis.set_label_text(ylabel)\n",
    "    x = np.linspace(0, len(y)-1, num=len(y))\n",
    "    ax.plot(x, y, marker, markersize=1)\n",
    "    plt.show(block=False)"
   ]
  },
  {
   "cell_type": "code",
   "execution_count": null,
   "metadata": {},
   "outputs": [],
   "source": [
    "fs = 44100\n",
    "duration = 80000/44100  # seconds\n",
    "signal = sd.rec(int(duration * fs), samplerate=fs, channels=1, dtype=np.int16)\n",
    "print(\"Say something!\")\n",
    "while sd.wait():\n",
    "    pass\n",
    "print(\"done\")\n",
    "signal = signal.flatten()"
   ]
  },
  {
   "cell_type": "code",
   "execution_count": null,
   "metadata": {},
   "outputs": [],
   "source": [
    "plot(signal, \"sample\", \"amplitude\", \"original\")"
   ]
  },
  {
   "cell_type": "markdown",
   "metadata": {},
   "source": [
    "## Select a number of levels of the DWT"
   ]
  },
  {
   "cell_type": "code",
   "execution_count": null,
   "metadata": {},
   "outputs": [],
   "source": [
    "levels = 3"
   ]
  },
  {
   "cell_type": "markdown",
   "metadata": {},
   "source": [
    "## Filters selection"
   ]
  },
  {
   "cell_type": "code",
   "execution_count": null,
   "metadata": {},
   "outputs": [],
   "source": [
    "#wavelet_name = \"haar\"\n",
    "wavelet_name = \"db5\"\n",
    "#wavelet_name = \"db20\"\n",
    "#wavelet_name = \"bior2.2\"\n",
    "#wavelet_name = \"rbio2.2\"\n",
    "wavelet = pywt.Wavelet(wavelet_name)\n",
    "#mode = \"zero\"\n",
    "mode = \"per\""
   ]
  },
  {
   "cell_type": "markdown",
   "metadata": {},
   "source": [
    "## Define a dead-zone quantizer"
   ]
  },
  {
   "cell_type": "code",
   "execution_count": null,
   "metadata": {},
   "outputs": [],
   "source": [
    "def deadzone_quantizer(x, quantization_step):\n",
    "    k = (x / quantization_step).astype(np.int)\n",
    "    return k\n",
    "\n",
    "def deadzone_dequantizer(k, quantization_step):\n",
    "    y = quantization_step * k\n",
    "    return y"
   ]
  },
  {
   "cell_type": "markdown",
   "metadata": {},
   "source": [
    "## Extract 3 consecutive chunks from the audio sequence"
   ]
  },
  {
   "cell_type": "code",
   "execution_count": null,
   "metadata": {},
   "outputs": [],
   "source": [
    "chunk_size = 128\n",
    "chunk_number = 15\n",
    "left_chunk = signal[chunk_size * (chunk_number - 1) : chunk_size * chunk_number]\n",
    "center_chunk = signal[chunk_size * chunk_number : chunk_size * (chunk_number + 1)]\n",
    "right_chunk = signal[chunk_size * (chunk_number + 1) : chunk_size * (chunk_number + 2)]\n",
    "chunks = np.concatenate([left_chunk, center_chunk, right_chunk])"
   ]
  },
  {
   "cell_type": "code",
   "execution_count": null,
   "metadata": {},
   "outputs": [],
   "source": [
    "#plot(chunks, \"sample\", \"amplitude\", \"3 consecutive chunks\", '-')\n",
    "pylab.plot(np.linspace(0, len(left_chunk)-1, len(left_chunk)), left_chunk)\n",
    "pylab.plot(np.linspace(len(left_chunk), len(left_chunk) + len(center_chunk) - 1, len(center_chunk)), center_chunk)\n",
    "pylab.plot(np.linspace(len(left_chunk) + len(center_chunk), len(left_chunk) + len(center_chunk) + len(right_chunk) - 1, len(right_chunk)), right_chunk)\n",
    "pylab.xlabel(\"sample\")\n",
    "pylab.ylabel(\"amplitude\")\n",
    "pylab.title(\"3 chunks\")\n",
    "pylab.show()"
   ]
  },
  {
   "cell_type": "code",
   "execution_count": null,
   "metadata": {},
   "outputs": [],
   "source": [
    "128*3"
   ]
  },
  {
   "cell_type": "code",
   "execution_count": null,
   "metadata": {},
   "outputs": [],
   "source": [
    "len(chunks)"
   ]
  },
  {
   "cell_type": "markdown",
   "metadata": {},
   "source": [
    "## Quantize the chunks in the DWT domain\n",
    "Each chunk is transformed independently."
   ]
  },
  {
   "cell_type": "code",
   "execution_count": null,
   "metadata": {},
   "outputs": [],
   "source": [
    "quantization_step = 128\n",
    "\n",
    "def transform_and_quantize(chunk):\n",
    "    decomposition = pywt.wavedec(chunk, wavelet=wavelet, level=levels, mode=mode)\n",
    "    quantized_decomposition = []\n",
    "    for subband in decomposition:\n",
    "        quantized_subband = deadzone_quantizer(subband, quantization_step)\n",
    "        quantized_decomposition.append(quantized_subband)\n",
    "    return quantized_decomposition\n",
    "    #coefficients, slices = pywt.coeffs_to_array(decomposition)\n",
    "    #quantization_indexes = deadzone_quantizer(coefficients, quantization_step)\n",
    "    #return quantization_indexes\n",
    "    \n",
    "def dequantize_and_detransform(decomposition):\n",
    "#def dequantize_and_detransform(quantization_indexes):\n",
    "    dequantized_decomposition = []\n",
    "    for subband in decomposition:\n",
    "        dequantized_subband = deadzone_dequantizer(subband, quantization_step)\n",
    "        dequantized_decomposition.append(dequantized_subband)\n",
    "    chunk = pywt.waverec(dequantized_decomposition, wavelet=wavelet, mode=mode)\n",
    "    return chunk\n",
    "    #zeros = np.empty_like(quantization_indexes)\n",
    "    #_ = pywt.wavedec(zeros, wavelet=wavelet, level=levels, mode=mode)\n",
    "    #_, slices = pywt.coeffs_to_array(_)\n",
    "    #quantized_coeffs = deadzone_dequantizer(quantization_indexes, quantization_step)\n",
    "    #decomposition = pywt.array_to_coeffs(quantized_coeffs, slices, output_format=\"wavedec\")\n",
    "    #reconstructed_chunk = pywt.waverec(decomposition, wavelet=wavelet, mode=mode)\n",
    "    #return reconstructed_chunk\n",
    "\n",
    "def process_chunk(chunk):\n",
    "    quantization_indexes = transform_and_quantize(chunk)\n",
    "    reconstructed_chunk = dequantize_and_detransform(quantization_indexes)\n",
    "    return reconstructed_chunk\n",
    "    \n",
    "reconstructed_left_chunk = process_chunk(left_chunk)\n",
    "reconstructed_center_chunk = process_chunk(center_chunk)\n",
    "reconstructed_right_chunk = process_chunk(right_chunk)"
   ]
  },
  {
   "cell_type": "markdown",
   "metadata": {},
   "source": [
    "## Concatenation of the non overlaped reconstructed chunks"
   ]
  },
  {
   "cell_type": "code",
   "execution_count": null,
   "metadata": {},
   "outputs": [],
   "source": [
    "reconstructed_chunks = np.concatenate([reconstructed_left_chunk, reconstructed_center_chunk, reconstructed_right_chunk])\n",
    "ideal_reconstruction = process_chunk(chunks)\n",
    "pylab.plot(np.linspace(0, len(reconstructed_chunks)-1, len(reconstructed_chunks)), reconstructed_chunks, label = \"without overlaping\")\n",
    "pylab.plot(np.linspace(0, len(ideal_reconstruction)-1, len(ideal_reconstruction)), ideal_reconstruction, label = \"with overlaping\")\n",
    "pylab.legend(loc='upper right')\n",
    "pylab.xlabel(\"sample\")\n",
    "pylab.ylabel(\"amplitude\")\n",
    "pylab.title(\"reconstructed chunks\")\n",
    "pylab.show()"
   ]
  },
  {
   "cell_type": "markdown",
   "metadata": {},
   "source": [
    "Signal discontinuities usually happen between chunks :-/"
   ]
  },
  {
   "cell_type": "markdown",
   "metadata": {},
   "source": [
    "## A solution: use the neighbor samples between chunks\n",
    "```\n",
    "+------------+--------------+-------------+\n",
    "| left_chunk | center_chunk | right_chunk |\n",
    "+------------+--------------+-------------+\n",
    "           OO OOOOOOOOOOOOOO OO\n",
    "           -- oooooooooooooo ++\n",
    "\n",
    "Compute the DWT of the O samples.\n",
    "Transmit the o coefficients\n",
    "Coefficients . must be used to reconstruct the center_chunk.\n",
    "```"
   ]
  },
  {
   "cell_type": "code",
   "execution_count": null,
   "metadata": {},
   "outputs": [],
   "source": [
    "number_of_overlaped_samples = 1 << math.ceil(math.log(wavelet.dec_len * levels) / math.log(2))\n",
    "print(\"number_of_overlaped_samples =\", number_of_overlaped_samples)"
   ]
  },
  {
   "cell_type": "markdown",
   "metadata": {},
   "source": [
    "### Create `OO OOOOOOOOOOOOOO OO` (extended chunk)"
   ]
  },
  {
   "cell_type": "code",
   "execution_count": null,
   "metadata": {},
   "outputs": [],
   "source": [
    "last_samples_left_chunk = left_chunk[chunk_size - number_of_overlaped_samples :]\n",
    "first_samples_right_chunk = right_chunk[: number_of_overlaped_samples]\n",
    "extended_chunk = np.concatenate([last_samples_left_chunk, center_chunk, first_samples_right_chunk])\n",
    "print(\"number of samples overlaped with the previous chunk =\", len(last_samples_left_chunk))\n",
    "print(\"number of samples in the current chunk =\", len(center_chunk))\n",
    "print(\"number of samples overlaped with the next chunk =\", len(first_samples_right_chunk))\n",
    "print(\"length of the extended chunk =\", len(extended_chunk))\n",
    "#plot(extended_chunk, \"sample\", \"amplitude\", \"extended chunk\", '-')\n",
    "pylab.plot(np.linspace(0,\n",
    "                       len(last_samples_left_chunk)-1,\n",
    "                       len(last_samples_left_chunk)),\n",
    "           last_samples_left_chunk)\n",
    "pylab.plot(np.linspace(len(last_samples_left_chunk),\n",
    "                       len(last_samples_left_chunk) + len(center_chunk) - 1,\n",
    "                       len(center_chunk)),\n",
    "           center_chunk)\n",
    "pylab.plot(np.linspace(len(last_samples_left_chunk) + len(center_chunk),\n",
    "                       len(last_samples_left_chunk) + len(center_chunk) + len(first_samples_right_chunk) - 1,\n",
    "                       len(first_samples_right_chunk)),\n",
    "           first_samples_right_chunk)\n",
    "pylab.xlabel(\"sample\")\n",
    "pylab.ylabel(\"amplitude\")\n",
    "pylab.title(\"extended chunk\")\n",
    "pylab.show()"
   ]
  },
  {
   "cell_type": "markdown",
   "metadata": {},
   "source": [
    "### Reconstruction of the extended chunk"
   ]
  },
  {
   "cell_type": "code",
   "execution_count": null,
   "metadata": {},
   "outputs": [],
   "source": [
    "reconstructed_extended_chunk = process_chunk(extended_chunk)\n",
    "#plot(reconstructed_extended_chunk, \"sample\", \"amplitude\", \"reconstructed extended chunk\", '-')\n",
    "reconstructed_last_samples_left_chunk = reconstructed_extended_chunk[0:number_of_overlaped_samples]\n",
    "reconstructed_center_chunk = reconstructed_extended_chunk[number_of_overlaped_samples:chunk_size + number_of_overlaped_samples]\n",
    "reconstructed_first_samples_right_chunk = reconstructed_extended_chunk[chunk_size + number_of_overlaped_samples:]\n",
    "pylab.plot(np.linspace(0,\n",
    "                       len(reconstructed_last_samples_left_chunk)-1,\n",
    "                       len(reconstructed_last_samples_left_chunk)),\n",
    "           reconstructed_last_samples_left_chunk)\n",
    "pylab.plot(np.linspace(len(reconstructed_last_samples_left_chunk),\n",
    "                       len(reconstructed_last_samples_left_chunk) + len(reconstructed_center_chunk) - 1,\n",
    "                       len(reconstructed_center_chunk)),\n",
    "           reconstructed_center_chunk)\n",
    "pylab.plot(np.linspace(len(reconstructed_last_samples_left_chunk) + len(reconstructed_center_chunk),\n",
    "                       len(reconstructed_last_samples_left_chunk) + len(reconstructed_center_chunk) + len(reconstructed_first_samples_right_chunk) - 1,\n",
    "                       len(reconstructed_first_samples_right_chunk)),\n",
    "           reconstructed_first_samples_right_chunk)\n",
    "pylab.xlabel(\"sample\")\n",
    "pylab.ylabel(\"amplitude\")\n",
    "pylab.title(\"reconstructed extended chunk\")\n",
    "pylab.show()"
   ]
  },
  {
   "cell_type": "markdown",
   "metadata": {},
   "source": [
    "Let's explore how to reconstruct the center chunk without boundary distortion.\n",
    "\n",
    "* Option 1: Use all the coefficients of the extended chunks.\n",
    "\n",
    "    Are the coefficients resulting of the overlaped areas the same when are used by the two neighbor chunks? If this is true, we only need to transmit the coefficients of the non overlaped areas.\n",
    "\n",
    "* Option 2: Suppose that the coefficients resulting of the overlaped areas are cero and we add the overlaped areas."
   ]
  },
  {
   "cell_type": "markdown",
   "metadata": {},
   "source": [
    "### Reconstruction of the center chunk with boundary distortion"
   ]
  },
  {
   "cell_type": "code",
   "execution_count": null,
   "metadata": {},
   "outputs": [],
   "source": [
    "central_coeffs = extended_chunk[number_of_overlaped_samples: -number_of_overlaped_samples]\n",
    "recons_central_coeffs = process_chunk(central_coeffs)\n",
    "plot(recons_central_coeffs, \"sample\", \"amplitude\", \"reconstructed extended chunk\", '-')"
   ]
  },
  {
   "cell_type": "code",
   "execution_count": null,
   "metadata": {},
   "outputs": [],
   "source": []
  },
  {
   "cell_type": "code",
   "execution_count": null,
   "metadata": {},
   "outputs": [],
   "source": []
  },
  {
   "cell_type": "markdown",
   "metadata": {},
   "source": [
    "### What happens is we reconstruct the chunk using only the central coefficients?"
   ]
  },
  {
   "cell_type": "markdown",
   "metadata": {},
   "source": [
    "### Compute `-- oooooooooooooo ++`"
   ]
  },
  {
   "cell_type": "code",
   "execution_count": null,
   "metadata": {},
   "outputs": [],
   "source": [
    "extended_coefs = transform_and_quantize(extended_chunk)"
   ]
  },
  {
   "cell_type": "markdown",
   "metadata": {},
   "source": [
    "### Compute `++` coeficients using right_chunk and the right part of center_chunk"
   ]
  },
  {
   "cell_type": "code",
   "execution_count": null,
   "metadata": {},
   "outputs": [],
   "source": [
    "last_samples_center_chunk = center_chunk[chunk_size - number_of_overlaped_samples :]\n",
    "extended_right_chunk = np.concatenate([last_samples_center_chunk, right_chunk])\n",
    "plusplus_coefs = transform_and_quantize(extended_right_chunk)"
   ]
  },
  {
   "cell_type": "markdown",
   "metadata": {},
   "source": [
    "### Supossing that the exterior coeffs are zero"
   ]
  },
  {
   "cell_type": "code",
   "execution_count": null,
   "metadata": {},
   "outputs": [],
   "source": [
    "zeroed_extended_chunk = np.concatenate(\n",
    "    [np.zeros(number_of_overlaped_samples),\n",
    "    extended_chunk[number_of_overlaped_samples: -number_of_overlaped_samples],\n",
    "    np.zeros(number_of_overlaped_samples)]\n",
    ")\n",
    "recons_zeroed_extended_chunk = process_chunk(zeroed_extended_chunk)[number_of_overlaped_samples: -number_of_overlaped_samples]\n",
    "plot(recons_zeroed_extended_chunk, \"sample\", \"amplitude\", \"reconstructed extended chunk\", '-')"
   ]
  },
  {
   "cell_type": "markdown",
   "metadata": {},
   "source": [
    "### The transformed and quantized (non extended) chunk (without overlaping)"
   ]
  },
  {
   "cell_type": "code",
   "execution_count": null,
   "metadata": {},
   "outputs": [],
   "source": [
    "plot(rchunk_center, \"sample\", \"amplitude\", \"reconstructed chunk without overlaping\", '-')"
   ]
  },
  {
   "cell_type": "markdown",
   "metadata": {},
   "source": [
    "### We check  overlaped coeffs"
   ]
  },
  {
   "cell_type": "code",
   "execution_count": null,
   "metadata": {},
   "outputs": [],
   "source": []
  }
 ],
 "metadata": {
  "kernelspec": {
   "display_name": "Python 3",
   "language": "python",
   "name": "python3"
  },
  "language_info": {
   "codemirror_mode": {
    "name": "ipython",
    "version": 3
   },
   "file_extension": ".py",
   "mimetype": "text/x-python",
   "name": "python",
   "nbconvert_exporter": "python",
   "pygments_lexer": "ipython3",
   "version": "3.8.6"
  }
 },
 "nbformat": 4,
 "nbformat_minor": 4
}

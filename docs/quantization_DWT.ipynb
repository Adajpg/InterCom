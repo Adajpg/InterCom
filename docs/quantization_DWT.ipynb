{
 "cells": [
  {
   "cell_type": "markdown",
   "metadata": {},
   "source": [
    "# Quantization of block DWT-ransformed audio signals"
   ]
  },
  {
   "cell_type": "code",
   "execution_count": null,
   "metadata": {},
   "outputs": [],
   "source": [
    "import sounddevice as sd\n",
    "import pywt\n",
    "import math\n",
    "import numpy as np\n",
    "%matplotlib inline\n",
    "import matplotlib\n",
    "import matplotlib.pyplot as plt\n",
    "from scipy import signal\n",
    "from ipywidgets import interact, interactive, fixed, interact_manual\n",
    "import ipywidgets as widgets\n",
    "import pylab"
   ]
  },
  {
   "cell_type": "markdown",
   "metadata": {},
   "source": [
    "## Capture an audio sequence"
   ]
  },
  {
   "cell_type": "code",
   "execution_count": null,
   "metadata": {},
   "outputs": [],
   "source": [
    "def plot(y, xlabel='', ylabel='', title='', marker='.'):\n",
    "    fig = plt.figure()\n",
    "    ax = fig.add_subplot(111)\n",
    "    ax.set_title(title)\n",
    "    ax.grid()\n",
    "    ax.xaxis.set_label_text(xlabel)\n",
    "    ax.yaxis.set_label_text(ylabel)\n",
    "    x = np.linspace(0, len(y)-1, num=len(y))\n",
    "    ax.plot(x, y, marker, markersize=1)\n",
    "    plt.show(block=False)"
   ]
  },
  {
   "cell_type": "code",
   "execution_count": null,
   "metadata": {},
   "outputs": [],
   "source": [
    "fs = 44100\n",
    "duration = 80000/44100  # seconds\n",
    "signal = sd.rec(int(duration * fs), samplerate=fs, channels=1, dtype=np.int16)\n",
    "print(\"Say something!\")\n",
    "while sd.wait():\n",
    "    pass\n",
    "print(\"done\")\n",
    "signal = signal.flatten()"
   ]
  },
  {
   "cell_type": "code",
   "execution_count": null,
   "metadata": {},
   "outputs": [],
   "source": [
    "plot(signal, \"sample\", \"amplitude\", \"original\")"
   ]
  },
  {
   "cell_type": "markdown",
   "metadata": {},
   "source": [
    "## Select a number of levels of the DWT"
   ]
  },
  {
   "cell_type": "code",
   "execution_count": null,
   "metadata": {},
   "outputs": [],
   "source": [
    "levels = 3"
   ]
  },
  {
   "cell_type": "markdown",
   "metadata": {},
   "source": [
    "## Filters selection"
   ]
  },
  {
   "cell_type": "code",
   "execution_count": null,
   "metadata": {},
   "outputs": [],
   "source": [
    "#wavelet_name = \"haar\"\n",
    "wavelet_name = \"db5\"\n",
    "#wavelet_name = \"db20\"\n",
    "#wavelet_name = \"bior2.2\"\n",
    "#wavelet_name = \"rbio2.2\"\n",
    "wavelet = pywt.Wavelet(wavelet_name)\n",
    "#mode = \"zero\"\n",
    "mode = \"per\""
   ]
  },
  {
   "cell_type": "markdown",
   "metadata": {},
   "source": [
    "## Define a dead-zone quantizer"
   ]
  },
  {
   "cell_type": "code",
   "execution_count": null,
   "metadata": {},
   "outputs": [],
   "source": [
    "def deadzone_quantizer(x, quantization_step):\n",
    "    k = (x / quantization_step).astype(np.int)\n",
    "    return k\n",
    "\n",
    "def deadzone_dequantizer(k, quantization_step):\n",
    "    y = quantization_step * k\n",
    "    return y"
   ]
  },
  {
   "cell_type": "markdown",
   "metadata": {},
   "source": [
    "## Extract 3 consecutive chunks from the audio sequence"
   ]
  },
  {
   "cell_type": "code",
   "execution_count": null,
   "metadata": {},
   "outputs": [],
   "source": [
    "chunk_size = 128\n",
    "chunk_number = 15\n",
    "chunk_left = signal[chunk_size * (chunk_number - 1) : chunk_size * chunk_number]\n",
    "chunk_center = signal[chunk_size * chunk_number : chunk_size * (chunk_number + 1)]\n",
    "chunk_right = signal[chunk_size * (chunk_number + 1) : chunk_size * (chunk_number + 2)]\n",
    "chunks = np.concatenate([chunk_left, chunk_center, chunk_right])"
   ]
  },
  {
   "cell_type": "code",
   "execution_count": null,
   "metadata": {},
   "outputs": [],
   "source": [
    "plot(chunks, \"sample\", \"amplitude\", \"3 consecutive chunks\", '-')"
   ]
  },
  {
   "cell_type": "code",
   "execution_count": null,
   "metadata": {},
   "outputs": [],
   "source": [
    "128*3"
   ]
  },
  {
   "cell_type": "code",
   "execution_count": null,
   "metadata": {},
   "outputs": [],
   "source": [
    "len(chunks)"
   ]
  },
  {
   "cell_type": "markdown",
   "metadata": {},
   "source": [
    "## Quantize the chunks in the DWT domain\n",
    "Each chunk is transformed independently."
   ]
  },
  {
   "cell_type": "code",
   "execution_count": null,
   "metadata": {},
   "outputs": [],
   "source": [
    "quantization_step = 128\n",
    "\n",
    "def transform_and_quantize(chunk):\n",
    "    decomposition = pywt.wavedec(chunk, wavelet=wavelet, level=levels, mode=mode)\n",
    "    coefficients, slices = pywt.coeffs_to_array(decomposition)\n",
    "    quantization_indexes = deadzone_quantizer(coefficients, quantization_step)\n",
    "    return quantization_indexes\n",
    "    \n",
    "def dequantize_and_detransform(quantization_indexes):\n",
    "    zeros = np.empty_like(quantization_indexes)\n",
    "    _ = pywt.wavedec(zeros, wavelet=wavelet, level=levels, mode=mode)\n",
    "    _, slices = pywt.coeffs_to_array(_)\n",
    "    quantized_coeffs = deadzone_dequantizer(quantization_indexes, quantization_step)\n",
    "    decomposition = pywt.array_to_coeffs(quantized_coeffs, slices, output_format=\"wavedec\")\n",
    "    reconstructed_chunk = pywt.waverec(decomposition, wavelet=wavelet, mode=mode)\n",
    "    return reconstructed_chunk\n",
    "\n",
    "def process_chunk(chunk):\n",
    "    quantization_indexes = transform_and_quantize(chunk)\n",
    "    reconstructed_chunk = dequantize_and_detransform(quantization_indexes)\n",
    "    return reconstructed_chunk\n",
    "    \n",
    "rchunk_left = process_chunk(chunk_left)\n",
    "rchunk_center = process_chunk(chunk_center)\n",
    "rchunk_right = process_chunk(chunk_right)"
   ]
  },
  {
   "cell_type": "markdown",
   "metadata": {},
   "source": [
    "## Concatenation of the reconstructed chunks"
   ]
  },
  {
   "cell_type": "code",
   "execution_count": null,
   "metadata": {
    "scrolled": true
   },
   "outputs": [],
   "source": [
    "rchunks = np.concatenate([rchunk_left, rchunk_center, rchunk_right])\n",
    "plot(rchunks, \"sample\", \"amplitude\", \"concatenation of the reconstructed chunks\", '-')"
   ]
  },
  {
   "cell_type": "markdown",
   "metadata": {},
   "source": [
    "Signal discontinuities happen between chunks :-/"
   ]
  },
  {
   "cell_type": "markdown",
   "metadata": {},
   "source": [
    "## Reconstruction of the concatenated chunks\n",
    "This is the ideal reconstruction (ingnoring the first and the last samples of the concatenation)."
   ]
  },
  {
   "cell_type": "code",
   "execution_count": null,
   "metadata": {},
   "outputs": [],
   "source": [
    "ideal_chunks = process_chunk(chunks)\n",
    "plot(ideal_chunks, \"sample\", \"amplitude\", \"reconstructed concatenated chunks\", '-')"
   ]
  },
  {
   "cell_type": "markdown",
   "metadata": {},
   "source": [
    "## A solution: use the neighbor samples between chunks"
   ]
  },
  {
   "cell_type": "code",
   "execution_count": null,
   "metadata": {},
   "outputs": [],
   "source": [
    "number_of_overlaped_samples = 1 << math.ceil(math.log(wavelet.dec_len * levels) / math.log(2))\n",
    "print(\"number_of_overlaped_samples =\", number_of_overlaped_samples)"
   ]
  },
  {
   "cell_type": "markdown",
   "metadata": {},
   "source": [
    "### Create an extended chunk that overlaps with the previous and the next one"
   ]
  },
  {
   "cell_type": "code",
   "execution_count": null,
   "metadata": {},
   "outputs": [],
   "source": [
    "last_samples_left_chunk = chunk_left[chunk_size - number_of_overlaped_samples :]\n",
    "first_samples_right_chunk = chunk_right[: number_of_overlaped_samples]\n",
    "extended_chunk = np.concatenate([last_samples_left_chunk, chunk_center, first_samples_right_chunk])\n",
    "print(\"number of samples overlaped with the previous chunk=\", len(last_samples_left_chunk))\n",
    "print(\"number of samples in the current chunk =\", len(chunk_center))\n",
    "print(\"number of samples overlaped with the next chunk =\", len(first_samples_right_chunk))\n",
    "print(\"length of the extended chunk =\", len(extended_chunk))\n",
    "plot(extended_chunk, \"sample\", \"amplitude\", \"extended chunk\", '-')"
   ]
  },
  {
   "cell_type": "markdown",
   "metadata": {},
   "source": [
    "### Reconstruction of the extended chunk"
   ]
  },
  {
   "cell_type": "code",
   "execution_count": null,
   "metadata": {},
   "outputs": [],
   "source": [
    "rextended_chunk = process_chunk(extended_chunk)"
   ]
  },
  {
   "cell_type": "code",
   "execution_count": null,
   "metadata": {},
   "outputs": [],
   "source": [
    "extended_chunk.shape"
   ]
  },
  {
   "cell_type": "code",
   "execution_count": null,
   "metadata": {},
   "outputs": [],
   "source": [
    "plot(rextended_chunk, \"sample\", \"amplitude\", \"reconstructed extended chunk\", '-')"
   ]
  },
  {
   "cell_type": "markdown",
   "metadata": {},
   "source": [
    "### Extract the chunk from the extended chunk"
   ]
  },
  {
   "cell_type": "code",
   "execution_count": null,
   "metadata": {},
   "outputs": [],
   "source": [
    "rchunk = rextended_chunk[number_of_overlaped_samples : -number_of_overlaped_samples]"
   ]
  },
  {
   "cell_type": "code",
   "execution_count": null,
   "metadata": {},
   "outputs": [],
   "source": [
    "plot(rchunk, \"sample\", \"amplitude\", \"reconstructed chunk with overlaping\", '-')"
   ]
  },
  {
   "cell_type": "markdown",
   "metadata": {},
   "source": [
    "### Reconstruction of the chunk without the overlaped coeffs"
   ]
  },
  {
   "cell_type": "code",
   "execution_count": null,
   "metadata": {},
   "outputs": [],
   "source": [
    "central_coeffs = extended_chunk[number_of_overlaped_samples: -number_of_overlaped_samples]\n",
    "central_coeffs.shape"
   ]
  },
  {
   "cell_type": "code",
   "execution_count": null,
   "metadata": {},
   "outputs": [],
   "source": [
    "recons_central_coeffs = process_chunk(central_coeffs)"
   ]
  },
  {
   "cell_type": "code",
   "execution_count": null,
   "metadata": {},
   "outputs": [],
   "source": [
    "plot(recons_central_coeffs, \"sample\", \"amplitude\", \"reconstructed extended chunk\", '-')"
   ]
  },
  {
   "cell_type": "markdown",
   "metadata": {},
   "source": [
    "### Supossing that the exterior coeffs are zero"
   ]
  },
  {
   "cell_type": "code",
   "execution_count": null,
   "metadata": {},
   "outputs": [],
   "source": [
    "zeroed_extended_chunk = np.concatenate(\n",
    "    [np.zeros(number_of_overlaped_samples),\n",
    "    extended_chunk[number_of_overlaped_samples: -number_of_overlaped_samples],\n",
    "    np.zeros(number_of_overlaped_samples)]\n",
    ")\n",
    "recons_zeroed_extended_chunk = process_chunk(zeroed_extended_chunk)[number_of_overlaped_samples: -number_of_overlaped_samples]\n",
    "plot(recons_zeroed_extended_chunk, \"sample\", \"amplitude\", \"reconstructed extended chunk\", '-')"
   ]
  },
  {
   "cell_type": "markdown",
   "metadata": {},
   "source": [
    "### The transformed and quantized (non extended) chunk (without overlaping)"
   ]
  },
  {
   "cell_type": "code",
   "execution_count": null,
   "metadata": {},
   "outputs": [],
   "source": [
    "plot(rchunk_center, \"sample\", \"amplitude\", \"reconstructed chunk without overlaping\", '-')"
   ]
  },
  {
   "cell_type": "code",
   "execution_count": null,
   "metadata": {},
   "outputs": [],
   "source": []
  },
  {
   "cell_type": "code",
   "execution_count": null,
   "metadata": {},
   "outputs": [],
   "source": []
  }
 ],
 "metadata": {
  "kernelspec": {
   "display_name": "Python 3",
   "language": "python",
   "name": "python3"
  },
  "language_info": {
   "codemirror_mode": {
    "name": "ipython",
    "version": 3
   },
   "file_extension": ".py",
   "mimetype": "text/x-python",
   "name": "python",
   "nbconvert_exporter": "python",
   "pygments_lexer": "ipython3",
   "version": "3.8.5"
  }
 },
 "nbformat": 4,
 "nbformat_minor": 4
}

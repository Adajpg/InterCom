{
 "cells": [
  {
   "cell_type": "code",
   "execution_count": null,
   "metadata": {},
   "outputs": [],
   "source": [
    "import sounddevice as sd\n",
    "import pywt\n",
    "import math\n",
    "import numpy as np\n",
    "%matplotlib inline\n",
    "import matplotlib\n",
    "import matplotlib.pyplot as plt\n",
    "from scipy import signal\n",
    "from ipywidgets import interact, interactive, fixed, interact_manual\n",
    "import ipywidgets as widgets\n",
    "import pylab"
   ]
  },
  {
   "cell_type": "code",
   "execution_count": null,
   "metadata": {},
   "outputs": [],
   "source": [
    "def plot(x, y, xlabel='', ylabel='', title=''):\n",
    "    fig = plt.figure()\n",
    "    ax = fig.add_subplot(111)\n",
    "    ax.set_title(title)\n",
    "    ax.grid()\n",
    "    ax.xaxis.set_label_text(xlabel)\n",
    "    ax.yaxis.set_label_text(ylabel)\n",
    "    ax.plot(x, y, '.', markersize=1)\n",
    "    plt.show(block=False)"
   ]
  },
  {
   "cell_type": "code",
   "execution_count": null,
   "metadata": {},
   "outputs": [],
   "source": [
    "fs = 44100\n",
    "duration = 1.0  # seconds\n",
    "x = sd.rec(int(duration * fs), samplerate=fs, channels=1, dtype=np.int16)\n",
    "print(\"Say something!\")\n",
    "while sd.wait():\n",
    "    pass\n",
    "print(\"done\")\n",
    "x = x.flatten()"
   ]
  },
  {
   "cell_type": "code",
   "execution_count": null,
   "metadata": {},
   "outputs": [],
   "source": [
    "#wavelet_name = \"haar\"\n",
    "#wavelet_name = \"db5\"\n",
    "#wavelet_name = \"db20\"\n",
    "#wavelet_name = \"bior2.2\"\n",
    "wavelet_name = \"rbio2.2\"\n",
    "wavelet = pywt.Wavelet(wavelet_name)"
   ]
  },
  {
   "cell_type": "code",
   "execution_count": null,
   "metadata": {},
   "outputs": [],
   "source": [
    "decomposition_1 = pywt.wavedec(x, wavelet=wavelet, level=1, mode=\"per\")\n",
    "coefficients_1, slices = pywt.coeffs_to_array(decomposition_1)\n",
    "decomposition_2 = pywt.wavedec(x, wavelet=wavelet, level=2, mode=\"per\")\n",
    "coefficients_2, slices = pywt.coeffs_to_array(decomposition_2)"
   ]
  },
  {
   "cell_type": "code",
   "execution_count": null,
   "metadata": {},
   "outputs": [],
   "source": [
    "plot(np.linspace(0, len(x)-1, len(x)), x, \"Time\", \"Amplitude\", \"Mid Channel\")\n",
    "plot(np.linspace(0, len(coefficients_1)-1, len(coefficients_1)), coefficients_1, \"Time\", \"Amplitude\", \"Mid Channel\")\n",
    "plot(np.linspace(0, len(coefficients_2)-1, len(coefficients_2)), coefficients_2, \"Time\", \"Amplitude\", \"Mid Channel\")"
   ]
  },
  {
   "cell_type": "markdown",
   "metadata": {},
   "source": [
    "Scaling function"
   ]
  },
  {
   "cell_type": "code",
   "execution_count": null,
   "metadata": {},
   "outputs": [],
   "source": [
    "N = 512"
   ]
  },
  {
   "cell_type": "code",
   "execution_count": null,
   "metadata": {},
   "outputs": [],
   "source": [
    "zeros = np.zeros(N)\n",
    "decomposition = pywt.wavedec(zeros, wavelet=wavelet, level=5, mode=\"per\")\n",
    "coefficients, slices = pywt.coeffs_to_array(decomposition)\n",
    "#coefficients = signal.unit_impulse(1024)\n",
    "coefficients[0] = N\n",
    "decomposition = pywt.array_to_coeffs(coefficients, slices, output_format=\"wavedec\")\n",
    "samples = pywt.waverec(decomposition, wavelet=wavelet, mode=\"per\")"
   ]
  },
  {
   "cell_type": "code",
   "execution_count": null,
   "metadata": {},
   "outputs": [],
   "source": [
    "plot(np.linspace(0, len(samples)-1, len(samples)), samples, \"Time\", \"Amplitude\", \"Mid Channel\")\n"
   ]
  },
  {
   "cell_type": "markdown",
   "metadata": {},
   "source": [
    "Wavelet function"
   ]
  },
  {
   "cell_type": "code",
   "execution_count": null,
   "metadata": {},
   "outputs": [],
   "source": [
    "zeros = np.zeros(N)\n",
    "decomposition = pywt.wavedec(zeros, wavelet=wavelet, level=5, mode=\"per\")\n",
    "coefficients, slices = pywt.coeffs_to_array(decomposition)\n",
    "#coefficients = signal.unit_impulse(1024)\n",
    "coefficients[4] = N\n",
    "decomposition = pywt.array_to_coeffs(coefficients, slices, output_format=\"wavedec\")\n",
    "samples = pywt.waverec(decomposition, wavelet=wavelet, mode=\"per\")\n",
    "plot(np.linspace(0, len(samples)-1, len(samples)), samples, \"Time\", \"Amplitude\", \"Mid Channel\")\n"
   ]
  },
  {
   "cell_type": "code",
   "execution_count": null,
   "metadata": {},
   "outputs": [],
   "source": [
    "import pylab\n",
    "pylab.plot(np.linspace(0, len(samples)-1, len(samples)), samples)\n",
    "pylab.show()"
   ]
  },
  {
   "cell_type": "code",
   "execution_count": null,
   "metadata": {},
   "outputs": [],
   "source": [
    "[phi, psi, x] = pywt.Wavelet('db5').wavefun(level=4)"
   ]
  },
  {
   "cell_type": "code",
   "execution_count": null,
   "metadata": {},
   "outputs": [],
   "source": [
    "pylab.plot(x, psi)\n",
    "pylab.plot(x, phi)\n",
    "pylab.show()"
   ]
  },
  {
   "cell_type": "code",
   "execution_count": null,
   "metadata": {},
   "outputs": [],
   "source": [
    "[a_scaling, a_wavelet, s_scaling, s_wavelet, x] = pywt.Wavelet('bior2.2').wavefun(level=4)"
   ]
  },
  {
   "cell_type": "code",
   "execution_count": null,
   "metadata": {},
   "outputs": [],
   "source": [
    "pylab.plot(x, a_scaling)\n",
    "pylab.plot(x, a_wavelet)\n",
    "pylab.show()"
   ]
  },
  {
   "cell_type": "code",
   "execution_count": null,
   "metadata": {},
   "outputs": [],
   "source": [
    "pylab.plot(x, s_scaling)\n",
    "pylab.plot(x, s_wavelet)\n",
    "pylab.show()"
   ]
  },
  {
   "cell_type": "code",
   "execution_count": null,
   "metadata": {},
   "outputs": [],
   "source": [
    "[a_scaling, a_wavelet, s_scaling, s_wavelet, x] = pywt.Wavelet('rbio2.2').wavefun(level=4)"
   ]
  },
  {
   "cell_type": "code",
   "execution_count": null,
   "metadata": {},
   "outputs": [],
   "source": [
    "pylab.plot(x, a_scaling)\n",
    "pylab.plot(x, a_wavelet)\n",
    "pylab.show()"
   ]
  },
  {
   "cell_type": "code",
   "execution_count": null,
   "metadata": {},
   "outputs": [],
   "source": [
    "pylab.plot(x, s_scaling)\n",
    "pylab.plot(x, s_wavelet)\n",
    "pylab.show()"
   ]
  },
  {
   "cell_type": "code",
   "execution_count": null,
   "metadata": {},
   "outputs": [],
   "source": [
    "from __future__ import print_function\n",
    "from ipywidgets import interact, interactive, fixed, interact_manual\n",
    "import ipywidgets as widgets"
   ]
  },
  {
   "cell_type": "code",
   "execution_count": null,
   "metadata": {},
   "outputs": [],
   "source": [
    "def f(i):\n",
    "    zeros = np.zeros(N)\n",
    "    decomposition = pywt.wavedec(zeros, wavelet=wavelet, level=4, mode=\"per\")\n",
    "    coefficients, slices = pywt.coeffs_to_array(decomposition)\n",
    "    coefficients[i] = 1\n",
    "    decomposition = pywt.array_to_coeffs(coefficients, slices, output_format=\"wavedec\")\n",
    "    samples = pywt.waverec(decomposition, wavelet=wavelet, mode=\"per\")\n",
    "    pylab.plot(np.linspace(0, len(samples)-1, len(samples)), samples, label=f\"{i}\")\n",
    "    pylab.legend(loc='upper right')\n",
    "    pylab.show()"
   ]
  },
  {
   "cell_type": "code",
   "execution_count": null,
   "metadata": {},
   "outputs": [],
   "source": [
    "interact(f, i=widgets.IntSlider(min=0, max=N-1, step=1, value=0));"
   ]
  },
  {
   "cell_type": "code",
   "execution_count": null,
   "metadata": {},
   "outputs": [],
   "source": [
    "def spectrum(i):\n",
    "    zeros = np.zeros(N)\n",
    "    decomposition = pywt.wavedec(zeros, wavelet=wavelet, level=4, mode=\"per\")\n",
    "    coefficients, slices = pywt.coeffs_to_array(decomposition)\n",
    "    coefficients[i] = 1\n",
    "    decomposition = pywt.array_to_coeffs(coefficients, slices, output_format=\"wavedec\")\n",
    "    samples = pywt.waverec(decomposition, wavelet=wavelet, mode=\"per\")\n",
    "    coefs = np.fft.rfft(samples)\n",
    "    spectrum = np.sqrt(coefs.real*coefs.real + coefs.imag*coefs.imag)\n",
    "    pylab.plot(np.linspace(0, len(spectrum)-1, len(spectrum)), spectrum)\n",
    "    pylab.plot(np.linspace(0, len(samples)-1, len(samples)), samples, label=f\"{i}\")\n",
    "    pylab.legend(loc='upper right')\n",
    "    pylab.show()"
   ]
  },
  {
   "cell_type": "code",
   "execution_count": null,
   "metadata": {},
   "outputs": [],
   "source": [
    "interact(spectrum, i=widgets.IntSlider(min=0, max=N-1, step=1, value=0));"
   ]
  },
  {
   "cell_type": "code",
   "execution_count": null,
   "metadata": {},
   "outputs": [],
   "source": []
  }
 ],
 "metadata": {
  "kernelspec": {
   "display_name": "Python 3",
   "language": "python",
   "name": "python3"
  },
  "language_info": {
   "codemirror_mode": {
    "name": "ipython",
    "version": 3
   },
   "file_extension": ".py",
   "mimetype": "text/x-python",
   "name": "python",
   "nbconvert_exporter": "python",
   "pygments_lexer": "ipython3",
   "version": "3.8.5"
  }
 },
 "nbformat": 4,
 "nbformat_minor": 4
}

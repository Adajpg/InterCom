{
 "metadata": {
  "language_info": {
   "codemirror_mode": {
    "name": "ipython",
    "version": 3
   },
   "file_extension": ".py",
   "mimetype": "text/x-python",
   "name": "python",
   "nbconvert_exporter": "python",
   "pygments_lexer": "ipython3",
   "version": "3.8.5-final"
  },
  "orig_nbformat": 2,
  "kernelspec": {
   "name": "python3",
   "display_name": "Python 3.8.5 64-bit",
   "metadata": {
    "interpreter": {
     "hash": "d568976d192056dbc40b4f20450c40693209c689431c06ee8cdbba3e96c4577d"
    }
   }
  }
 },
 "nbformat": 4,
 "nbformat_minor": 2,
 "cells": [
  {
   "source": [
    "# Hito 8\n",
    "# Implementación de buffer\n",
    "Queremos conocer el número de chunks que pasan en el tiempo `jitter`, para esto, vemos cuántos bits se transportan en ese tiempo:\n",
    "\n",
    "Sabemos que `bit_rate` (2901kbits/s) es el número de bits que se transportan en un segundo, entonces:\n",
    "\n",
    "$-----------$\n",
    "\n",
    "1s -------- 2901kbits\n",
    "\n",
    "0.23s ----- ?\n",
    "\n",
    "$-----------$\n",
    "\n"
   ],
   "cell_type": "markdown",
   "metadata": {}
  },
  {
   "cell_type": "code",
   "execution_count": 2,
   "metadata": {},
   "outputs": [
    {
     "output_type": "stream",
     "name": "stdout",
     "text": [
      "bits_jitter =  667230.0 bits\n"
     ]
    }
   ],
   "source": [
    "import math\n",
    "bit_rate = 2901000 # en bits\n",
    "jitter = 0.23      # En segundos\n",
    "chunk_size = 1024 * 16  # En bits\n",
    "bits_jitter = jitter * bit_rate\n",
    "print(\"bits_jitter = \", bits_jitter, \"bits\")"
   ]
  },
  {
   "source": [
    "Ahora, buscamos a cuantos chunks corresponde un `bits_jitter`\n",
    "\n",
    "Para conseguir N:\n",
    "\n",
    "N = $\\frac{bits-jitter}{chunk-size}$"
   ],
   "cell_type": "markdown",
   "metadata": {}
  },
  {
   "cell_type": "code",
   "execution_count": 3,
   "metadata": {},
   "outputs": [
    {
     "output_type": "stream",
     "name": "stdout",
     "text": [
      "N = 41 celdas\n"
     ]
    }
   ],
   "source": [
    "n = math.ceil(bits_jitter / chunk_size)\n",
    "print(\"N =\", n,\"celdas\")"
   ]
  },
  {
   "source": [
    "## Hilos - [threading](https://docs.python.org/es/3.8/library/threading.html#module-threading)\n",
    "Tenemos 3 hilos:\n",
    "![Hilos](https://github.com/RaquelGG/TM/blob/master/otros/Hilos.png?raw=true)\n",
    "\n",
    "## Cerrojo - [threading.Lock()](https://docs.python.org/es/3.8/library/threading.html#lock-objects)\n",
    "Se usa para la sincronización concurrente, en nuestro caso desbloquea el hilo playback siempre y cuando esté lleno al menos la mitad del buffer.\n"
   ],
   "cell_type": "markdown",
   "metadata": {}
  },
  {
   "cell_type": "code",
   "execution_count": 4,
   "metadata": {},
   "outputs": [],
   "source": [
    "import threading\n",
    "lock = threading.Lock() # Inicializa el cerrojo\n",
    "lock.acquire() # Bloquea el cerrojo\n",
    "lock.release() # Desbloquea el cerrojo"
   ]
  },
  {
   "source": [
    "## Cola de prioridad - [PriorityQueue](https://docs.python.org/es/3.8/library/queue.html?highlight=priorityqueue#queue.PriorityQueue)\n",
    "Las entradas de menor valor se obtienen primero:\n",
    "\n",
    "\n",
    "![Imagen de una PriorityQueue](https://github.com/RaquelGG/TM/blob/master/otros/PriorityQueue.png?raw=true)\n",
    "\n",
    "Cada elemento de la cola de prioridad contiene:\n",
    "- Número de secuencia\n",
    "- Trozo grabado"
   ],
   "cell_type": "markdown",
   "metadata": {}
  },
  {
   "cell_type": "code",
   "execution_count": 9,
   "metadata": {},
   "outputs": [
    {
     "output_type": "execute_result",
     "data": {
      "text/plain": [
       "'id, chunk'"
      ]
     },
     "metadata": {},
     "execution_count": 9
    }
   ],
   "source": [
    "from queue import PriorityQueue\n",
    "buffer = PriorityQueue(maxsize=n * 2) # Inicializa el buffer como cola de prioridad\n",
    "buffer.put(\"id, chunk\") # Añade un elemento a la cola\n",
    "buffer.get() # Borra y devuelve el elemento más pequeño de la cola"
   ]
  },
  {
   "source": [
    "## should_skip_chunk(seq)\n",
    "Evita almacenar trozos con un número de secuencia algo menor al último número de secuencia reproducido.\n",
    "\n",
    "En caso de ser la diferencia mayor que ```N```·2 se cambia el último número de secuencia reproducido por el de la secuencia recibida - 1"
   ],
   "cell_type": "markdown",
   "metadata": {}
  },
  {
   "source": [
    "## Conclusión\n",
    "Como el jitter se midió en una situación de sobrecarga de la red, el retardo que se produce con el ```N``` calculado es considerable, nosotros recomendamos usar un valor más bajo, como por ejemplo ```N``` = 10."
   ],
   "cell_type": "markdown",
   "metadata": {}
  },
  {
   "source": [
    "En las pruebas, incluso con ```N``` = 1 no había prácticamente pérdidas de paquetes ni desorden ni retardo que dificultara en ninguna medida la comunicación."
   ],
   "cell_type": "markdown",
   "metadata": {}
  }
 ]
}
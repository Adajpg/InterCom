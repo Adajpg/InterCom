{
 "cells": [
  {
   "cell_type": "markdown",
   "metadata": {},
   "source": [
    "# Milestone 12: Temporal decorrelation in audio signals"
   ]
  },
  {
   "cell_type": "code",
   "execution_count": 34,
   "metadata": {},
   "outputs": [],
   "source": [
    "import sounddevice as sd\n",
    "import pywt\n",
    "import math\n",
    "import numpy as np\n",
    "%matplotlib inline\n",
    "import matplotlib\n",
    "import matplotlib.pyplot as plt\n",
    "from scipy import signal\n",
    "from ipywidgets import interact, interactive, fixed, interact_manual\n",
    "import ipywidgets as widgets\n",
    "import pylab\n",
    "import zlib"
   ]
  },
  {
   "cell_type": "code",
   "execution_count": 35,
   "metadata": {},
   "outputs": [],
   "source": [
    "N = 512\n",
    "levels = 4\n",
    "signal_mode_extension = \"per\"\n",
    "quantization_step = 256\n",
    "chunk_size = 2048\n",
    "wavelet_name = \"coif2\"\n",
    "wavelet = pywt.Wavelet(\"coif2\")"
   ]
  },
  {
   "cell_type": "markdown",
   "metadata": {},
   "source": [
    "### Record audio"
   ]
  },
  {
   "cell_type": "code",
   "execution_count": 6,
   "metadata": {},
   "outputs": [
    {
     "name": "stdout",
     "output_type": "stream",
     "text": [
      "Say something!\n",
      "done\n"
     ]
    }
   ],
   "source": [
    "fs = 44100      # Sampling frequency\n",
    "duration = 5.0  # seconds\n",
    "x = sd.rec(int(duration * fs), samplerate=fs, channels=2, dtype=np.int16)\n",
    "print(\"Say something!\")\n",
    "while sd.wait():\n",
    "    pass\n",
    "print(\"done\")"
   ]
  },
  {
   "cell_type": "markdown",
   "metadata": {},
   "source": [
    "### Methods to calculate bit-rate and distortion"
   ]
  },
  {
   "cell_type": "code",
   "execution_count": 48,
   "metadata": {},
   "outputs": [],
   "source": [
    "def average_energy(x):\n",
    "    return np.sum(x.astype(np.double)*x.astype(np.double))/len(x)\n",
    "\n",
    "def RMSE(x, y):\n",
    "    error_signal = x - y\n",
    "    return math.sqrt(average_energy(error_signal))\n",
    "'''\n",
    "def entropy_in_bits_per_symbol(sequence_of_symbols):\n",
    "    value, counts = np.unique(sequence_of_symbols, return_counts = True)\n",
    "    probs = counts / len(sequence_of_symbols)\n",
    "    n_classes = np.count_nonzero(probs)\n",
    "\n",
    "    if n_classes <= 1:\n",
    "        return 0\n",
    "\n",
    "    entropy = 0.\n",
    "    for i in probs:\n",
    "        entropy -= i * math.log(i, 2)\n",
    "\n",
    "    return entropy\n",
    "'''\n",
    "\n",
    "def bit_rate(x):\n",
    "    x = x.copy(order = 'C')\n",
    "    length_in_bytes = len(zlib.compress(x))\n",
    "    return length_in_bytes"
   ]
  },
  {
   "cell_type": "markdown",
   "metadata": {},
   "source": [
    "### Quantization and dequantization"
   ]
  },
  {
   "cell_type": "code",
   "execution_count": 37,
   "metadata": {},
   "outputs": [],
   "source": [
    "def quantizer(x, quantization_step):\n",
    "    k = (x / quantization_step).astype(np.int32)\n",
    "    return k\n",
    "\n",
    "def dequantizer(k, quantization_step):\n",
    "    y = quantization_step * k\n",
    "    return y\n",
    "\n",
    "def q_deq(x, quantization_step):\n",
    "    k = quantizer(x, quantization_step)\n",
    "    y = dequantizer(k, quantization_step)\n",
    "    return k, y\n",
    "\n",
    "def q_RD_curve(data):\n",
    "    RD_points = []\n",
    "    for q_step in range(16, 1024, 32):\n",
    "        k, y = q_deq(data, q_step)\n",
    "        rate = bit_rate(k[:, 0]) + bit_rate(k[:, 1])\n",
    "        #print(\"BIT RATE qRD: \", rate)\n",
    "        distortion = RMSE(data, y)\n",
    "        RD_points.append((rate, distortion))\n",
    "    #print(\"Distortion\", distortion)\n",
    "    return RD_points\n"
   ]
  },
  {
   "cell_type": "markdown",
   "metadata": {},
   "source": [
    "### MST Transform"
   ]
  },
  {
   "cell_type": "code",
   "execution_count": 38,
   "metadata": {},
   "outputs": [],
   "source": [
    "def MST_analyze(x):\n",
    "    w = np.empty_like(x, dtype=np.int32)\n",
    "    w[:, 0] = x[:, 0].astype(np.int32) + x[:, 1] # L(ow frequency subband)\n",
    "    w[:, 1] = x[:, 0].astype(np.int32) - x[:, 1] # H(igh frequency subband)\n",
    "    return w\n",
    "\n",
    "def MST_synthesize(w):\n",
    "    x = np.empty_like(w, dtype=np.int16)\n",
    "    x[:, 0] = (w[:, 0] + w[:, 1])/2 # L(ow frequency subband)\n",
    "    x[:, 1] = (w[:, 0] - w[:, 1])/2 # H(igh frequency subband)\n",
    "    return x\n",
    "\n",
    "def MST_RD_curve(data):\n",
    "    RD_points = []\n",
    "    for q_step in range(16, 1024, 32):\n",
    "        analyzed_data = MST_analyze(data)\n",
    "        k, y = q_deq(analyzed_data, q_step)\n",
    "        rate = bit_rate(k[:, 0]) + bit_rate(k[:, 1])\n",
    "        #print(\"BIT RATE MST: \", rate)\n",
    "        reconstructed_data = MST_synthesize(y)\n",
    "        distortion = RMSE(data, reconstructed_data)\n",
    "        RD_points.append((rate, distortion))\n",
    "    #print(\"Distortion\", distortion)\n",
    "    return RD_points\n"
   ]
  },
  {
   "cell_type": "markdown",
   "metadata": {},
   "source": [
    "### Temporal decorrelation"
   ]
  },
  {
   "cell_type": "code",
   "execution_count": 39,
   "metadata": {},
   "outputs": [],
   "source": [
    "def DWT_analyze(x, levels):\n",
    "    coefs = np.empty(x.shape, dtype=np.int32)\n",
    "    decomposition_0 = pywt.wavedec(x[:, 0], wavelet=wavelet, level=levels, mode=\"per\")\n",
    "    decomposition_1 = pywt.wavedec(x[:, 1], wavelet=wavelet, level=levels, mode=\"per\")\n",
    "    coefs_0, slices = pywt.coeffs_to_array(decomposition_0)\n",
    "    coefs_1, slices = pywt.coeffs_to_array(decomposition_1)\n",
    "    coefs[:, 0] = np.rint(coefs_0).astype(np.int32)\n",
    "    coefs[:, 1] = np.rint(coefs_1).astype(np.int32)\n",
    "    return coefs, slices\n",
    "\n",
    "def DWT_synthesize(coefs, slices):\n",
    "    samples = np.empty(coefs.shape, dtype=np.int16)\n",
    "    decomposition_0 = pywt.array_to_coeffs(coefs[:, 0], slices, output_format=\"wavedec\")\n",
    "    decomposition_1 = pywt.array_to_coeffs(coefs[:, 1], slices, output_format=\"wavedec\")\n",
    "    samples[:, 0] = np.rint(pywt.waverec(decomposition_0, wavelet=wavelet, mode=\"per\")).astype(np.int16)\n",
    "    samples[:, 1] = np.rint(pywt.waverec(decomposition_1, wavelet=wavelet, mode=\"per\")).astype(np.int16)\n",
    "    return samples\n",
    "\n",
    "def DWT_RD_curve(data, levels):\n",
    "    RD_points = []\n",
    "    for q_step in range(16, 1024, 32):\n",
    "        MST_coefs = MST_analyze(data)\n",
    "        DWT_coefs, slices = DWT_analyze(MST_coefs, levels)\n",
    "        k, y = q_deq(DWT_coefs, q_step)\n",
    "        rate = bit_rate(k[:, 0]) + bit_rate(k[:, 1])\n",
    "        #print(\"BIT RATE DWT: \", rate)\n",
    "        MST_coefs = DWT_synthesize(y, slices)\n",
    "        reconstructed_data = MST_synthesize(MST_coefs)\n",
    "        distortion = RMSE(data, reconstructed_data)\n",
    "        RD_points.append((rate, distortion))\n",
    "    #print(\"Distortion\", distortion)\n",
    "    return RD_points"
   ]
  },
  {
   "cell_type": "markdown",
   "metadata": {},
   "source": [
    "### Temporal decorrelation with extended chunk"
   ]
  },
  {
   "cell_type": "code",
   "execution_count": 40,
   "metadata": {},
   "outputs": [],
   "source": [
    "number_of_overlaped_samples = 1 << math.ceil(math.log(wavelet.dec_len * levels) / math.log(2))\n",
    "def DWT_RD_curve_extended(data, levels):\n",
    "    RD_points = []\n",
    "    current_chunk = np.empty(data[:2048].shape, dtype=np.int32)\n",
    "    next_chunk = np.empty(data[:2048].shape, dtype=np.int32)\n",
    "    previous_chunk = np.empty(data[:2048].shape, dtype=np.int32)\n",
    "    \n",
    "    extended_chunk_1 = np.empty(data[:(2048 + number_of_overlaped_samples * 2)].shape, dtype=np.int32)\n",
    "    extended_chunk_2 = np.empty(data[:(2048 + number_of_overlaped_samples * 2)].shape, dtype=np.int32)\n",
    "    extended_chunk_3 = np.empty(data[:(2048 + number_of_overlaped_samples * 2)].shape, dtype=np.int32)\n",
    "    extended_data = np.empty(data.shape, dtype=np.int32)\n",
    "    previous_chunk = data[0:2048]\n",
    "    current_chunk = data[2048:4096]\n",
    "    next_chunk = data[4096:6144]\n",
    "\n",
    "    extended_chunk_1 = np.concatenate([previous_chunk[-number_of_overlaped_samples :], current_chunk, next_chunk[: number_of_overlaped_samples]])\n",
    "    \n",
    "    previous_chunk = current_chunk.copy()\n",
    "    current_chunk = next_chunk.copy()\n",
    "    next_chunk = data[6144:8192]\n",
    "    extended_chunk_2 = np.concatenate([previous_chunk[-number_of_overlaped_samples :], current_chunk, next_chunk[: number_of_overlaped_samples]])\n",
    "\n",
    "    previous_chunk = current_chunk.copy()\n",
    "    current_chunk = next_chunk.copy()\n",
    "    next_chunk = data[8192:10240]\n",
    "    extended_chunk_3 = np.concatenate([previous_chunk[-number_of_overlaped_samples :], current_chunk, next_chunk[: number_of_overlaped_samples]])\n",
    "    \n",
    "    chunk = np.concatenate([extended_chunk_1, extended_chunk_2, extended_chunk_3])\n",
    "    \n",
    "    RD_points = DWT_RD_curve(chunk, levels)\n",
    "    return RD_points"
   ]
  },
  {
   "cell_type": "markdown",
   "metadata": {},
   "source": [
    "### Modified method to choose wavelet"
   ]
  },
  {
   "cell_type": "code",
   "execution_count": 41,
   "metadata": {},
   "outputs": [],
   "source": [
    "def DWT_analyze_wavelet(x, levels, wavelet):\n",
    "    coefs = np.empty(x.shape, dtype=np.int32)\n",
    "    decomposition_0 = pywt.wavedec(x[:, 0], wavelet=wavelet, level=levels, mode=\"per\")\n",
    "    decomposition_1 = pywt.wavedec(x[:, 1], wavelet=wavelet, level=levels, mode=\"per\")\n",
    "    coefs_0, slices = pywt.coeffs_to_array(decomposition_0)\n",
    "    coefs_1, slices = pywt.coeffs_to_array(decomposition_1)\n",
    "    coefs[:, 0] = np.rint(coefs_0).astype(np.int32)\n",
    "    coefs[:, 1] = np.rint(coefs_1).astype(np.int32)\n",
    "    return coefs, slices\n",
    "\n",
    "def DWT_synthesize_wavelet(coefs, slices, wavelet):\n",
    "    samples = np.empty(coefs.shape, dtype=np.int16)\n",
    "    decomposition_0 = pywt.array_to_coeffs(coefs[:, 0], slices, output_format=\"wavedec\")\n",
    "    decomposition_1 = pywt.array_to_coeffs(coefs[:, 1], slices, output_format=\"wavedec\")\n",
    "    samples[:, 0] = np.rint(pywt.waverec(decomposition_0, wavelet=wavelet, mode=\"per\")).astype(np.int16)\n",
    "    samples[:, 1] = np.rint(pywt.waverec(decomposition_1, wavelet=wavelet, mode=\"per\")).astype(np.int16)\n",
    "    return samples\n",
    "\n",
    "def DWT_RD_curve_wavelet(data, levels, wavelet):\n",
    "    RD_points = []\n",
    "    for q_step in range(16, 1024, 32):\n",
    "        MST_coefs = MST_analyze(data)\n",
    "        DWT_coefs, slices = DWT_analyze_wavelet(MST_coefs, levels, wavelet)\n",
    "        k, y = q_deq(DWT_coefs, q_step)\n",
    "        rate = bit_rate(k[:, 0]) + bit_rate(k[:, 1])\n",
    "        #print(\"BIT RATE DWT: \", rate)\n",
    "        MST_coefs = DWT_synthesize_wavelet(y, slices, wavelet=wavelet)\n",
    "        reconstructed_data = MST_synthesize(MST_coefs)\n",
    "        distortion = RMSE(data, reconstructed_data)\n",
    "        RD_points.append((rate, distortion))\n",
    "    #print(\"Distortion\", distortion)\n",
    "    return RD_points"
   ]
  },
  {
   "cell_type": "code",
   "execution_count": 42,
   "metadata": {},
   "outputs": [],
   "source": [
    "x = x[:65536]"
   ]
  },
  {
   "cell_type": "markdown",
   "metadata": {},
   "source": [
    "### Wavelet election"
   ]
  },
  {
   "cell_type": "code",
   "execution_count": 49,
   "metadata": {},
   "outputs": [
    {
     "data": {
      "image/png": "[encoded data removed]",
      "text/plain": [
       "<Figure size 432x288 with 1 Axes>"
      ]
     },
     "metadata": {
      "needs_background": "light"
     },
     "output_type": "display_data"
    }
   ],
   "source": [
    "#wavelet_name = \"haar\"\n",
    "#wavelet_name = \"db5\"\n",
    "#wavelet_name = \"db20\"\n",
    "#wavelet_name = \"bior2.2\"\n",
    "#wavelet_name = \"rbio2.2\"\n",
    "#wavelet_name = \"coif2\"\n",
    "#wavelet_name = \"db3\"\n",
    "#wavelet_name = \"sym2\"\n",
    "#wavelet_name = \"sym4\"\n",
    "#wavelet_name = \"bior4.4\"\n",
    "#wavelet_name = \"bior4.5\"\n",
    "#wavelet_name = \"rbio1.3\"\n",
    "\n",
    "wavelet = pywt.Wavelet(\"haar\")\n",
    "DWT_RD_points_haar = DWT_RD_curve_wavelet(x, levels = 4, wavelet = wavelet)\n",
    "\n",
    "wavelet = pywt.Wavelet(\"db5\")\n",
    "DWT_RD_points_db5 = DWT_RD_curve_wavelet(x, levels = 4, wavelet = wavelet)\n",
    "\n",
    "wavelet = pywt.Wavelet(\"db20\")\n",
    "DWT_RD_points_db20 = DWT_RD_curve_wavelet(x, levels = 4, wavelet = wavelet)\n",
    "\n",
    "wavelet = pywt.Wavelet(\"bior2.2\")\n",
    "DWT_RD_points_bior22 = DWT_RD_curve_wavelet(x, levels = 4, wavelet = wavelet)\n",
    "\n",
    "wavelet = pywt.Wavelet(\"rbio2.2\")\n",
    "DWT_RD_points_rbio22 = DWT_RD_curve_wavelet(x, levels = 4, wavelet = wavelet)\n",
    "\n",
    "wavelet = pywt.Wavelet(\"coif2\")\n",
    "DWT_RD_points_coif2 = DWT_RD_curve_wavelet(x, levels = 4, wavelet = wavelet)\n",
    "\n",
    "wavelet = pywt.Wavelet(\"db3\")\n",
    "DWT_RD_points_db3 = DWT_RD_curve_wavelet(x, levels = 4, wavelet = wavelet)\n",
    "\n",
    "wavelet = pywt.Wavelet(\"sym2\")\n",
    "DWT_RD_points_sym2 = DWT_RD_curve_wavelet(x, levels = 4, wavelet = wavelet)\n",
    "\n",
    "wavelet = pywt.Wavelet(\"sym4\")\n",
    "DWT_RD_points_sym4 = DWT_RD_curve_wavelet(x, levels = 4, wavelet = wavelet)\n",
    "\n",
    "wavelet = pywt.Wavelet(\"bior4.4\")\n",
    "DWT_RD_points_bior44 = DWT_RD_curve_wavelet(x, levels = 4, wavelet = wavelet)\n",
    "\n",
    "wavelet = pywt.Wavelet(\"db11\")\n",
    "DWT_RD_points_db11 = DWT_RD_curve_wavelet(x, levels = 4, wavelet = wavelet)\n",
    "\n",
    "wavelet = pywt.Wavelet(\"rbio1.3\")\n",
    "DWT_RD_points_rbio13 = DWT_RD_curve_wavelet(x, levels = 4, wavelet = wavelet)\n",
    "\n",
    "\n",
    "plt.title(\"RD Tradeoff\")\n",
    "plt.xlabel(\"Rate\")\n",
    "plt.ylabel(\"RMSE\")\n",
    "#plt.scatter(*zip(*DWT_RD_points_haar), c='g', marker=\".\", label='haar')\n",
    "#plt.scatter(*zip(*DWT_RD_points_db5), c='r', marker=\".\", label='db5')\n",
    "#plt.scatter(*zip(*DWT_RD_points_db20), c='b', marker=\".\", label='db20')\n",
    "#plt.scatter(*zip(*DWT_RD_points_bior22), c='#1f77b4', marker=\".\", label='bior2.2')\n",
    "#plt.scatter(*zip(*DWT_RD_points_rbio22), c='#ff7f0e', marker=\".\", label='rbio2.2')\n",
    "#plt.scatter(*zip(*DWT_RD_points_db3), c='#d62728', marker=\".\", label='db3')\n",
    "#plt.scatter(*zip(*DWT_RD_points_sym2), c='#9467bd', marker=\".\", label='sym2')\n",
    "#plt.scatter(*zip(*DWT_RD_points_sym4), c='#8c564b', marker=\".\", label='sym4')\n",
    "#plt.scatter(*zip(*DWT_RD_points_bior44), c='#e377c2', marker=\".\", label='bior4.4')\n",
    "#plt.scatter(*zip(*DWT_RD_points_db11), c='#7f7f7f', marker=\".\", label='db11')\n",
    "#plt.scatter(*zip(*DWT_RD_points_rbio13), c='#bcbd22', marker=\".\", label='rbio1.3')\n",
    "plt.scatter(*zip(*DWT_RD_points_coif2), c='#2ca02c', marker=\".\", label='coif2')\n",
    "plt.legend(loc='upper right')\n",
    "plt.show()"
   ]
  },
  {
   "cell_type": "markdown",
   "metadata": {},
   "source": [
    "## Final comparison"
   ]
  },
  {
   "cell_type": "markdown",
   "metadata": {},
   "source": [
    "- br_control\n",
    "- intra_frame_decorrelation\n",
    "- temporal_decorrelation_simple\n",
    "- temporal_decorrelate"
   ]
  },
  {
   "cell_type": "code",
   "execution_count": 50,
   "metadata": {},
   "outputs": [],
   "source": [
    "'''\n",
    "q_RD_points = q_RD_curve(x)\n",
    "MST_RD_points = MST_RD_curve(x)\n",
    "DWT_RD_points = DWT_RD_curve(x, levels = 4)\n",
    "DWT_RD_points_extended = DWT_RD_curve_extended(x, levels = 4)\n",
    "'''\n",
    "q_RD_points = q_RD_curve(x[2048:8192])\n",
    "MST_RD_points = MST_RD_curve(x[2048:8192])\n",
    "DWT_RD_points = DWT_RD_curve(x[2048:8192], levels = 4)\n",
    "DWT_RD_points_extended = DWT_RD_curve_extended(x[:10240], levels = 4)"
   ]
  },
  {
   "cell_type": "code",
   "execution_count": 51,
   "metadata": {},
   "outputs": [
    {
     "data": {
      "image/png": "[encoded data removed]",
      "text/plain": [
       "<Figure size 432x288 with 1 Axes>"
      ]
     },
     "metadata": {
      "needs_background": "light"
     },
     "output_type": "display_data"
    }
   ],
   "source": [
    "plt.title(\"RD Tradeoff\")\n",
    "plt.xlabel(\"Rate\")\n",
    "plt.ylabel(\"RMSE\")\n",
    "plt.scatter(*zip(*q_RD_points), c='r', marker=\".\", label='br_control')\n",
    "plt.scatter(*zip(*MST_RD_points), c='b', marker=\".\", label='intra_frame_decorrelation')\n",
    "plt.scatter(*zip(*DWT_RD_points), c='g', marker=\".\", label='temporal_decorrelation_simple')\n",
    "plt.scatter(*zip(*DWT_RD_points_extended), c='y', marker=\".\", label='temporal_decorrelate')\n",
    "plt.legend(loc='upper right')\n",
    "plt.show()"
   ]
  },
  {
   "cell_type": "markdown",
   "metadata": {},
   "source": [
    "### Module execution"
   ]
  },
  {
   "cell_type": "code",
   "execution_count": null,
   "metadata": {},
   "outputs": [],
   "source": [
    "!python ./br_control.py --show_stats"
   ]
  },
  {
   "cell_type": "code",
   "execution_count": null,
   "metadata": {},
   "outputs": [],
   "source": [
    "!python ./intra_frame_decorrelation.py --show_stats"
   ]
  },
  {
   "cell_type": "code",
   "execution_count": null,
   "metadata": {},
   "outputs": [],
   "source": [
    "!python ./temporal_decorrelation_simple.py --show_stats"
   ]
  },
  {
   "cell_type": "code",
   "execution_count": null,
   "metadata": {},
   "outputs": [],
   "source": [
    "!python ./temporal_decorrelate.py --show_stats"
   ]
  }
 ],
 "metadata": {
  "kernelspec": {
   "display_name": "Python 3",
   "language": "python",
   "name": "python3"
  },
  "language_info": {
   "codemirror_mode": {
    "name": "ipython",
    "version": 3
   },
   "file_extension": ".py",
   "mimetype": "text/x-python",
   "name": "python",
   "nbconvert_exporter": "python",
   "pygments_lexer": "ipython3",
   "version": "3.8.5"
  }
 },
 "nbformat": 4,
 "nbformat_minor": 4
}

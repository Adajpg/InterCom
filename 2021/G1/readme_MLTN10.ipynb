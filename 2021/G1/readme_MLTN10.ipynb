{
 "metadata": {
  "language_info": {
   "codemirror_mode": {
    "name": "ipython",
    "version": 3
   },
   "file_extension": ".py",
   "mimetype": "text/x-python",
   "name": "python",
   "nbconvert_exporter": "python",
   "pygments_lexer": "ipython3",
   "version": "3.8.5-final"
  },
  "orig_nbformat": 2,
  "kernelspec": {
   "name": "python3",
   "display_name": "Python 3.8.5 64-bit",
   "metadata": {
    "interpreter": {
     "hash": "d568976d192056dbc40b4f20450c40693209c689431c06ee8cdbba3e96c4577d"
    }
   }
  }
 },
 "nbformat": 4,
 "nbformat_minor": 2,
 "cells": [
  {
   "source": [
    "# Milestone 10\n",
    "## Control de la tasa de bits mediante cuantización\n",
    "\n",
    "Como especifica el [enunciado](https://tecnologias-multimedia.github.io/study_guide/quantization/), usaremos el cuantificador estático de zona muerta, en nuestro código quedará,\n",
    "### - Para cuantizar:"
   ],
   "cell_type": "markdown",
   "metadata": {}
  },
  {
   "cell_type": "code",
   "execution_count": null,
   "metadata": {},
   "outputs": [],
   "source": [
    "def quantize(self, chunk):\n",
    "    return (chunk/self.quantization_step).astype(np.uint16)"
   ]
  },
  {
   "source": [
    "### - Para decuantizar:"
   ],
   "cell_type": "markdown",
   "metadata": {}
  },
  {
   "cell_type": "code",
   "execution_count": null,
   "metadata": {},
   "outputs": [],
   "source": [
    "def dequantize(self, chunk, dequantization_step):\n",
    "    return chunk*dequantization_step"
   ]
  },
  {
   "source": [
    "## Lo importante\n",
    "Lo que se intenta es enviar el mismo número de paquetes aunque haya una mala conexión, comprimiendo los paquetes si es necesario.\n",
    "\n",
    "¿Cómo elegir qué `quantization_step` usar?\n",
    "\n",
    "Se adaptará según el ancho de banda, siendo `quantization_step=1` sin pérdida alguna e irá aumentando la pérdida si el ancho de banda es malo.\n",
    "Entonces cuando:\n",
    "- chunks/s >= 43         -> El ancho de banda ha mejorado, disminuimos `quantization_step` un 20%\n",
    "- chunks/s <= 37         -> El ancho de banda ha empeorado, aumentamos `quantization_step` un 20%\n",
    "- chunks/s entre 38 y 42 -> El ancho de banda no ha variado mucho, no se cambiará `quantization_step`"
   ],
   "cell_type": "markdown",
   "metadata": {}
  },
  {
   "cell_type": "code",
   "execution_count": 13,
   "metadata": {},
   "outputs": [
    {
     "output_type": "stream",
     "name": "stdout",
     "text": [
      "> quantization step: 120\n"
     ]
    }
   ],
   "source": [
    "quantization_step = 100\n",
    "chunk_received = 10\n",
    "elapsed = 1.010\n",
    "chunks_per_second = chunk_received / elapsed\n",
    "if chunks_per_second <= 37:\n",
    "    quantization_step = min(250, int(quantization_step * 1.2))\n",
    "elif chunks_per_second >= 43:\n",
    "    quantization_step = max(1, int(quantization_step * 0.8))\n",
    "print(f\"> quantization step: {quantization_step}\")"
   ]
  },
  {
   "source": [
    "En el ejemplo anterior, se aumenta el `quantization_step`, disminuyendo el número de valores diferentes para la cuantización a costa de reducir la calidad del sonido.\n",
    "\n",
    "\n",
    "\n",
    "- Obtenemos los chunks/s a partir de los paquetes recibidos, no lo hacemos con los enviados ya que con UDP, no podemos saber si los paquetes han sido realmente enviados."
   ],
   "cell_type": "markdown",
   "metadata": {}
  },
  {
   "source": [
    "Adicionalmente, hemos añadido otro hilo para mostrar los stats por pantalla, al ser una implementación tan diferente la que nos facilita el profesor a la nuestra, lo hemos hecho de cero con los datos que hemos considerado relevantes."
   ],
   "cell_type": "markdown",
   "metadata": {}
  },
  {
   "source": [
    "## Demostración\n",
    "\n",
    "[![Demostración](https://i.imgur.com/i79NxCL.png)](https://vimeo.com/user128820769/review/488828352/79bbb6f0ce)\n"
   ],
   "cell_type": "markdown",
   "metadata": {}
  }
 ]
}
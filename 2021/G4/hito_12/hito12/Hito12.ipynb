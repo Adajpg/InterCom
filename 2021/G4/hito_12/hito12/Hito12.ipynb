{
 "cells": [
  {
   "cell_type": "markdown",
   "metadata": {},
   "source": [
    "# Hito 12: Temporal decorrelation in audio signals"
   ]
  },
  {
   "cell_type": "markdown",
   "metadata": {},
   "source": [
    " **Grupo 4:**\n",
    "* Ángel Luis Labraca Miranda\n",
    "* Francisco José López Carrillo\n",
    "* David Valdivia Aguilera\n",
    "* Alejo Martín Arias Filippo"
   ]
  },
  {
   "cell_type": "code",
   "execution_count": 40,
   "metadata": {},
   "outputs": [],
   "source": [
    "import sounddevice as sd\n",
    "import pywt # pip install pywavelets\n",
    "import math\n",
    "import numpy as np\n",
    "%matplotlib inline\n",
    "import matplotlib\n",
    "import matplotlib.pyplot as plt\n",
    "from scipy import signal\n",
    "import zlib\n",
    "import pylab"
   ]
  },
  {
   "cell_type": "code",
   "execution_count": 41,
   "metadata": {},
   "outputs": [],
   "source": [
    "def plot(y, xlabel='', ylabel='', title=''):\n",
    "    fig = plt.figure()\n",
    "    ax = fig.add_subplot(111)\n",
    "    ax.set_title(title)\n",
    "    ax.grid()\n",
    "    ax.xaxis.set_label_text(xlabel)\n",
    "    ax.yaxis.set_label_text(ylabel)\n",
    "    x = np.linspace(0, len(y)-1, len(y))\n",
    "    ax.plot(x, y, '.', markersize=1)\n",
    "    plt.show(block=False)"
   ]
  },
  {
   "cell_type": "markdown",
   "metadata": {},
   "source": [
    "# Recogemos 5 segundos de audio"
   ]
  },
  {
   "cell_type": "code",
   "execution_count": 42,
   "metadata": {},
   "outputs": [
    {
     "name": "stdout",
     "output_type": "stream",
     "text": [
      "Say something!\n",
      "done\n"
     ]
    }
   ],
   "source": [
    "fs = 44100      # Sampling frequency\n",
    "duration = 5.0  # seconds\n",
    "signal = sd.rec(int(duration * fs), samplerate=fs, channels=2, dtype=np.int16)\n",
    "print(\"Say something!\")\n",
    "\n",
    "while sd.wait():\n",
    "    pass\n",
    "print(\"done\")"
   ]
  },
  {
   "cell_type": "markdown",
   "metadata": {},
   "source": [
    "# Modulos para RD "
   ]
  },
  {
   "cell_type": "code",
   "execution_count": 43,
   "metadata": {},
   "outputs": [],
   "source": [
    "\n",
    "def average_energy(x):\n",
    "\n",
    "    #return np.sum(x[:, 0].astype(np.double)*x[:, 0].astype(np.double))/len(x[:, 0]) + \\\n",
    "\n",
    "    #       np.sum(x[:, 1].astype(np.double)*x[:, 1].astype(np.double))/len(x[:, 1])\n",
    "\n",
    "    return np.sum(x.astype(np.double)*x.astype(np.double))/len(x)\n",
    "\n",
    "\n",
    "def RMSE(x, y):\n",
    "\n",
    "    error_signal = x - y\n",
    "\n",
    "    return math.sqrt(average_energy(error_signal))\n",
    "\n",
    "\n",
    "# Based on https://stackoverflow.com/questions/15450192/fastest-way-to-compute-entropy-in-python\n",
    "\n",
    "def entropy_in_bits_per_symbol(sequence_of_symbols):\n",
    "\n",
    "    value, counts = np.unique(sequence_of_symbols, return_counts = True)\n",
    "\n",
    "    probs = counts / len(sequence_of_symbols)\n",
    "\n",
    "    n_classes = np.count_nonzero(probs)\n",
    "\n",
    "    if n_classes <= 1:\n",
    "\n",
    "        return 0\n",
    "\n",
    "    entropy = 0.\n",
    "\n",
    "    for i in probs:\n",
    "\n",
    "        entropy -= i * math.log(i, 2)\n",
    "\n",
    "    return entropy\n",
    "\n",
    "def deadzone_quantizer(x, quantization_step):\n",
    "\n",
    "    k = (x / quantization_step).astype(np.int)\n",
    "\n",
    "    return k\n",
    "\n",
    "\n",
    "def deadzone_dequantizer(k, quantization_step):\n",
    "\n",
    "    y = quantization_step * k\n",
    "\n",
    "    return y\n",
    "\n",
    "\n",
    "def deadzone_qdeq(x, quantization_step):\n",
    "\n",
    "    k = deadzone_quantizer(x, quantization_step)\n",
    "\n",
    "    y = deadzone_dequantizer(k, quantization_step)\n",
    "\n",
    "    return k, y\n",
    "\n",
    "\n",
    "def RD_curve(data, analyze, synthesize):\n",
    "\n",
    "    RD_points = []\n",
    "\n",
    "    for q_step in range(16, 1024, 32):\n",
    "\n",
    "        analyzed_data = analyze(data)\n",
    "\n",
    "        k, y = deadzone_qdeq(analyzed_data, q_step)\n",
    "\n",
    "        rate = entropy_in_bits_per_symbol(k[:, 0]) + entropy_in_bits_per_symbol(k[:, 1])\n",
    "\n",
    "        reconstructed_data = synthesize(y)\n",
    "\n",
    "        distortion = RMSE(data, reconstructed_data)\n",
    "\n",
    "        RD_points.append((rate, distortion))\n",
    "\n",
    "    return RD_points\n",
    "\n",
    "def RD_curve_DWT(data, analyze, synthesize):\n",
    "\n",
    "    RD_points = []\n",
    "\n",
    "    for q_step in range(16, 1024, 32):\n",
    "\n",
    "        analyzed_data,slices = analyze(data)\n",
    "\n",
    "        k, y = deadzone_qdeq(analyzed_data, q_step)\n",
    "\n",
    "        rate = entropy_in_bits_per_symbol(k[:, 0]) + entropy_in_bits_per_symbol(k[:, 1])\n",
    "\n",
    "        reconstructed_data = synthesize(y,slices)\n",
    "\n",
    "        distortion = RMSE(data, reconstructed_data)\n",
    "\n",
    "        RD_points.append((rate, distortion))\n",
    "\n",
    "    return RD_points"
   ]
  },
  {
   "cell_type": "markdown",
   "metadata": {},
   "source": [
    "# Modulos del MST (hito 11)"
   ]
  },
  {
   "cell_type": "code",
   "execution_count": 44,
   "metadata": {},
   "outputs": [],
   "source": [
    "# Analysis transform:\n",
    "#\n",
    "#  [w[0]] = [1  1] [x[0]]\n",
    "#  [w[1]]   [1 -1] [x[1]]\n",
    "\n",
    "def MST_analyze(x):\n",
    "    w = np.empty_like(x, dtype=np.int32)\n",
    "    w[:, 0] = x[:, 0].astype(np.int32) + x[:, 1] # L(ow frequency subband)\n",
    "    w[:, 1] = x[:, 0].astype(np.int32) - x[:, 1] # H(igh frequency subband)\n",
    "    return w\n",
    "\n",
    "# Inverse transform:\n",
    "#\n",
    "#  [x[0]] = 1/2 [1  1] [w[0]]\n",
    "#  [x[1]]       [1 -1] [w[1]]\n",
    "\n",
    "def MST_synthesize(w):\n",
    "    x = np.empty_like(w, dtype=np.int16)\n",
    "    x[:, 0] = (w[:, 0] + w[:, 1])/2 # L(ow frequency subband)\n",
    "    x[:, 1] = (w[:, 0] - w[:, 1])/2 # H(igh frequency subband)\n",
    "    return x\n",
    "\n",
    "# This solution is slower than the previous one because: (1) an array of int32 is allocated,\n",
    "# and (2) the memory locality is smaller (the division by 2 is not performed just when\n",
    "# the samples are accesed).\n",
    "def _MST_synthesize(w):\n",
    "    x = np.empty_like(w, dtype=np.int16)\n",
    "    x[:, :] = MST_analyze(w)\n",
    "    x = x / 2\n",
    "    return x"
   ]
  },
  {
   "cell_type": "markdown",
   "metadata": {},
   "source": [
    "# Configuracion DWT"
   ]
  },
  {
   "cell_type": "code",
   "execution_count": 45,
   "metadata": {},
   "outputs": [],
   "source": [
    "levels = 3         # Number of levels of the DWT\n",
    "\n",
    "filters_name = \"haar\"\n",
    "#filters_name = \"db11\"\n",
    "#filters_name = \"db20\"\n",
    "#filters_name = \"bior2.2\"\n",
    "#filters_name = \"bior3.5\"\n",
    "#filters_name = \"rbio2.2\"\n",
    "wavelet = pywt.Wavelet(filters_name)\n",
    "signal_mode_extension = \"per\"\n",
    "quantization_step = 256\n",
    "chunk_size = 1024\n",
    "chunk_number = 15\n",
    "# Recogemos 3 chunks de audio\n",
    "left_chunk = signal[chunk_size * (chunk_number - 1) : chunk_size * chunk_number]\n",
    "center_chunk = signal[chunk_size * chunk_number : chunk_size * (chunk_number + 1)]\n",
    "right_chunk = signal[chunk_size * (chunk_number + 1) : chunk_size * (chunk_number + 2)]\n",
    "chunks = np.concatenate([left_chunk, center_chunk, right_chunk])"
   ]
  },
  {
   "cell_type": "markdown",
   "metadata": {},
   "source": [
    "### Chunk extendido"
   ]
  },
  {
   "cell_type": "code",
   "execution_count": 46,
   "metadata": {},
   "outputs": [
    {
     "name": "stdout",
     "output_type": "stream",
     "text": [
      "number of samples overlaped with left_chunk = 8\n",
      "number of samples in the center_chunk = 1024\n",
      "number of samples overlaped with right_chunk = 8\n",
      "length of the extended center_chunk = 1040\n"
     ]
    }
   ],
   "source": [
    "number_of_overlaped_samples = 1 << math.ceil(math.log(wavelet.dec_len * levels) / math.log(2))\n",
    "number_of_overlaped_samples\n",
    "last_samples_left_chunk = left_chunk[chunk_size - number_of_overlaped_samples :]\n",
    "first_samples_right_chunk = right_chunk[: number_of_overlaped_samples]\n",
    "extended_chunk = np.concatenate([last_samples_left_chunk, center_chunk, first_samples_right_chunk])\n",
    "print(\"number of samples overlaped with left_chunk =\", len(last_samples_left_chunk))\n",
    "print(\"number of samples in the center_chunk =\", len(center_chunk))\n",
    "print(\"number of samples overlaped with right_chunk =\", len(first_samples_right_chunk))\n",
    "print(\"length of the extended center_chunk =\", len(extended_chunk))"
   ]
  },
  {
   "cell_type": "markdown",
   "metadata": {},
   "source": [
    "# Módulos DWT"
   ]
  },
  {
   "cell_type": "code",
   "execution_count": 47,
   "metadata": {},
   "outputs": [],
   "source": [
    "def DWT(chunk):\n",
    "    coefs = np.empty(chunk.shape, dtype=np.int32)\n",
    "        \n",
    "    decomposition_0 = pywt.wavedec(chunk[:,0],wavelet, level=levels)\n",
    "    decomposition_1 =pywt.wavedec(chunk[:,1],wavelet, level=levels)\n",
    "        \n",
    "    coefs_0, slices = pywt.coeffs_to_array(decomposition_0)\n",
    "    coefs_1, slices = pywt.coeffs_to_array(decomposition_1)\n",
    "        \n",
    "    coefs[:, 0] = np.rint(coefs_0).astype(np.int32)\n",
    "    coefs[:, 1] = np.rint(coefs_1).astype(np.int32)\n",
    "    \n",
    "    return coefs,slices\n",
    "    \n",
    "def iDWT(chunk,slices):\n",
    "    reconstructed_chunk =np.empty((chunk_size+(number_of_overlaped_samples*2),2),dtype=np.int32)\n",
    "        \n",
    "    decomposition_0 =pywt.array_to_coeffs(chunk[:,0],slices,output_format='wavedec')\n",
    "    decomposition_1 =pywt.array_to_coeffs(chunk[:,1],slices,output_format='wavedec')\n",
    "        \n",
    "    reconstructed_chunk[:, 0] = np.rint(pywt.waverec(decomposition_0, wavelet)).astype(np.int16)\n",
    "    reconstructed_chunk[:, 1] = np.rint(pywt.waverec(decomposition_1, wavelet)).astype(np.int16)\n",
    "        \n",
    "    return reconstructed_chunk"
   ]
  },
  {
   "cell_type": "code",
   "execution_count": 48,
   "metadata": {},
   "outputs": [],
   "source": [
    "def sameData(chunk):\n",
    "    return chunk"
   ]
  },
  {
   "cell_type": "markdown",
   "metadata": {},
   "source": [
    "# MST vs DWT vs cuantificacion en RD"
   ]
  },
  {
   "cell_type": "code",
   "execution_count": 49,
   "metadata": {},
   "outputs": [],
   "source": [
    "MST_RD_points = RD_curve(extended_chunk,MST_analyze, MST_synthesize)"
   ]
  },
  {
   "cell_type": "code",
   "execution_count": 50,
   "metadata": {},
   "outputs": [],
   "source": [
    "DWT_RD_points = RD_curve_DWT(extended_chunk,DWT, iDWT)"
   ]
  },
  {
   "cell_type": "code",
   "execution_count": 51,
   "metadata": {},
   "outputs": [],
   "source": [
    "Quan_RD_points = RD_curve(extended_chunk,sameData,sameData)"
   ]
  },
  {
   "cell_type": "code",
   "execution_count": 52,
   "metadata": {},
   "outputs": [
    {
     "data": {
      "image/png": "[encoded data removed]",
      "text/plain": [
       "<Figure size 432x288 with 1 Axes>"
      ]
     },
     "metadata": {
      "needs_background": "light"
     },
     "output_type": "display_data"
    }
   ],
   "source": [
    "plt.title(\"RD Tradeoff\")\n",
    "plt.xlabel(\"Bits per Sample\")\n",
    "plt.ylabel(\"RMSE\")\n",
    "#plt.xscale(\"log\")\n",
    "#plt.yscale(\"log\")\n",
    "plt.scatter(*zip(*Quan_RD_points), c='g', marker=\"*\", label='Quan')\n",
    "plt.scatter(*zip(*MST_RD_points), c='b', marker=\"+\", label='MST')\n",
    "plt.scatter(*zip(*DWT_RD_points), c='r', marker=\"x\", label='DWT')\n",
    "plt.legend(loc='upper right')\n",
    "plt.show()"
   ]
  },
  {
   "cell_type": "markdown",
   "metadata": {},
   "source": [
    "# Combinamos los 3 métodos"
   ]
  },
  {
   "cell_type": "code",
   "execution_count": 53,
   "metadata": {},
   "outputs": [],
   "source": [
    "def DWT_MST(chunk):\n",
    "    chunk,slices = DWT(chunk)\n",
    "    chunk = MST_analyze(chunk)\n",
    "    return chunk,slices\n",
    "def iDWT_MST(chunk,slices):\n",
    "    chunk = MST_synthesize(chunk)\n",
    "    chunk = iDWT(chunk,slices)\n",
    "    return chunk"
   ]
  },
  {
   "cell_type": "markdown",
   "metadata": {},
   "source": [
    "## Comparacion"
   ]
  },
  {
   "cell_type": "code",
   "execution_count": 54,
   "metadata": {},
   "outputs": [],
   "source": [
    "DWT_MST_RD_points = RD_curve_DWT(extended_chunk,DWT_MST,iDWT_MST)"
   ]
  },
  {
   "cell_type": "code",
   "execution_count": 55,
   "metadata": {},
   "outputs": [
    {
     "data": {
      "image/png": "[encoded data removed]",
      "text/plain": [
       "<Figure size 432x288 with 1 Axes>"
      ]
     },
     "metadata": {
      "needs_background": "light"
     },
     "output_type": "display_data"
    },
    {
     "data": {
      "image/png": "[encoded data removed]",
      "text/plain": [
       "<Figure size 432x288 with 1 Axes>"
      ]
     },
     "metadata": {
      "needs_background": "light"
     },
     "output_type": "display_data"
    }
   ],
   "source": [
    "plt.title(\"RD DWT, MST y Quan\")\n",
    "plt.xlabel(\"Bits per Sample\")\n",
    "plt.ylabel(\"RMSE\")\n",
    "#plt.xscale(\"log\")\n",
    "#plt.yscale(\"log\")\n",
    "plt.scatter(*zip(*DWT_MST_RD_points), c='m', marker=\".\", label='DWT_MST')\n",
    "plt.legend(loc='upper right')\n",
    "plt.show()\n",
    "\n",
    "plt.title(\"RD All Together\")\n",
    "plt.xlabel(\"Bits per Sample\")\n",
    "plt.ylabel(\"RMSE\")\n",
    "#plt.xscale(\"log\")\n",
    "#plt.yscale(\"log\")\n",
    "plt.scatter(*zip(*DWT_MST_RD_points), c='m', marker=\".\", label='DWT, MST y Quan')\n",
    "plt.scatter(*zip(*Quan_RD_points), c='g', marker=\"*\", label='Quan')\n",
    "plt.scatter(*zip(*MST_RD_points), c='b', marker=\"+\", label='MST')\n",
    "plt.scatter(*zip(*DWT_RD_points), c='r', marker=\"x\", label='DWT')\n",
    "plt.legend(loc='upper right')\n",
    "plt.show()"
   ]
  },
  {
   "cell_type": "markdown",
   "metadata": {},
   "source": [
    "Como se puede ver la raiz del error cuadratico medio (RMSE) mejora considerablemente conforme aplicamos métodos."
   ]
  },
  {
   "cell_type": "code",
   "execution_count": null,
   "metadata": {},
   "outputs": [],
   "source": []
  },
  {
   "cell_type": "code",
   "execution_count": null,
   "metadata": {},
   "outputs": [],
   "source": []
  }
 ],
 "metadata": {
  "kernelspec": {
   "display_name": "Python 3",
   "language": "python",
   "name": "python3"
  },
  "language_info": {
   "codemirror_mode": {
    "name": "ipython",
    "version": 3
   },
   "file_extension": ".py",
   "mimetype": "text/x-python",
   "name": "python",
   "nbconvert_exporter": "python",
   "pygments_lexer": "ipython3",
   "version": "3.8.5"
  }
 },
 "nbformat": 4,
 "nbformat_minor": 4
}

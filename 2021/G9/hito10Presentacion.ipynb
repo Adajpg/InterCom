{
 "cells": [
  {
   "cell_type": "markdown",
   "metadata": {},
   "source": [
    "#             Milestone 10: Bit-rate Control through Quantization"
   ]
  },
  {
   "cell_type": "markdown",
   "metadata": {},
   "source": [
    "En este hito hemos implementado una nueva clase llamada BR_Control que herede de la clase compress que hemos hecho en el hito anterior"
   ]
  },
  {
   "cell_type": "raw",
   "metadata": {},
   "source": [
    "A continuacion detallamos los cambios mas relevantes que hemos hecho en el codigo "
   ]
  },
  {
   "cell_type": "raw",
   "metadata": {},
   "source": [
    "hemos hecho uso del deadzone_quantizer y del deadzone_dequantizer que nos facilito el profesor "
   ]
  },
  {
   "cell_type": "raw",
   "metadata": {},
   "source": [
    "por lo hemos hemos creado los dos metodos de la siguiente manera, donde quantized_step es nuestra Delta"
   ]
  },
  {
   "cell_type": "raw",
   "metadata": {},
   "source": [
    "El siguiente metodo nos hace la operacion de dividir x/Δ,le cambiamos el tipo y nos lo redondea con metodo round de numpy."
   ]
  },
  {
   "cell_type": "code",
   "execution_count": null,
   "metadata": {},
   "outputs": [],
   "source": [
    "def quantize(self, x, dtype=minimal.Minimal.SAMPLE_TYPE):\n",
    "        k = np.round(x / self.quantized_step).astype(dtype)\n",
    "        return k"
   ]
  },
  {
   "cell_type": "raw",
   "metadata": {},
   "source": [
    "En el metodo dequantize hacemos la operacion de y= Δ*k"
   ]
  },
  {
   "cell_type": "code",
   "execution_count": null,
   "metadata": {},
   "outputs": [],
   "source": [
    "def dequantize(self, k, dtype=minimal.Minimal.SAMPLE_TYPE):\n",
    "        y = (self.quantized_step * k).astype(dtype)\n",
    "        return y  "
   ]
  },
  {
   "cell_type": "raw",
   "metadata": {},
   "source": [
    "Despues modificamos los metodos pack y unpack"
   ]
  },
  {
   "cell_type": "code",
   "execution_count": null,
   "metadata": {},
   "outputs": [],
   "source": [
    "    def pack(self, chunk_number, chunk):\n",
    "        quantized_chunk = self.quantize(chunk)\n",
    "        quantized_chunk = super().pack(chunk_number, quantized_chunk)\n",
    "        self.sent_chunks += 1\n",
    "        return quantized_chunk"
   ]
  },
  {
   "cell_type": "code",
   "execution_count": null,
   "metadata": {},
   "outputs": [],
   "source": [
    "def unpack(self, packed_chunk, dtype=minimal.Minimal.SAMPLE_TYPE):\n",
    "        chunk_number, chunk = super().unpack(packed_chunk, dtype)\n",
    "        chunk = self.dequantize(chunk)\n",
    "        self.received_chunks += 1\n",
    "        return chunk_number, chunk"
   ]
  },
  {
   "cell_type": "raw",
   "metadata": {},
   "source": [
    "En el ultimo punto vamos a hacer uso del hilo de control de flujo de datos para así ir actualizacion el valor del quantizer_step(Δ)"
   ]
  },
  {
   "cell_type": "raw",
   "metadata": {},
   "source": [
    "para ello hemos creado un bucle, que lo que hace es almacenar en la variable lost_packets, los chunks enviados -chunk recibidos"
   ]
  },
  {
   "cell_type": "code",
   "execution_count": null,
   "metadata": {},
   "outputs": [],
   "source": [
    "def bucle(self):\n",
    "        while True:\n",
    "            self.lost_packets = self.sent_chunks - self.received_chunks\n",
    "            #sumamos al delta el valor de dicha variable (de paquetes perdidos ) \n",
    "            self.quantized_step += self.lost_packets\n",
    "            #si el valor de delta es menor que el minimo\n",
    "            if self.quantized_step < minimal.args.minimal_quantized_step:\n",
    "                #delta es igual al minimo\n",
    "                self.quantized_step =  minimal.args.minimal_quantized_step\n",
    "            #inicializamos de nuevo las variables de paquetes enviado y recibidos a 0.     \n",
    "            self.sent_chunks = 0\n",
    "            self.received_chunks = 0\n",
    "            time.sleep(2)  "
   ]
  },
  {
   "cell_type": "code",
   "execution_count": null,
   "metadata": {},
   "outputs": [],
   "source": []
  }
 ],
 "metadata": {
  "kernelspec": {
   "display_name": "Python 3",
   "language": "python",
   "name": "python3"
  },
  "language_info": {
   "codemirror_mode": {
    "name": "ipython",
    "version": 3
   },
   "file_extension": ".py",
   "mimetype": "text/x-python",
   "name": "python",
   "nbconvert_exporter": "python",
   "pygments_lexer": "ipython3",
   "version": "3.8.5"
  }
 },
 "nbformat": 4,
 "nbformat_minor": 4
}

{
 "cells": [
  {
   "cell_type": "markdown",
   "metadata": {},
   "source": [
    "# Milestone 05\n",
    "\n",
    "Hemos realizado la implementación de intercom_minimal.py, de modo que podamos comunicarnos entre dos equipos distintos a traves de la red.\n",
    "\n",
    "Podemos centrarnos en dos aspectos fundamentales: codigo y ejecución\n",
    "\n",
    "### Codigo\n",
    "Para la creación del codigo hemos usado el codigo proporcionado de años anteriores. Los cambios realizados en este codigo han sido principalmente la eliminacion del uso de colas \n",
    "Al principio del codigo se definen las variables necesarias para poder conectar los dos dispositivos. Estos son los puertos, IP's de los dispositivos y el numero de canales de audio."
   ]
  },
  {
   "cell_type": "code",
   "execution_count": null,
   "metadata": {},
   "outputs": [],
   "source": []
  }
 ],
 "metadata": {
  "kernelspec": {
   "display_name": "Python 3",
   "language": "python",
   "name": "python3"
  },
  "language_info": {
   "codemirror_mode": {
    "name": "ipython",
    "version": 3
   },
   "file_extension": ".py",
   "mimetype": "text/x-python",
   "name": "python",
   "nbconvert_exporter": "python",
   "pygments_lexer": "ipython3",
   "version": "3.8.5"
  }
 },
 "nbformat": 4,
 "nbformat_minor": 4
}
